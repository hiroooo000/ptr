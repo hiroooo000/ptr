{
 "cells": [
  {
   "cell_type": "markdown",
   "id": "24e589c1-514d-424b-ba18-08b31907d0fe",
   "metadata": {},
   "source": [
    "# いろいろ実験場"
   ]
  },
  {
   "cell_type": "markdown",
   "id": "afe1fd1e-2791-46b8-9071-60d9f8e4f757",
   "metadata": {},
   "source": [
    "# メモリリークの確認\n",
    "MP4直接読み込み→推論→MP4直接書き込み方式に変更したところ、JupyterNotebookがハングアップする事象が発生。\n",
    "メモリリークしてswapしているかもしれないので、pythonのmemory profilerを使ってみる。\n",
    "\n",
    "* https://watlab-blog.com/2022/03/27/memory-profiler/ "
   ]
  },
  {
   "cell_type": "code",
   "execution_count": 4,
   "id": "ebd8d43c-b446-4561-a35e-3e4c5fa66b56",
   "metadata": {},
   "outputs": [
    {
     "name": "stdout",
     "output_type": "stream",
     "text": [
      "Collecting memory_profiler\n",
      "  Downloading memory_profiler-0.61.0-py3-none-any.whl (31 kB)\n",
      "Requirement already satisfied: psutil in /opt/conda/lib/python3.11/site-packages (from memory_profiler) (5.9.5)\n",
      "Installing collected packages: memory_profiler\n",
      "Successfully installed memory_profiler-0.61.0\n"
     ]
    }
   ],
   "source": [
    "!pip install -U memory_profiler"
   ]
  },
  {
   "cell_type": "code",
   "execution_count": 2,
   "id": "6c929a4e-5a82-476d-a75d-0af4f7e4aadc",
   "metadata": {},
   "outputs": [
    {
     "name": "stdout",
     "output_type": "stream",
     "text": [
      "ERROR: Could not find file /tmp/ipykernel_45146/3635905215.py\n",
      "test\n"
     ]
    }
   ],
   "source": [
    "import cv2\n",
    "import numpy as np\n",
    "from memory_profiler import profile\n",
    "\n",
    "@profile\n",
    "def mp4_to_mp4():\n",
    "    print('test')\n",
    "    try:\n",
    "        cap = cv2.VideoCapture('images/PXL_20240131_010756099.TS.mp4')\n",
    "\n",
    "        if cap.isOpened() is False:\n",
    "            print(\"can not open camera\")\n",
    "            return\n",
    "                \n",
    "        fps = int(cap.get(cv2.CAP_PROP_FPS))\n",
    "        w = int(cap.get(cv2.CAP_PROP_FRAME_WIDTH))\n",
    "        h = int(cap.get(cv2.CAP_PROP_FRAME_HEIGHT))\n",
    "        fourcc = cv2.VideoWriter_fourcc('m', 'p', '4', 'v')\n",
    "        out = cv2.VideoWriter('tmp/output.mp4', fourcc, fps, (w, h))\n",
    "        \n",
    "        while True:\n",
    "            ret, frame = cap.read()\n",
    "            if ret:\n",
    "                out.write(frame)\n",
    "            else:        \n",
    "                break\n",
    "    except Exception as e:\n",
    "        print(e)\n",
    "        \n",
    "    finally:\n",
    "        cap.release()\n",
    "        out.release()\n",
    "\n",
    "mp4_to_mp4()"
   ]
  },
  {
   "cell_type": "code",
   "execution_count": null,
   "id": "7b8031a7-f234-437f-b862-efd8b0d7c463",
   "metadata": {},
   "outputs": [],
   "source": []
  },
  {
   "cell_type": "code",
   "execution_count": null,
   "id": "1b7ca5b1-2000-4f58-a585-99d91dbd65fc",
   "metadata": {},
   "outputs": [],
   "source": []
  },
  {
   "cell_type": "code",
   "execution_count": 1,
   "id": "ca860fae-09a7-45e6-b413-f3dd273b36ec",
   "metadata": {},
   "outputs": [],
   "source": [
    "EDGE_COLOR_TO_RGB = {\n",
    "    'c' : (0, 255, 255),\n",
    "    'm' : (228, 0, 127),\n",
    "    'y' : (255, 255, 0)\n",
    "}\n"
   ]
  },
  {
   "cell_type": "code",
   "execution_count": 4,
   "id": "c743b5d3-3cfb-43a9-b7a5-9ad5f3201f9c",
   "metadata": {},
   "outputs": [
    {
     "data": {
      "text/plain": [
       "(0, 255, 255)"
      ]
     },
     "execution_count": 4,
     "metadata": {},
     "output_type": "execute_result"
    }
   ],
   "source": [
    "EDGE_COLOR_TO_RGB.get('c')\n"
   ]
  },
  {
   "cell_type": "markdown",
   "id": "a6fb756d-a037-402e-baf2-321a6199ae20",
   "metadata": {},
   "source": [
    "# そもそもMP4を直接読み込んで処理すればよかった節"
   ]
  },
  {
   "cell_type": "code",
   "execution_count": 10,
   "id": "552813ea-74e5-4aed-8bc9-9b06000f7f1f",
   "metadata": {},
   "outputs": [
    {
     "name": "stdout",
     "output_type": "stream",
     "text": [
      "[[[ 86  97 106]\n",
      "  [ 86  97 106]\n",
      "  [ 86  97 106]\n",
      "  ...\n",
      "  [ 93 107 113]\n",
      "  [ 93 107 113]\n",
      "  [ 93 107 113]]\n",
      "\n",
      " [[ 86  97 106]\n",
      "  [ 86  97 106]\n",
      "  [ 86  97 106]\n",
      "  ...\n",
      "  [ 93 107 113]\n",
      "  [ 93 107 113]\n",
      "  [ 93 107 113]]\n",
      "\n",
      " [[ 86  97 106]\n",
      "  [ 86  97 106]\n",
      "  [ 86  97 106]\n",
      "  ...\n",
      "  [ 94 108 114]\n",
      "  [ 94 108 114]\n",
      "  [ 94 108 114]]\n",
      "\n",
      " ...\n",
      "\n",
      " [[ 88 140 180]\n",
      "  [ 88 140 180]\n",
      "  [ 88 140 180]\n",
      "  ...\n",
      "  [ 81 104 113]\n",
      "  [ 82 105 114]\n",
      "  [ 80 103 112]]\n",
      "\n",
      " [[ 86 138 178]\n",
      "  [ 87 139 179]\n",
      "  [ 87 139 179]\n",
      "  ...\n",
      "  [ 81 104 113]\n",
      "  [ 81 104 113]\n",
      "  [ 80 103 112]]\n",
      "\n",
      " [[ 84 136 176]\n",
      "  [ 86 138 178]\n",
      "  [ 87 139 179]\n",
      "  ...\n",
      "  [ 81 104 113]\n",
      "  [ 81 104 113]\n",
      "  [ 79 102 111]]]\n"
     ]
    }
   ],
   "source": [
    "import cv2\n",
    "import numpy as np\n",
    " \n",
    "# 0=内蔵カメラ\n",
    "\n",
    "try:\n",
    "    cap = cv2.VideoCapture('images/PXL_20240121_053909046.TS.mp4')\n",
    "    \n",
    "    fps = int(cap.get(cv2.CAP_PROP_FPS))\n",
    "    w = int(cap.get(cv2.CAP_PROP_FRAME_WIDTH))\n",
    "    h = int(cap.get(cv2.CAP_PROP_FRAME_HEIGHT))\n",
    "    fourcc = cv2.VideoWriter_fourcc('m', 'p', '4', 'v')\n",
    "    out = cv2.VideoWriter('tmp/output.mp4', fourcc, fps, (w, h))\n",
    "    \n",
    "    while True:\n",
    "        ret, frame = cap.read()\n",
    "        if ret:\n",
    "            out.write(frame)\n",
    "            print(np.array(frame))\n",
    "            break        \n",
    "        else:        \n",
    "            break\n",
    "    \n",
    "finally:\n",
    "    cap.release()\n",
    "    out.release()"
   ]
  },
  {
   "cell_type": "code",
   "execution_count": 2,
   "id": "15283f1e-2df0-4255-af8b-420368193a56",
   "metadata": {},
   "outputs": [],
   "source": [
    "import cv2\n"
   ]
  },
  {
   "cell_type": "code",
   "execution_count": null,
   "id": "52de3f3a-cd4e-4583-bd38-6392333f1753",
   "metadata": {},
   "outputs": [],
   "source": []
  },
  {
   "cell_type": "code",
   "execution_count": null,
   "id": "f99b3829-4b27-4ad7-bbd8-0f159939ca02",
   "metadata": {},
   "outputs": [],
   "source": []
  },
  {
   "cell_type": "code",
   "execution_count": null,
   "id": "583b79af-768f-4162-b252-c93048c43353",
   "metadata": {},
   "outputs": [],
   "source": []
  },
  {
   "cell_type": "code",
   "execution_count": null,
   "id": "18058e78-5822-40f9-9bd8-ab4823ec893b",
   "metadata": {},
   "outputs": [],
   "source": []
  },
  {
   "cell_type": "code",
   "execution_count": null,
   "id": "33ebc1ff-8d8f-4739-b6b2-1a432272e97d",
   "metadata": {},
   "outputs": [],
   "source": []
  },
  {
   "cell_type": "markdown",
   "id": "5397acc2-83cb-4832-a1f7-4469f7863bc5",
   "metadata": {},
   "source": [
    "# MP4をアニメーションGIFに変換する\n",
    "\n",
    "https://ito-room.com/python-movie2gif/"
   ]
  },
  {
   "cell_type": "code",
   "execution_count": 1,
   "id": "59eda216-7ec1-4e3e-acf5-5bd96161c137",
   "metadata": {},
   "outputs": [
    {
     "name": "stderr",
     "output_type": "stream",
     "text": [
      "2024-01-28 04:34:17.947859: I tensorflow/core/util/port.cc:113] oneDNN custom operations are on. You may see slightly different numerical results due to floating-point round-off errors from different computation orders. To turn them off, set the environment variable `TF_ENABLE_ONEDNN_OPTS=0`.\n",
      "2024-01-28 04:34:18.052040: I external/local_tsl/tsl/cuda/cudart_stub.cc:31] Could not find cuda drivers on your machine, GPU will not be used.\n",
      "2024-01-28 04:34:18.655582: E external/local_xla/xla/stream_executor/cuda/cuda_dnn.cc:9261] Unable to register cuDNN factory: Attempting to register factory for plugin cuDNN when one has already been registered\n",
      "2024-01-28 04:34:18.655747: E external/local_xla/xla/stream_executor/cuda/cuda_fft.cc:607] Unable to register cuFFT factory: Attempting to register factory for plugin cuFFT when one has already been registered\n",
      "2024-01-28 04:34:18.780206: E external/local_xla/xla/stream_executor/cuda/cuda_blas.cc:1515] Unable to register cuBLAS factory: Attempting to register factory for plugin cuBLAS when one has already been registered\n",
      "2024-01-28 04:34:19.034945: I external/local_tsl/tsl/cuda/cudart_stub.cc:31] Could not find cuda drivers on your machine, GPU will not be used.\n",
      "2024-01-28 04:34:19.037723: I tensorflow/core/platform/cpu_feature_guard.cc:182] This TensorFlow binary is optimized to use available CPU instructions in performance-critical operations.\n",
      "To enable the following instructions: AVX2 AVX_VNNI FMA, in other operations, rebuild TensorFlow with the appropriate compiler flags.\n",
      "2024-01-28 04:34:21.739713: W tensorflow/compiler/tf2tensorrt/utils/py_utils.cc:38] TF-TRT Warning: Could not find TensorRT\n"
     ]
    }
   ],
   "source": [
    "import cv2\n",
    "from PIL import Image\n",
    "\n",
    "from os.path import dirname,basename\n",
    "\n",
    "import tensorflow as tf\n",
    "import tensorflow_hub as hub\n",
    "from tensorflow_docs.vis import embed\n"
   ]
  },
  {
   "cell_type": "code",
   "execution_count": 2,
   "id": "fcccb8fb-a3c0-4522-a8bd-8eff9797f3d8",
   "metadata": {},
   "outputs": [],
   "source": [
    "def mp4_to_frames(path):\n",
    "    cap = cv2.VideoCapture(path)\n",
    "    # fps（ミリ秒）を取得\n",
    "    fps = cap.get(cv2.CAP_PROP_FPS)\n",
    "\n",
    "    if not cap.isOpened():\n",
    "        return None,None\n",
    "\n",
    "    frames = []\n",
    "\n",
    "    while True:\n",
    "        ret, frame = cap.read()\n",
    "        if ret:\n",
    "            # BGRをRGBに変換\n",
    "            rgb_image = cv2.cvtColor(frame, cv2.COLOR_BGR2RGB)\n",
    "\n",
    "            pillow_image = Image.fromarray(rgb_image)\n",
    "            frames.append(pillow_image)\n",
    "\n",
    "        else:\n",
    "            return frames,fps"
   ]
  },
  {
   "cell_type": "code",
   "execution_count": 3,
   "id": "8af3c309-657d-4cf9-a95f-1453f636d7c1",
   "metadata": {},
   "outputs": [],
   "source": [
    "def save_gif(frames, save_path, fps):\n",
    "    # fpsはミリ秒なので、1000をfpsで割り、フレーム間隔を計算\n",
    "    dur = int(1000.0 / fps)\n",
    "    # see also: https://pillow.readthedocs.io/en/stable/handbook/image-file-formats.html#gif\n",
    "    frames[0].save(save_path, format='GIF', save_all=True, append_images=frames[1:],duration=dur, loop=0 )"
   ]
  },
  {
   "cell_type": "code",
   "execution_count": 5,
   "id": "95e165ee-eb2c-4f7f-af08-06e6bea95d25",
   "metadata": {},
   "outputs": [],
   "source": [
    "mp4_path = 'images/PXL_20240121_053909046.TS.mp4'\n",
    "\n",
    "save_path = dirname(mp4_path) + '/' + basename(mp4_path).split('.')[0]+'.gif'\n",
    "\n",
    "frames, fps = mp4_to_frames(mp4_path)\n"
   ]
  },
  {
   "cell_type": "code",
   "execution_count": 106,
   "id": "759d4598-350c-46bc-9ab7-1a525815ef1f",
   "metadata": {},
   "outputs": [],
   "source": [
    "def mp4_to_frames2(path, max_frame_per_sec=10, do_resize=True, max_long_side=1000):\n",
    "    cap = cv2.VideoCapture(path)\n",
    "    \n",
    "    if not cap.isOpened():\n",
    "        return None,None\n",
    "    \n",
    "    # fpsを取得\n",
    "    fps = cap.get(cv2.CAP_PROP_FPS)\n",
    "    \n",
    "    # 何枚おきにフレームを取得するか計算\n",
    "    per_frame = math.ceil(fps / max_frame_per_sec)\n",
    "    print(f'per_frame:{per_frame}')\n",
    "    \n",
    "    # フレームの間隔（ミリ秒）を計算\n",
    "    dur = int(1000 / fps * per_frame)\n",
    "    print(f'dur:{dur}')\n",
    "    \n",
    "    frames = []\n",
    "    i = 0\n",
    "    while True:\n",
    "        ret, frame = cap.read()\n",
    "        if ret:\n",
    "            # フレームの間引き\n",
    "            if (i % per_frame) != 0:\n",
    "                i += 1\n",
    "                continue\n",
    "            \n",
    "            # BGRをRGBに変換\n",
    "            rgb_frame = cv2.cvtColor(frame, cv2.COLOR_BGR2RGB)\n",
    "            pillow_image = Image.fromarray(rgb_frame)\n",
    "            \n",
    "            if do_resize:\n",
    "                w, h = cal_resided_w_h(pillow_image.width,pillow_image.height,max_long_side)\n",
    "                pillow_image = pillow_image.resize((w, h))\n",
    "            frames.append(pillow_image)\n",
    "            i += 1\n",
    "        else:\n",
    "            return frames,dur\n",
    "\n",
    "\n",
    "def cal_resided_w_h(w,h,max_long_side):\n",
    "    if w > max_long_side or h > max_long_side:\n",
    "        if w > h:\n",
    "            ret_w = max_long_side\n",
    "            ret_h = int(h * max_long_side / w)\n",
    "        else:\n",
    "            ret_h = max_long_side\n",
    "            ret_w = int(w * max_long_side / h)\n",
    "    else:\n",
    "        ret_w, ret_h = w,h\n",
    "    return ret_w, ret_h\n",
    "\n",
    "\n",
    "    "
   ]
  },
  {
   "cell_type": "code",
   "execution_count": null,
   "id": "0227dcfc-03c2-4516-ae5b-3be70a6a3c13",
   "metadata": {},
   "outputs": [],
   "source": []
  },
  {
   "cell_type": "code",
   "execution_count": 98,
   "id": "596d3009-d071-4271-b262-1807dbf40cee",
   "metadata": {},
   "outputs": [],
   "source": [
    "def save_gif2(frames, save_path, dur):\n",
    "    # see also: https://pillow.readthedocs.io/en/stable/handbook/image-file-formats.html#gif\n",
    "    frames[0].save(save_path, format='GIF', save_all=True, append_images=frames[1:],duration=dur, loop=0 )"
   ]
  },
  {
   "cell_type": "code",
   "execution_count": 107,
   "id": "3b54f95b-24f2-4bf7-ad6e-eeaa2cfa29f5",
   "metadata": {},
   "outputs": [
    {
     "name": "stdout",
     "output_type": "stream",
     "text": [
      "per_frame:3\n",
      "dur:100\n",
      "CPU times: user 11.7 s, sys: 408 ms, total: 12.1 s\n",
      "Wall time: 4.06 s\n"
     ]
    }
   ],
   "source": [
    "%%time\n",
    "# mp4->PillowImageのリストへの変換\n",
    "mp4_path = 'images/PXL_20240121_053909046.TS.mp4'\n",
    "save_path = dirname(mp4path) + '/' + basename(mp4path).split('.')[0]+'.gif'\n",
    "frames, dur = mp4_to_frames2(mp4_path)\n"
   ]
  },
  {
   "cell_type": "code",
   "execution_count": 108,
   "id": "31f84adc-b6d2-4411-bab2-292f0a713f5a",
   "metadata": {},
   "outputs": [
    {
     "name": "stdout",
     "output_type": "stream",
     "text": [
      "CPU times: user 19.2 s, sys: 0 ns, total: 19.2 s\n",
      "Wall time: 19.3 s\n"
     ]
    }
   ],
   "source": [
    "%%time\n",
    "# メモリ上のデータをGIFファイルに変換\n",
    "save_gif2(frames, save_path, dur)"
   ]
  },
  {
   "cell_type": "markdown",
   "id": "b0425fd2-dc27-4f31-9c1e-c54fe624180e",
   "metadata": {},
   "source": [
    "# MP4に保存 moviepy"
   ]
  },
  {
   "cell_type": "code",
   "execution_count": 140,
   "id": "b8cf3c4b-7781-4beb-a043-536f18f65d90",
   "metadata": {},
   "outputs": [],
   "source": [
    "def mp4_to_frames3(path, max_frame_per_sec=10, do_resize=True, max_long_side=1000):\n",
    "    cap = cv2.VideoCapture(path)\n",
    "    \n",
    "    if not cap.isOpened():\n",
    "        return None,None\n",
    "    \n",
    "    # fpsを取得\n",
    "    fps = cap.get(cv2.CAP_PROP_FPS)\n",
    "    \n",
    "    # 何枚おきにフレームを取得するか計算\n",
    "    per_frame = math.ceil(fps / max_frame_per_sec)\n",
    "    print(f'per_frame:{per_frame}')\n",
    "    \n",
    "    # フレームの間隔（ミリ秒）を計算\n",
    "    dur = int(1000 / fps * per_frame)\n",
    "    print(f'dur:{dur}')\n",
    "    \n",
    "    frames = []\n",
    "    i = 0\n",
    "    while True:\n",
    "        ret, frame = cap.read()\n",
    "        if ret:\n",
    "            # フレームの間引き\n",
    "            if (i % per_frame) != 0:\n",
    "                i += 1\n",
    "                continue\n",
    "            \n",
    "            # BGRをRGBに変換\n",
    "            rgb_frame = cv2.cvtColor(frame, cv2.COLOR_BGR2RGB)\n",
    "\n",
    "            i += 1\n",
    "        else:\n",
    "            return frames,dur\n",
    "    "
   ]
  },
  {
   "cell_type": "code",
   "execution_count": 127,
   "id": "56a186e0-6f24-430d-83b1-b5d10a0bbc38",
   "metadata": {},
   "outputs": [
    {
     "name": "stdout",
     "output_type": "stream",
     "text": [
      "per_frame:3\n",
      "dur:100\n"
     ]
    }
   ],
   "source": [
    "frames, dur = mp4_to_frames2(mp4_path)"
   ]
  },
  {
   "cell_type": "code",
   "execution_count": 142,
   "id": "4a179ae5-6e41-49a2-a9b1-9f98db42364e",
   "metadata": {},
   "outputs": [
    {
     "data": {
      "text/plain": [
       "65"
      ]
     },
     "execution_count": 142,
     "metadata": {},
     "output_type": "execute_result"
    }
   ],
   "source": []
  },
  {
   "cell_type": "markdown",
   "id": "38a0e633-e560-43f5-bd89-45e46b94dddd",
   "metadata": {},
   "source": [
    "# moviepyでVideFileClipを使えば、GIF->MP4変換は可能"
   ]
  },
  {
   "cell_type": "code",
   "execution_count": 4,
   "id": "c43f2812-aa37-4549-ba95-94c6d91f2b5d",
   "metadata": {},
   "outputs": [
    {
     "name": "stdout",
     "output_type": "stream",
     "text": [
      "Moviepy - Building video images/PXL_20240121_053909046_gif.mp4.\n",
      "Moviepy - Writing video images/PXL_20240121_053909046_gif.mp4\n",
      "\n"
     ]
    },
    {
     "name": "stderr",
     "output_type": "stream",
     "text": [
      "                                                            \r"
     ]
    },
    {
     "name": "stdout",
     "output_type": "stream",
     "text": [
      "Moviepy - Done !\n",
      "Moviepy - video ready images/PXL_20240121_053909046_gif.mp4\n"
     ]
    }
   ],
   "source": [
    "import moviepy.editor as mp\n",
    "\n",
    "imput_gif='images/PXL_20240121_053909046.gif'\n",
    "output_mp4='images/PXL_20240121_053909046_gif.mp4'\n",
    "\n",
    "with mp.VideoFileClip(imput_gif) as movie_file:\n",
    "    movie_file.write_videofile(output_mp4)\n",
    "    movie_file.close()\n",
    "\n",
    "\n"
   ]
  },
  {
   "cell_type": "markdown",
   "id": "555a4eb2-7639-4399-a659-041b4bbc9a6b",
   "metadata": {},
   "source": [
    "# moviepyでframesからMP4ファイルを直接出力することはできなかった。\n",
    "\n",
    "* https://github.com/Zulko/moviepy/issues/1986\n",
    "* https://github.com/Zulko/moviepy/issues/1990\n",
    "\n",
    "2024/1/28時点でリリース1.03には修正内容は含まれていない。パッチを当てたいが、どこが修正されているのか追えなかった。\n"
   ]
  },
  {
   "cell_type": "code",
   "execution_count": 3,
   "id": "8b68237f-1c62-4138-8496-7af26553f23a",
   "metadata": {},
   "outputs": [
    {
     "name": "stdout",
     "output_type": "stream",
     "text": [
      "Moviepy - Building video tmp/out2.mp4.\n",
      "Moviepy - Writing video tmp/out2.mp4\n",
      "\n"
     ]
    },
    {
     "ename": "TypeError",
     "evalue": "must be real number, not VideoClip",
     "output_type": "error",
     "traceback": [
      "\u001b[0;31m---------------------------------------------------------------------------\u001b[0m",
      "\u001b[0;31mTypeError\u001b[0m                                 Traceback (most recent call last)",
      "Cell \u001b[0;32mIn[3], line 21\u001b[0m\n\u001b[1;32m     19\u001b[0m \u001b[38;5;28;01mwith\u001b[39;00m VideoClip(make_frame, duration \u001b[38;5;241m=\u001b[39m \u001b[38;5;241m10\u001b[39m) \u001b[38;5;28;01mas\u001b[39;00m animation:\n\u001b[1;32m     20\u001b[0m     animation\u001b[38;5;241m.\u001b[39mfps \u001b[38;5;241m=\u001b[39m animation\u001b[38;5;241m.\u001b[39mset_fps(\u001b[38;5;241m30\u001b[39m)\n\u001b[0;32m---> 21\u001b[0m     \u001b[43manimation\u001b[49m\u001b[38;5;241;43m.\u001b[39;49m\u001b[43mwrite_videofile\u001b[49m\u001b[43m(\u001b[49m\u001b[43mfname\u001b[49m\u001b[43m)\u001b[49m\n",
      "File \u001b[0;32m<decorator-gen-73>:2\u001b[0m, in \u001b[0;36mwrite_videofile\u001b[0;34m(self, filename, fps, codec, bitrate, audio, audio_fps, preset, audio_nbytes, audio_codec, audio_bitrate, audio_bufsize, temp_audiofile, rewrite_audio, remove_temp, write_logfile, verbose, threads, ffmpeg_params, logger)\u001b[0m\n",
      "File \u001b[0;32m/opt/conda/lib/python3.11/site-packages/moviepy/decorators.py:54\u001b[0m, in \u001b[0;36mrequires_duration\u001b[0;34m(f, clip, *a, **k)\u001b[0m\n\u001b[1;32m     52\u001b[0m     \u001b[38;5;28;01mraise\u001b[39;00m \u001b[38;5;167;01mValueError\u001b[39;00m(\u001b[38;5;124m\"\u001b[39m\u001b[38;5;124mAttribute \u001b[39m\u001b[38;5;124m'\u001b[39m\u001b[38;5;124mduration\u001b[39m\u001b[38;5;124m'\u001b[39m\u001b[38;5;124m not set\u001b[39m\u001b[38;5;124m\"\u001b[39m)\n\u001b[1;32m     53\u001b[0m \u001b[38;5;28;01melse\u001b[39;00m:\n\u001b[0;32m---> 54\u001b[0m     \u001b[38;5;28;01mreturn\u001b[39;00m \u001b[43mf\u001b[49m\u001b[43m(\u001b[49m\u001b[43mclip\u001b[49m\u001b[43m,\u001b[49m\u001b[43m \u001b[49m\u001b[38;5;241;43m*\u001b[39;49m\u001b[43ma\u001b[49m\u001b[43m,\u001b[49m\u001b[43m \u001b[49m\u001b[38;5;241;43m*\u001b[39;49m\u001b[38;5;241;43m*\u001b[39;49m\u001b[43mk\u001b[49m\u001b[43m)\u001b[49m\n",
      "File \u001b[0;32m<decorator-gen-72>:2\u001b[0m, in \u001b[0;36mwrite_videofile\u001b[0;34m(self, filename, fps, codec, bitrate, audio, audio_fps, preset, audio_nbytes, audio_codec, audio_bitrate, audio_bufsize, temp_audiofile, rewrite_audio, remove_temp, write_logfile, verbose, threads, ffmpeg_params, logger)\u001b[0m\n",
      "File \u001b[0;32m/opt/conda/lib/python3.11/site-packages/moviepy/decorators.py:135\u001b[0m, in \u001b[0;36muse_clip_fps_by_default\u001b[0;34m(f, clip, *a, **k)\u001b[0m\n\u001b[1;32m    130\u001b[0m new_a \u001b[38;5;241m=\u001b[39m [fun(arg) \u001b[38;5;28;01mif\u001b[39;00m (name\u001b[38;5;241m==\u001b[39m\u001b[38;5;124m'\u001b[39m\u001b[38;5;124mfps\u001b[39m\u001b[38;5;124m'\u001b[39m) \u001b[38;5;28;01melse\u001b[39;00m arg\n\u001b[1;32m    131\u001b[0m          \u001b[38;5;28;01mfor\u001b[39;00m (arg, name) \u001b[38;5;129;01min\u001b[39;00m \u001b[38;5;28mzip\u001b[39m(a, names)]\n\u001b[1;32m    132\u001b[0m new_kw \u001b[38;5;241m=\u001b[39m {k: fun(v) \u001b[38;5;28;01mif\u001b[39;00m k\u001b[38;5;241m==\u001b[39m\u001b[38;5;124m'\u001b[39m\u001b[38;5;124mfps\u001b[39m\u001b[38;5;124m'\u001b[39m \u001b[38;5;28;01melse\u001b[39;00m v\n\u001b[1;32m    133\u001b[0m          \u001b[38;5;28;01mfor\u001b[39;00m (k,v) \u001b[38;5;129;01min\u001b[39;00m k\u001b[38;5;241m.\u001b[39mitems()}\n\u001b[0;32m--> 135\u001b[0m \u001b[38;5;28;01mreturn\u001b[39;00m \u001b[43mf\u001b[49m\u001b[43m(\u001b[49m\u001b[43mclip\u001b[49m\u001b[43m,\u001b[49m\u001b[43m \u001b[49m\u001b[38;5;241;43m*\u001b[39;49m\u001b[43mnew_a\u001b[49m\u001b[43m,\u001b[49m\u001b[43m \u001b[49m\u001b[38;5;241;43m*\u001b[39;49m\u001b[38;5;241;43m*\u001b[39;49m\u001b[43mnew_kw\u001b[49m\u001b[43m)\u001b[49m\n",
      "File \u001b[0;32m<decorator-gen-71>:2\u001b[0m, in \u001b[0;36mwrite_videofile\u001b[0;34m(self, filename, fps, codec, bitrate, audio, audio_fps, preset, audio_nbytes, audio_codec, audio_bitrate, audio_bufsize, temp_audiofile, rewrite_audio, remove_temp, write_logfile, verbose, threads, ffmpeg_params, logger)\u001b[0m\n",
      "File \u001b[0;32m/opt/conda/lib/python3.11/site-packages/moviepy/decorators.py:22\u001b[0m, in \u001b[0;36mconvert_masks_to_RGB\u001b[0;34m(f, clip, *a, **k)\u001b[0m\n\u001b[1;32m     20\u001b[0m \u001b[38;5;28;01mif\u001b[39;00m clip\u001b[38;5;241m.\u001b[39mismask:\n\u001b[1;32m     21\u001b[0m     clip \u001b[38;5;241m=\u001b[39m clip\u001b[38;5;241m.\u001b[39mto_RGB()\n\u001b[0;32m---> 22\u001b[0m \u001b[38;5;28;01mreturn\u001b[39;00m \u001b[43mf\u001b[49m\u001b[43m(\u001b[49m\u001b[43mclip\u001b[49m\u001b[43m,\u001b[49m\u001b[43m \u001b[49m\u001b[38;5;241;43m*\u001b[39;49m\u001b[43ma\u001b[49m\u001b[43m,\u001b[49m\u001b[43m \u001b[49m\u001b[38;5;241;43m*\u001b[39;49m\u001b[38;5;241;43m*\u001b[39;49m\u001b[43mk\u001b[49m\u001b[43m)\u001b[49m\n",
      "File \u001b[0;32m/opt/conda/lib/python3.11/site-packages/moviepy/video/VideoClip.py:300\u001b[0m, in \u001b[0;36mVideoClip.write_videofile\u001b[0;34m(self, filename, fps, codec, bitrate, audio, audio_fps, preset, audio_nbytes, audio_codec, audio_bitrate, audio_bufsize, temp_audiofile, rewrite_audio, remove_temp, write_logfile, verbose, threads, ffmpeg_params, logger)\u001b[0m\n\u001b[1;32m    292\u001b[0m \u001b[38;5;28;01mif\u001b[39;00m make_audio:\n\u001b[1;32m    293\u001b[0m     \u001b[38;5;28mself\u001b[39m\u001b[38;5;241m.\u001b[39maudio\u001b[38;5;241m.\u001b[39mwrite_audiofile(audiofile, audio_fps,\n\u001b[1;32m    294\u001b[0m                                audio_nbytes, audio_bufsize,\n\u001b[1;32m    295\u001b[0m                                audio_codec, bitrate\u001b[38;5;241m=\u001b[39maudio_bitrate,\n\u001b[1;32m    296\u001b[0m                                write_logfile\u001b[38;5;241m=\u001b[39mwrite_logfile,\n\u001b[1;32m    297\u001b[0m                                verbose\u001b[38;5;241m=\u001b[39mverbose,\n\u001b[1;32m    298\u001b[0m                                logger\u001b[38;5;241m=\u001b[39mlogger)\n\u001b[0;32m--> 300\u001b[0m \u001b[43mffmpeg_write_video\u001b[49m\u001b[43m(\u001b[49m\u001b[38;5;28;43mself\u001b[39;49m\u001b[43m,\u001b[49m\u001b[43m \u001b[49m\u001b[43mfilename\u001b[49m\u001b[43m,\u001b[49m\u001b[43m \u001b[49m\u001b[43mfps\u001b[49m\u001b[43m,\u001b[49m\u001b[43m \u001b[49m\u001b[43mcodec\u001b[49m\u001b[43m,\u001b[49m\n\u001b[1;32m    301\u001b[0m \u001b[43m                   \u001b[49m\u001b[43mbitrate\u001b[49m\u001b[38;5;241;43m=\u001b[39;49m\u001b[43mbitrate\u001b[49m\u001b[43m,\u001b[49m\n\u001b[1;32m    302\u001b[0m \u001b[43m                   \u001b[49m\u001b[43mpreset\u001b[49m\u001b[38;5;241;43m=\u001b[39;49m\u001b[43mpreset\u001b[49m\u001b[43m,\u001b[49m\n\u001b[1;32m    303\u001b[0m \u001b[43m                   \u001b[49m\u001b[43mwrite_logfile\u001b[49m\u001b[38;5;241;43m=\u001b[39;49m\u001b[43mwrite_logfile\u001b[49m\u001b[43m,\u001b[49m\n\u001b[1;32m    304\u001b[0m \u001b[43m                   \u001b[49m\u001b[43maudiofile\u001b[49m\u001b[38;5;241;43m=\u001b[39;49m\u001b[43maudiofile\u001b[49m\u001b[43m,\u001b[49m\n\u001b[1;32m    305\u001b[0m \u001b[43m                   \u001b[49m\u001b[43mverbose\u001b[49m\u001b[38;5;241;43m=\u001b[39;49m\u001b[43mverbose\u001b[49m\u001b[43m,\u001b[49m\u001b[43m \u001b[49m\u001b[43mthreads\u001b[49m\u001b[38;5;241;43m=\u001b[39;49m\u001b[43mthreads\u001b[49m\u001b[43m,\u001b[49m\n\u001b[1;32m    306\u001b[0m \u001b[43m                   \u001b[49m\u001b[43mffmpeg_params\u001b[49m\u001b[38;5;241;43m=\u001b[39;49m\u001b[43mffmpeg_params\u001b[49m\u001b[43m,\u001b[49m\n\u001b[1;32m    307\u001b[0m \u001b[43m                   \u001b[49m\u001b[43mlogger\u001b[49m\u001b[38;5;241;43m=\u001b[39;49m\u001b[43mlogger\u001b[49m\u001b[43m)\u001b[49m\n\u001b[1;32m    309\u001b[0m \u001b[38;5;28;01mif\u001b[39;00m remove_temp \u001b[38;5;129;01mand\u001b[39;00m make_audio:\n\u001b[1;32m    310\u001b[0m     \u001b[38;5;28;01mif\u001b[39;00m os\u001b[38;5;241m.\u001b[39mpath\u001b[38;5;241m.\u001b[39mexists(audiofile):\n",
      "File \u001b[0;32m/opt/conda/lib/python3.11/site-packages/moviepy/video/io/ffmpeg_writer.py:213\u001b[0m, in \u001b[0;36mffmpeg_write_video\u001b[0;34m(clip, filename, fps, codec, bitrate, preset, withmask, write_logfile, audiofile, verbose, threads, ffmpeg_params, logger)\u001b[0m\n\u001b[1;32m    211\u001b[0m     logfile \u001b[38;5;241m=\u001b[39m \u001b[38;5;28;01mNone\u001b[39;00m\n\u001b[1;32m    212\u001b[0m logger(message\u001b[38;5;241m=\u001b[39m\u001b[38;5;124m'\u001b[39m\u001b[38;5;124mMoviepy - Writing video \u001b[39m\u001b[38;5;132;01m%s\u001b[39;00m\u001b[38;5;130;01m\\n\u001b[39;00m\u001b[38;5;124m'\u001b[39m \u001b[38;5;241m%\u001b[39m filename)\n\u001b[0;32m--> 213\u001b[0m \u001b[38;5;28;01mwith\u001b[39;00m \u001b[43mFFMPEG_VideoWriter\u001b[49m\u001b[43m(\u001b[49m\u001b[43mfilename\u001b[49m\u001b[43m,\u001b[49m\u001b[43m \u001b[49m\u001b[43mclip\u001b[49m\u001b[38;5;241;43m.\u001b[39;49m\u001b[43msize\u001b[49m\u001b[43m,\u001b[49m\u001b[43m \u001b[49m\u001b[43mfps\u001b[49m\u001b[43m,\u001b[49m\u001b[43m \u001b[49m\u001b[43mcodec\u001b[49m\u001b[43m \u001b[49m\u001b[38;5;241;43m=\u001b[39;49m\u001b[43m \u001b[49m\u001b[43mcodec\u001b[49m\u001b[43m,\u001b[49m\n\u001b[1;32m    214\u001b[0m \u001b[43m                            \u001b[49m\u001b[43mpreset\u001b[49m\u001b[38;5;241;43m=\u001b[39;49m\u001b[43mpreset\u001b[49m\u001b[43m,\u001b[49m\u001b[43m \u001b[49m\u001b[43mbitrate\u001b[49m\u001b[38;5;241;43m=\u001b[39;49m\u001b[43mbitrate\u001b[49m\u001b[43m,\u001b[49m\u001b[43m \u001b[49m\u001b[43mlogfile\u001b[49m\u001b[38;5;241;43m=\u001b[39;49m\u001b[43mlogfile\u001b[49m\u001b[43m,\u001b[49m\n\u001b[1;32m    215\u001b[0m \u001b[43m                            \u001b[49m\u001b[43maudiofile\u001b[49m\u001b[38;5;241;43m=\u001b[39;49m\u001b[43maudiofile\u001b[49m\u001b[43m,\u001b[49m\u001b[43m \u001b[49m\u001b[43mthreads\u001b[49m\u001b[38;5;241;43m=\u001b[39;49m\u001b[43mthreads\u001b[49m\u001b[43m,\u001b[49m\n\u001b[1;32m    216\u001b[0m \u001b[43m                            \u001b[49m\u001b[43mffmpeg_params\u001b[49m\u001b[38;5;241;43m=\u001b[39;49m\u001b[43mffmpeg_params\u001b[49m\u001b[43m)\u001b[49m \u001b[38;5;28;01mas\u001b[39;00m writer:\n\u001b[1;32m    218\u001b[0m     nframes \u001b[38;5;241m=\u001b[39m \u001b[38;5;28mint\u001b[39m(clip\u001b[38;5;241m.\u001b[39mduration\u001b[38;5;241m*\u001b[39mfps)\n\u001b[1;32m    220\u001b[0m     \u001b[38;5;28;01mfor\u001b[39;00m t,frame \u001b[38;5;129;01min\u001b[39;00m clip\u001b[38;5;241m.\u001b[39miter_frames(logger\u001b[38;5;241m=\u001b[39mlogger, with_times\u001b[38;5;241m=\u001b[39m\u001b[38;5;28;01mTrue\u001b[39;00m,\n\u001b[1;32m    221\u001b[0m                                     fps\u001b[38;5;241m=\u001b[39mfps, dtype\u001b[38;5;241m=\u001b[39m\u001b[38;5;124m\"\u001b[39m\u001b[38;5;124muint8\u001b[39m\u001b[38;5;124m\"\u001b[39m):\n",
      "File \u001b[0;32m/opt/conda/lib/python3.11/site-packages/moviepy/video/io/ffmpeg_writer.py:88\u001b[0m, in \u001b[0;36mFFMPEG_VideoWriter.__init__\u001b[0;34m(self, filename, size, fps, codec, audiofile, preset, bitrate, withmask, logfile, threads, ffmpeg_params)\u001b[0m\n\u001b[1;32m     77\u001b[0m \u001b[38;5;28mself\u001b[39m\u001b[38;5;241m.\u001b[39mext \u001b[38;5;241m=\u001b[39m \u001b[38;5;28mself\u001b[39m\u001b[38;5;241m.\u001b[39mfilename\u001b[38;5;241m.\u001b[39msplit(\u001b[38;5;124m\"\u001b[39m\u001b[38;5;124m.\u001b[39m\u001b[38;5;124m\"\u001b[39m)[\u001b[38;5;241m-\u001b[39m\u001b[38;5;241m1\u001b[39m]\n\u001b[1;32m     79\u001b[0m \u001b[38;5;66;03m# order is important\u001b[39;00m\n\u001b[1;32m     80\u001b[0m cmd \u001b[38;5;241m=\u001b[39m [\n\u001b[1;32m     81\u001b[0m     get_setting(\u001b[38;5;124m\"\u001b[39m\u001b[38;5;124mFFMPEG_BINARY\u001b[39m\u001b[38;5;124m\"\u001b[39m),\n\u001b[1;32m     82\u001b[0m     \u001b[38;5;124m'\u001b[39m\u001b[38;5;124m-y\u001b[39m\u001b[38;5;124m'\u001b[39m,\n\u001b[1;32m     83\u001b[0m     \u001b[38;5;124m'\u001b[39m\u001b[38;5;124m-loglevel\u001b[39m\u001b[38;5;124m'\u001b[39m, \u001b[38;5;124m'\u001b[39m\u001b[38;5;124merror\u001b[39m\u001b[38;5;124m'\u001b[39m \u001b[38;5;28;01mif\u001b[39;00m logfile \u001b[38;5;241m==\u001b[39m sp\u001b[38;5;241m.\u001b[39mPIPE \u001b[38;5;28;01melse\u001b[39;00m \u001b[38;5;124m'\u001b[39m\u001b[38;5;124minfo\u001b[39m\u001b[38;5;124m'\u001b[39m,\n\u001b[1;32m     84\u001b[0m     \u001b[38;5;124m'\u001b[39m\u001b[38;5;124m-f\u001b[39m\u001b[38;5;124m'\u001b[39m, \u001b[38;5;124m'\u001b[39m\u001b[38;5;124mrawvideo\u001b[39m\u001b[38;5;124m'\u001b[39m,\n\u001b[1;32m     85\u001b[0m     \u001b[38;5;124m'\u001b[39m\u001b[38;5;124m-vcodec\u001b[39m\u001b[38;5;124m'\u001b[39m, \u001b[38;5;124m'\u001b[39m\u001b[38;5;124mrawvideo\u001b[39m\u001b[38;5;124m'\u001b[39m,\n\u001b[1;32m     86\u001b[0m     \u001b[38;5;124m'\u001b[39m\u001b[38;5;124m-s\u001b[39m\u001b[38;5;124m'\u001b[39m, \u001b[38;5;124m'\u001b[39m\u001b[38;5;132;01m%d\u001b[39;00m\u001b[38;5;124mx\u001b[39m\u001b[38;5;132;01m%d\u001b[39;00m\u001b[38;5;124m'\u001b[39m \u001b[38;5;241m%\u001b[39m (size[\u001b[38;5;241m0\u001b[39m], size[\u001b[38;5;241m1\u001b[39m]),\n\u001b[1;32m     87\u001b[0m     \u001b[38;5;124m'\u001b[39m\u001b[38;5;124m-pix_fmt\u001b[39m\u001b[38;5;124m'\u001b[39m, \u001b[38;5;124m'\u001b[39m\u001b[38;5;124mrgba\u001b[39m\u001b[38;5;124m'\u001b[39m \u001b[38;5;28;01mif\u001b[39;00m withmask \u001b[38;5;28;01melse\u001b[39;00m \u001b[38;5;124m'\u001b[39m\u001b[38;5;124mrgb24\u001b[39m\u001b[38;5;124m'\u001b[39m,\n\u001b[0;32m---> 88\u001b[0m     \u001b[38;5;124m'\u001b[39m\u001b[38;5;124m-r\u001b[39m\u001b[38;5;124m'\u001b[39m, \u001b[38;5;124;43m'\u001b[39;49m\u001b[38;5;132;43;01m%.02f\u001b[39;49;00m\u001b[38;5;124;43m'\u001b[39;49m\u001b[43m \u001b[49m\u001b[38;5;241;43m%\u001b[39;49m\u001b[43m \u001b[49m\u001b[43mfps\u001b[49m,\n\u001b[1;32m     89\u001b[0m     \u001b[38;5;124m'\u001b[39m\u001b[38;5;124m-an\u001b[39m\u001b[38;5;124m'\u001b[39m, \u001b[38;5;124m'\u001b[39m\u001b[38;5;124m-i\u001b[39m\u001b[38;5;124m'\u001b[39m, \u001b[38;5;124m'\u001b[39m\u001b[38;5;124m-\u001b[39m\u001b[38;5;124m'\u001b[39m\n\u001b[1;32m     90\u001b[0m ]\n\u001b[1;32m     91\u001b[0m \u001b[38;5;28;01mif\u001b[39;00m audiofile \u001b[38;5;129;01mis\u001b[39;00m \u001b[38;5;129;01mnot\u001b[39;00m \u001b[38;5;28;01mNone\u001b[39;00m:\n\u001b[1;32m     92\u001b[0m     cmd\u001b[38;5;241m.\u001b[39mextend([\n\u001b[1;32m     93\u001b[0m         \u001b[38;5;124m'\u001b[39m\u001b[38;5;124m-i\u001b[39m\u001b[38;5;124m'\u001b[39m, audiofile,\n\u001b[1;32m     94\u001b[0m         \u001b[38;5;124m'\u001b[39m\u001b[38;5;124m-acodec\u001b[39m\u001b[38;5;124m'\u001b[39m, \u001b[38;5;124m'\u001b[39m\u001b[38;5;124mcopy\u001b[39m\u001b[38;5;124m'\u001b[39m\n\u001b[1;32m     95\u001b[0m     ])\n",
      "\u001b[0;31mTypeError\u001b[0m: must be real number, not VideoClip"
     ]
    }
   ],
   "source": [
    "import matplotlib.pyplot as plt\n",
    "from matplotlib.patches import Rectangle\n",
    "from moviepy.editor import VideoClip\n",
    "from moviepy.video.io.bindings import mplfig_to_npimage\n",
    "\n",
    "def make_frame(t):\n",
    "    # 座標(t,t)に長方形を描画\n",
    "    fig, ax = plt.subplots(figsize=(6,6))\n",
    "    ax.add_patch(Rectangle((t, t), 1,2))\n",
    "    ax.set_xlim(0,10)\n",
    "    ax.set_ylim(0,10)\n",
    "    # bitmapに変換. bmp.shape==(432,432,3)\n",
    "    bmp = mplfig_to_npimage(fig)\n",
    "    plt.close()\n",
    "    return bmp\n",
    "\n",
    "fname = \"tmp/out2.mp4\"\n",
    "# 10秒, 30fps の計300フレームからなる動画を生成\n",
    "with VideoClip(make_frame, duration = 10) as animation:\n",
    "    animation.fps = animation.set_fps(30)\n",
    "    animation.write_videofile(fname)\n"
   ]
  },
  {
   "cell_type": "code",
   "execution_count": null,
   "id": "6c667836-e5d9-4b9c-8739-4857a343a2a9",
   "metadata": {},
   "outputs": [],
   "source": []
  },
  {
   "cell_type": "markdown",
   "id": "84f25fd6-3e52-4c25-b276-3b891257567f",
   "metadata": {},
   "source": [
    "# ImageIOでも失敗"
   ]
  },
  {
   "cell_type": "code",
   "execution_count": 133,
   "id": "a1c2739e-12d0-4a16-8fcc-853224bd8817",
   "metadata": {},
   "outputs": [],
   "source": [
    "import imageio\n",
    "import numpy as np"
   ]
  },
  {
   "cell_type": "code",
   "execution_count": 120,
   "id": "73296fcf-309a-4abf-9119-bd1f00278ce3",
   "metadata": {},
   "outputs": [],
   "source": [
    "mp4out = 'tmp/animation.mp4'"
   ]
  },
  {
   "cell_type": "code",
   "execution_count": 131,
   "id": "37878677-44e1-4cee-938e-67a7b01b214b",
   "metadata": {},
   "outputs": [
    {
     "data": {
      "text/plain": [
       "PIL.Image.Image"
      ]
     },
     "execution_count": 131,
     "metadata": {},
     "output_type": "execute_result"
    }
   ],
   "source": [
    "frame = frames[0]\n",
    "type(frame)"
   ]
  },
  {
   "cell_type": "code",
   "execution_count": 139,
   "id": "7006074b-4e59-4003-8ca4-116b30ad427b",
   "metadata": {},
   "outputs": [],
   "source": [
    "imageio.mimwrite('tmp/imageio.gif', frames)"
   ]
  },
  {
   "cell_type": "code",
   "execution_count": 138,
   "id": "1e771abf-1a3f-45f1-9bdc-9be42dccf7d8",
   "metadata": {},
   "outputs": [
    {
     "name": "stdout",
     "output_type": "stream",
     "text": [
      "TIFF - TIFF format [.tif .tiff .stk .lsm]\n",
      "BMP-PIL - Windows Bitmap via Pillow [.bmp]\n",
      "BUFR-PIL - BUFR via Pillow [.bufr]\n",
      "CUR-PIL - Windows Cursor via Pillow [.cur]\n",
      "DCX-PIL - Intel DCX via Pillow [.dcx]\n",
      "DDS-PIL - DirectDraw Surface via Pillow [.dds]\n",
      "DIB-PIL - Windows Bitmap via Pillow []\n",
      "EPS-PIL - Encapsulated Postscript via Pillow [.ps .eps]\n",
      "FITS-PIL - FITS via Pillow [.fit .fits]\n",
      "FLI-PIL - Autodesk FLI/FLC Animation via Pillow [.fli .flc]\n",
      "FPX-PIL - FlashPix via Pillow [.fpx]\n",
      "FTEX-PIL - Texture File Format (IW2:EOC) via Pillow [.ftc .ftu]\n",
      "GBR-PIL - GIMP brush file via Pillow [.gbr]\n",
      "GIF-PIL - Compuserve GIF via Pillow [.gif]\n",
      "GRIB-PIL - GRIB via Pillow [.grib]\n",
      "HDF5-PIL - HDF5 via Pillow [.h5 .hdf]\n",
      "ICNS-PIL - Mac OS icns resource via Pillow [.icns]\n",
      "ICO-PIL - Windows Icon via Pillow [.ico]\n",
      "IM-PIL - IFUNC Image Memory via Pillow [.im]\n",
      "IMT-PIL - IM Tools via Pillow []\n",
      "IPTC-PIL - IPTC/NAA via Pillow [.iim]\n",
      "JPEG-PIL - JPEG (ISO 10918) via Pillow [.jfif .jpe .jpg .jpeg]\n",
      "JPEG2000-PIL - JPEG 2000 (ISO 15444) via Pillow [.jp2 .j2k .jpc .jpf .jpx .j2c]\n",
      "MCIDAS-PIL - McIdas area file via Pillow []\n",
      "MIC-PIL - Microsoft Image Composer via Pillow [.mic]\n",
      "MPO-PIL - MPO (CIPA DC-007) via Pillow [.mpo]\n",
      "MSP-PIL - Windows Paint via Pillow [.msp]\n",
      "PCD-PIL - Kodak PhotoCD via Pillow [.pcd]\n",
      "PCX-PIL - Paintbrush via Pillow [.pcx]\n",
      "PIXAR-PIL - PIXAR raster image via Pillow [.pxr]\n",
      "PNG-PIL - Portable network graphics via Pillow [.png]\n",
      "PPM-PIL - Pbmplus image via Pillow [.pbm .pgm .ppm]\n",
      "PSD-PIL - Adobe Photoshop via Pillow [.psd]\n",
      "SGI-PIL - SGI Image File Format via Pillow [.bw .rgb .rgba .sgi]\n",
      "SPIDER-PIL - Spider 2D image via Pillow []\n",
      "SUN-PIL - Sun Raster File via Pillow [.ras]\n",
      "TGA-PIL - Targa via Pillow [.tga]\n",
      "TIFF-PIL - Adobe TIFF via Pillow [.tif .tiff]\n",
      "WMF-PIL - Windows Metafile via Pillow [.wmf .emf]\n",
      "XBM-PIL - X11 Bitmap via Pillow [.xbm]\n",
      "XPM-PIL - X11 Pixel Map via Pillow [.xpm]\n",
      "XVTHUMB-PIL - XV thumbnail image via Pillow []\n",
      "BSDF - Format based on the Binary Structured Data Format [.bsdf]\n",
      "DICOM - Digital Imaging and Communications in Medicine [.dcm .ct .mri]\n",
      "FEI - FEI-SEM TIFF format [['.tif', '.tiff']]\n",
      "FITS - Flexible Image Transport System (FITS) format [.fits .fit .fts .fz]\n",
      "GDAL - Geospatial Data Abstraction Library [.tiff  .tif .img .ecw .jpg .jpeg]\n",
      "ITK - Insight Segmentation and Registration Toolkit (ITK) format [.gipl .ipl .mha .mhd .nhdr .nia .hdr .nrrd .nii .nii.gz .img .img.gz .vtk .hdf5 .lsm .mnc .mnc2 .mgh .mnc .pic .bmp .jpeg .jpg .png .tiff .tif .dicom .dcm .gdcm]\n",
      "NPZ - Numpy's compressed array format [.npz]\n",
      "SWF - Shockwave flash [.swf]\n",
      "SCREENGRAB - Grab screenshots (Windows and OS X only) [[]]\n",
      "CLIPBOARDGRAB - Grab from clipboard (Windows only) [[]]\n",
      "LYTRO-LFR - Lytro Illum lfr image file [.lfr]\n",
      "LYTRO-ILLUM-RAW - Lytro Illum raw image file [.raw]\n",
      "LYTRO-LFP - Lytro F01 lfp image file [.lfp]\n",
      "LYTRO-F01-RAW - Lytro F01 raw image file [.raw]\n",
      "BMP-FI - Windows or OS/2 Bitmap [.bmp]\n",
      "CUT-FI - Dr. Halo [.cut]\n",
      "DDS-FI - DirectX Surface [.dds]\n",
      "EXR-FI - ILM OpenEXR [.exr]\n",
      "G3-FI - Raw fax format CCITT G.3 [.g3]\n",
      "GIF-FI - Static and animated gif (FreeImage) [.gif]\n",
      "HDR-FI - High Dynamic Range Image [.hdr]\n",
      "ICO-FI - Windows Icon [.ico]\n",
      "IFF-FI - IFF Interleaved Bitmap [.iff .lbm]\n",
      "J2K-FI - JPEG-2000 codestream [.j2k .j2c]\n",
      "JNG-FI - JPEG Network Graphics [.jng]\n",
      "JP2-FI - JPEG-2000 File Format [.jp2]\n",
      "JPEG-FI - JPEG - JFIF Compliant [.jpg .jif .jpeg .jpe]\n",
      "JPEG-XR-FI - JPEG XR image format [.jxr .wdp .hdp]\n",
      "KOALA-FI - C64 Koala Graphics [.koa]\n",
      "PBM-FI - Portable Bitmap (ASCII) [.pbm]\n",
      "PBMRAW-FI - Portable Bitmap (RAW) [.pbm]\n",
      "PCD-FI - Kodak PhotoCD [.pcd]\n",
      "PCX-FI - Zsoft Paintbrush [.pcx]\n",
      "PFM-FI - Portable floatmap [.pfm]\n",
      "PGM-FI - Portable Greymap (ASCII) [.pgm]\n",
      "PGMRAW-FI - Portable Greymap (RAW) [.pgm]\n",
      "PICT-FI - Macintosh PICT [.pct .pict .pic]\n",
      "PNG-FI - Portable Network Graphics [.png]\n",
      "PPM-FI - Portable Pixelmap (ASCII) [.ppm]\n",
      "PPMRAW-FI - Portable Pixelmap (RAW) [.ppm]\n",
      "PSD-FI - Adobe Photoshop [.psd]\n",
      "RAS-FI - Sun Raster Image [.ras]\n",
      "RAW-FI - RAW camera image [.3fr .arw .bay .bmq .cap .cine .cr2 .crw .cs1 .dc2 .dcr .drf .dsc .dng .erf .fff .ia .iiq .k25 .kc2 .kdc .mdc .mef .mos .mrw .nef .nrw .orf .pef .ptx .pxn .qtk .raf .raw .rdc .rw2 .rwl .rwz .sr2 .srf .srw .sti]\n",
      "SGI-FI - SGI Image Format [.sgi .rgb .rgba .bw]\n",
      "TARGA-FI - Truevision Targa [.tga .targa]\n",
      "TIFF-FI - Tagged Image File Format [.tif .tiff]\n",
      "WBMP-FI - Wireless Bitmap [.wap .wbmp .wbm]\n",
      "WEBP-FI - Google WebP image format [.webp]\n",
      "XBM-FI - X11 Bitmap Format [.xbm]\n",
      "XPM-FI - X11 Pixmap Format [.xpm]\n"
     ]
    }
   ],
   "source": [
    "imageio.help()"
   ]
  },
  {
   "cell_type": "code",
   "execution_count": 134,
   "id": "f5e2c674-9b4e-4f9c-a425-a26698e422ba",
   "metadata": {},
   "outputs": [
    {
     "ename": "TypeError",
     "evalue": "TiffWriter.write() got an unexpected keyword argument 'fps'",
     "output_type": "error",
     "traceback": [
      "\u001b[0;31m---------------------------------------------------------------------------\u001b[0m",
      "\u001b[0;31mTypeError\u001b[0m                                 Traceback (most recent call last)",
      "Cell \u001b[0;32mIn[134], line 4\u001b[0m\n\u001b[1;32m      2\u001b[0m \u001b[38;5;28;01mtry\u001b[39;00m:\n\u001b[1;32m      3\u001b[0m     \u001b[38;5;28;01mfor\u001b[39;00m frame \u001b[38;5;129;01min\u001b[39;00m frames:\n\u001b[0;32m----> 4\u001b[0m         \u001b[43mvideo_writer\u001b[49m\u001b[38;5;241;43m.\u001b[39;49m\u001b[43mappend_data\u001b[49m\u001b[43m(\u001b[49m\u001b[43mnp\u001b[49m\u001b[38;5;241;43m.\u001b[39;49m\u001b[43marray\u001b[49m\u001b[43m(\u001b[49m\u001b[43mframe\u001b[49m\u001b[43m)\u001b[49m\u001b[43m)\u001b[49m\n\u001b[1;32m      5\u001b[0m \u001b[38;5;28;01mfinally\u001b[39;00m:\n\u001b[1;32m      6\u001b[0m     video_writer\u001b[38;5;241m.\u001b[39mclose()\n",
      "File \u001b[0;32m/opt/conda/lib/python3.11/site-packages/imageio/v2.py:226\u001b[0m, in \u001b[0;36mLegacyWriter.append_data\u001b[0;34m(self, im, meta)\u001b[0m\n\u001b[1;32m    214\u001b[0m     warnings\u001b[38;5;241m.\u001b[39mwarn(\n\u001b[1;32m    215\u001b[0m         \u001b[38;5;124m\"\u001b[39m\u001b[38;5;124mV3 Plugins currently don\u001b[39m\u001b[38;5;124m'\u001b[39m\u001b[38;5;124mt have a uniform way to\u001b[39m\u001b[38;5;124m\"\u001b[39m\n\u001b[1;32m    216\u001b[0m         \u001b[38;5;124m\"\u001b[39m\u001b[38;5;124m write metadata, so any metadata is ignored.\u001b[39m\u001b[38;5;124m\"\u001b[39m\n\u001b[1;32m    217\u001b[0m     )\n\u001b[1;32m    219\u001b[0m \u001b[38;5;66;03m# total_meta = dict()\u001b[39;00m\n\u001b[1;32m    220\u001b[0m \u001b[38;5;66;03m# if meta is None:\u001b[39;00m\n\u001b[1;32m    221\u001b[0m \u001b[38;5;66;03m#     meta = {}\u001b[39;00m\n\u001b[1;32m    222\u001b[0m \u001b[38;5;66;03m# if hasattr(im, \"meta\") and isinstance(im.meta, dict):\u001b[39;00m\n\u001b[1;32m    223\u001b[0m \u001b[38;5;66;03m#     total_meta.update(im.meta)\u001b[39;00m\n\u001b[1;32m    224\u001b[0m \u001b[38;5;66;03m# total_meta.update(meta)\u001b[39;00m\n\u001b[0;32m--> 226\u001b[0m \u001b[38;5;28;01mreturn\u001b[39;00m \u001b[38;5;28;43mself\u001b[39;49m\u001b[38;5;241;43m.\u001b[39;49m\u001b[43minstance\u001b[49m\u001b[38;5;241;43m.\u001b[39;49m\u001b[43mwrite\u001b[49m\u001b[43m(\u001b[49m\u001b[43mim\u001b[49m\u001b[43m,\u001b[49m\u001b[43m \u001b[49m\u001b[38;5;241;43m*\u001b[39;49m\u001b[38;5;241;43m*\u001b[39;49m\u001b[38;5;28;43mself\u001b[39;49m\u001b[38;5;241;43m.\u001b[39;49m\u001b[43mwrite_args\u001b[49m\u001b[43m)\u001b[49m\n",
      "File \u001b[0;32m/opt/conda/lib/python3.11/site-packages/imageio/plugins/tifffile_v3.py:224\u001b[0m, in \u001b[0;36mTifffilePlugin.write\u001b[0;34m(self, ndimage, is_batch, **kwargs)\u001b[0m\n\u001b[1;32m    221\u001b[0m     ndimage \u001b[38;5;241m=\u001b[39m np\u001b[38;5;241m.\u001b[39masarray(ndimage)[\u001b[38;5;28;01mNone\u001b[39;00m, :]\n\u001b[1;32m    223\u001b[0m \u001b[38;5;28;01mfor\u001b[39;00m image \u001b[38;5;129;01min\u001b[39;00m ndimage:\n\u001b[0;32m--> 224\u001b[0m     \u001b[38;5;28;43mself\u001b[39;49m\u001b[38;5;241;43m.\u001b[39;49m\u001b[43m_fh\u001b[49m\u001b[38;5;241;43m.\u001b[39;49m\u001b[43mwrite\u001b[49m\u001b[43m(\u001b[49m\u001b[43mimage\u001b[49m\u001b[43m,\u001b[49m\u001b[43m \u001b[49m\u001b[38;5;241;43m*\u001b[39;49m\u001b[38;5;241;43m*\u001b[39;49m\u001b[43mkwargs\u001b[49m\u001b[43m)\u001b[49m\n\u001b[1;32m    226\u001b[0m \u001b[38;5;28;01mif\u001b[39;00m \u001b[38;5;28mself\u001b[39m\u001b[38;5;241m.\u001b[39m_request\u001b[38;5;241m.\u001b[39m_uri_type \u001b[38;5;241m==\u001b[39m URI_BYTES:\n\u001b[1;32m    227\u001b[0m     \u001b[38;5;28mself\u001b[39m\u001b[38;5;241m.\u001b[39m_fh\u001b[38;5;241m.\u001b[39mclose()\n",
      "\u001b[0;31mTypeError\u001b[0m: TiffWriter.write() got an unexpected keyword argument 'fps'"
     ]
    }
   ],
   "source": [
    "video_writer = imageio.get_writer(mp4out, fps=10)\n",
    "try:\n",
    "    for frame in frames:\n",
    "        video_writer.append_data(np.array(frame))\n",
    "finally:\n",
    "    video_writer.close()\n",
    "    "
   ]
  },
  {
   "cell_type": "markdown",
   "id": "ac5cc575-a002-44fb-9cf6-225fb582697e",
   "metadata": {},
   "source": [
    "# 以下、雑多難実験の場所"
   ]
  },
  {
   "cell_type": "code",
   "execution_count": 113,
   "id": "cca9c32d-7106-4f5d-817c-d1e89f93b101",
   "metadata": {},
   "outputs": [],
   "source": [
    "image_path = 'images/dance_input.gif'\n",
    "#image_path ='images/pexels-photo-4384679.jpeg'\n",
    "images = tf.io.read_file(image_path)\n",
    "images = tf.image.decode_gif(images)\n"
   ]
  },
  {
   "cell_type": "code",
   "execution_count": 116,
   "id": "de47b3be-b125-473a-893f-7918d49bf7c0",
   "metadata": {},
   "outputs": [
    {
     "data": {
      "text/plain": [
       "100"
      ]
     },
     "execution_count": 116,
     "metadata": {},
     "output_type": "execute_result"
    }
   ],
   "source": [
    "Image.open(image_path).info['duration']"
   ]
  },
  {
   "cell_type": "code",
   "execution_count": null,
   "id": "6c7881c3-576f-472c-bfe8-eec4ca343768",
   "metadata": {},
   "outputs": [],
   "source": []
  },
  {
   "cell_type": "code",
   "execution_count": 119,
   "id": "4db793a8-f378-469d-bd90-7488c08465be",
   "metadata": {},
   "outputs": [
    {
     "data": {
      "text/plain": [
       "6"
      ]
     },
     "execution_count": 119,
     "metadata": {},
     "output_type": "execute_result"
    }
   ],
   "source": [
    "import math\n",
    "\n",
    "\n",
    "interval = math.ceil(15/10)\n",
    "dur = 1000/fps * interval\n",
    "0 % 2\n",
    "i = 0\n",
    "i +=3\n",
    "\n",
    "i +=3\n",
    "i"
   ]
  }
 ],
 "metadata": {
  "kernelspec": {
   "display_name": "Python 3 (ipykernel)",
   "language": "python",
   "name": "python3"
  },
  "language_info": {
   "codemirror_mode": {
    "name": "ipython",
    "version": 3
   },
   "file_extension": ".py",
   "mimetype": "text/x-python",
   "name": "python",
   "nbconvert_exporter": "python",
   "pygments_lexer": "ipython3",
   "version": "3.11.6"
  },
  "widgets": {
   "application/vnd.jupyter.widget-state+json": {
    "state": {},
    "version_major": 2,
    "version_minor": 0
   }
  }
 },
 "nbformat": 4,
 "nbformat_minor": 5
}
