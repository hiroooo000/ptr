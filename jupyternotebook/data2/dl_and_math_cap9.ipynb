{
 "cells": [
  {
   "cell_type": "markdown",
   "id": "e1f287fe-4af2-40db-bcbf-569f6734587b",
   "metadata": {},
   "source": [
    "# ディープラーニングと数学の9章　ロジスティック回帰 多値分類"
   ]
  },
  {
   "cell_type": "code",
   "execution_count": 1,
   "id": "028bd2b9-f067-458f-8077-8488ea222361",
   "metadata": {},
   "outputs": [],
   "source": [
    "import numpy as np\n",
    "import matplotlib.pyplot as plt\n",
    "\n",
    "import pandas as pd\n",
    "\n",
    "# 学習／評価データの分離\n",
    "from sklearn.model_selection import train_test_split\n",
    "# 精度計算\n",
    "from sklearn.metrics import accuracy_score\n",
    "\n"
   ]
  },
  {
   "cell_type": "markdown",
   "id": "74a2bcf9-8872-4a82-aef3-e1f5d8143f5a",
   "metadata": {},
   "source": [
    "## データ読み込み、前処理"
   ]
  },
  {
   "cell_type": "code",
   "execution_count": 12,
   "id": "3d85aeb2-dd49-4384-a8a3-0ab80467810a",
   "metadata": {},
   "outputs": [
    {
     "data": {
      "text/html": [
       "<div>\n",
       "<style scoped>\n",
       "    .dataframe tbody tr th:only-of-type {\n",
       "        vertical-align: middle;\n",
       "    }\n",
       "\n",
       "    .dataframe tbody tr th {\n",
       "        vertical-align: top;\n",
       "    }\n",
       "\n",
       "    .dataframe thead th {\n",
       "        text-align: right;\n",
       "    }\n",
       "</style>\n",
       "<table border=\"1\" class=\"dataframe\">\n",
       "  <thead>\n",
       "    <tr style=\"text-align: right;\">\n",
       "      <th></th>\n",
       "      <th>sepal_length</th>\n",
       "      <th>sepal_width</th>\n",
       "      <th>petal_length</th>\n",
       "      <th>petal_width</th>\n",
       "      <th>iris_class</th>\n",
       "      <th>class_code</th>\n",
       "    </tr>\n",
       "  </thead>\n",
       "  <tbody>\n",
       "    <tr>\n",
       "      <th>0</th>\n",
       "      <td>5.1</td>\n",
       "      <td>3.5</td>\n",
       "      <td>1.4</td>\n",
       "      <td>0.2</td>\n",
       "      <td>Iris-setosa</td>\n",
       "      <td>0</td>\n",
       "    </tr>\n",
       "    <tr>\n",
       "      <th>1</th>\n",
       "      <td>4.9</td>\n",
       "      <td>3.0</td>\n",
       "      <td>1.4</td>\n",
       "      <td>0.2</td>\n",
       "      <td>Iris-setosa</td>\n",
       "      <td>0</td>\n",
       "    </tr>\n",
       "    <tr>\n",
       "      <th>2</th>\n",
       "      <td>4.7</td>\n",
       "      <td>3.2</td>\n",
       "      <td>1.3</td>\n",
       "      <td>0.2</td>\n",
       "      <td>Iris-setosa</td>\n",
       "      <td>0</td>\n",
       "    </tr>\n",
       "    <tr>\n",
       "      <th>3</th>\n",
       "      <td>4.6</td>\n",
       "      <td>3.1</td>\n",
       "      <td>1.5</td>\n",
       "      <td>0.2</td>\n",
       "      <td>Iris-setosa</td>\n",
       "      <td>0</td>\n",
       "    </tr>\n",
       "    <tr>\n",
       "      <th>4</th>\n",
       "      <td>5.0</td>\n",
       "      <td>3.6</td>\n",
       "      <td>1.4</td>\n",
       "      <td>0.2</td>\n",
       "      <td>Iris-setosa</td>\n",
       "      <td>0</td>\n",
       "    </tr>\n",
       "    <tr>\n",
       "      <th>...</th>\n",
       "      <td>...</td>\n",
       "      <td>...</td>\n",
       "      <td>...</td>\n",
       "      <td>...</td>\n",
       "      <td>...</td>\n",
       "      <td>...</td>\n",
       "    </tr>\n",
       "    <tr>\n",
       "      <th>145</th>\n",
       "      <td>6.7</td>\n",
       "      <td>3.0</td>\n",
       "      <td>5.2</td>\n",
       "      <td>2.3</td>\n",
       "      <td>Iris-virginica</td>\n",
       "      <td>2</td>\n",
       "    </tr>\n",
       "    <tr>\n",
       "      <th>146</th>\n",
       "      <td>6.3</td>\n",
       "      <td>2.5</td>\n",
       "      <td>5.0</td>\n",
       "      <td>1.9</td>\n",
       "      <td>Iris-virginica</td>\n",
       "      <td>2</td>\n",
       "    </tr>\n",
       "    <tr>\n",
       "      <th>147</th>\n",
       "      <td>6.5</td>\n",
       "      <td>3.0</td>\n",
       "      <td>5.2</td>\n",
       "      <td>2.0</td>\n",
       "      <td>Iris-virginica</td>\n",
       "      <td>2</td>\n",
       "    </tr>\n",
       "    <tr>\n",
       "      <th>148</th>\n",
       "      <td>6.2</td>\n",
       "      <td>3.4</td>\n",
       "      <td>5.4</td>\n",
       "      <td>2.3</td>\n",
       "      <td>Iris-virginica</td>\n",
       "      <td>2</td>\n",
       "    </tr>\n",
       "    <tr>\n",
       "      <th>149</th>\n",
       "      <td>5.9</td>\n",
       "      <td>3.0</td>\n",
       "      <td>5.1</td>\n",
       "      <td>1.8</td>\n",
       "      <td>Iris-virginica</td>\n",
       "      <td>2</td>\n",
       "    </tr>\n",
       "  </tbody>\n",
       "</table>\n",
       "<p>150 rows × 6 columns</p>\n",
       "</div>"
      ],
      "text/plain": [
       "     sepal_length  sepal_width  petal_length  petal_width      iris_class  \\\n",
       "0             5.1          3.5           1.4          0.2     Iris-setosa   \n",
       "1             4.9          3.0           1.4          0.2     Iris-setosa   \n",
       "2             4.7          3.2           1.3          0.2     Iris-setosa   \n",
       "3             4.6          3.1           1.5          0.2     Iris-setosa   \n",
       "4             5.0          3.6           1.4          0.2     Iris-setosa   \n",
       "..            ...          ...           ...          ...             ...   \n",
       "145           6.7          3.0           5.2          2.3  Iris-virginica   \n",
       "146           6.3          2.5           5.0          1.9  Iris-virginica   \n",
       "147           6.5          3.0           5.2          2.0  Iris-virginica   \n",
       "148           6.2          3.4           5.4          2.3  Iris-virginica   \n",
       "149           5.9          3.0           5.1          1.8  Iris-virginica   \n",
       "\n",
       "     class_code  \n",
       "0             0  \n",
       "1             0  \n",
       "2             0  \n",
       "3             0  \n",
       "4             0  \n",
       "..          ...  \n",
       "145           2  \n",
       "146           2  \n",
       "147           2  \n",
       "148           2  \n",
       "149           2  \n",
       "\n",
       "[150 rows x 6 columns]"
      ]
     },
     "execution_count": 12,
     "metadata": {},
     "output_type": "execute_result"
    }
   ],
   "source": [
    "iris_row_df = pd.read_csv('dataset/iris.data')\n",
    "iris_df = iris_row_df.assign(class_code = iris_row_df.iris_class.apply( lambda x: 0 if x == \"Iris-setosa\" else 1 if x == \"Iris-versicolor\" else 2 ) )\n",
    "\n",
    "iris_df"
   ]
  },
  {
   "cell_type": "code",
   "execution_count": 13,
   "id": "af28e8ef-ba76-4b42-8062-af4bad7109ed",
   "metadata": {},
   "outputs": [
    {
     "name": "stdout",
     "output_type": "stream",
     "text": [
      "Axes(0.125,0.11;0.775x0.77)\n"
     ]
    },
    {
     "data": {
      "image/png": "[encoded data removed]",
      "text/plain": [
       "<Figure size 640x480 with 1 Axes>"
      ]
     },
     "metadata": {},
     "output_type": "display_data"
    }
   ],
   "source": [
    "# 散布図に可視化\n",
    "df_class0 = iris_df.query(\"class_code == 0\")\n",
    "df_class1 = iris_df.query(\"class_code == 1\")\n",
    "df_class2 = iris_df.query(\"class_code == 2\")\n",
    "\n",
    "ax = df_class0.plot.scatter(x=\"sepal_length\", y=\"petal_length\", c='b', alpha=0.5, label='class0')\n",
    "ax = df_class1.plot.scatter(x=\"sepal_length\", y=\"petal_length\", c='r', alpha=0.5, label='class1',ax=ax)\n",
    "ax = df_class2.plot.scatter(x=\"sepal_length\", y=\"petal_length\", c='g', alpha=0.5, label='class2',ax=ax)\n",
    "\n",
    "print(ax)"
   ]
  },
  {
   "cell_type": "code",
   "execution_count": 27,
   "id": "c08bd1c1-e27d-457f-860f-c10e873bb54e",
   "metadata": {},
   "outputs": [
    {
     "name": "stdout",
     "output_type": "stream",
     "text": [
      "train_test_split stratify=yt\n",
      "yt[0] \t37\n",
      "yt[1] \t37\n",
      "yt[2] \t38\n"
     ]
    }
   ],
   "source": [
    "# データ加工\n",
    "# x行列の作成\n",
    "x = iris_df.loc[:,[\"sepal_length\",\"petal_length\"]].to_numpy()\n",
    "yt = iris_df.class_code.to_numpy()\n",
    "\n",
    "M = x.shape[0]\n",
    "ones = np.ones((M,1))\n",
    "x = np.hstack([ones,x])\n",
    "\n",
    "# 学習データ/評価データの分離\n",
    "x_train, x_test, y_train, y_test = train_test_split(x, yt, stratify=yt)\n",
    "print(f'train_test_split stratify=yt')\n",
    "print(f'yt[0] \\t{(y_train == 0).sum()}')\n",
    "print(f'yt[1] \\t{(y_train == 1).sum()}')\n",
    "print(f'yt[2] \\t{(y_train == 2).sum()}')"
   ]
  },
  {
   "cell_type": "markdown",
   "id": "5fef6db3-f653-4433-a490-dd73b711f70e",
   "metadata": {},
   "source": [
    "#### (参考)train_test_splitのstratify引数の挙動。端的には、グループ化してデータを分離できる。\n",
    "\n",
    "```python\n",
    "x_train, x_test, y_train, y_test = train_test_split(x, yt)\n",
    "print(f'train_test_split stratify=none(default)')\n",
    "print(f'yt[0] \\t{(y_train == 0).sum()}')\n",
    "print(f'yt[1] \\t{(y_train == 1).sum()}')\n",
    "print(f'yt[2] \\t{(y_train == 2).sum()}')\n",
    "\n",
    "x_train, x_test, y_train, y_test = train_test_split(x, yt, stratify=yt)\n",
    "print(f'train_test_split stratify=yt')\n",
    "print(f'yt[0] \\t{(y_train == 0).sum()}')\n",
    "print(f'yt[1] \\t{(y_train == 1).sum()}')\n",
    "print(f'yt[2] \\t{(y_train == 2).sum()}')\n",
    "\n",
    "train_test_split stratify=none(default)\r\n",
    "yt[0] \t39\r\n",
    "yt[1] \t38\r\n",
    "yt[2] \t35\r\n",
    "train_test_split stratify=yt\r\n",
    "yt[0] \t37\r\n",
    "yt[1] \t37\r\n",
    "yt[2] \t38\r\n",
    "\n",
    "```\n",
    "\n"
   ]
  },
  {
   "cell_type": "code",
   "execution_count": 56,
   "id": "1ca4c42f-653e-407e-bc38-b4ab6b3a478d",
   "metadata": {},
   "outputs": [
    {
     "ename": "AttributeError",
     "evalue": "'numpy.ndarray' object has no attribute 'nunique'",
     "output_type": "error",
     "traceback": [
      "\u001b[0;31m---------------------------------------------------------------------------\u001b[0m",
      "\u001b[0;31mAttributeError\u001b[0m                            Traceback (most recent call last)",
      "Cell \u001b[0;32mIn[56], line 5\u001b[0m\n\u001b[1;32m      1\u001b[0m \u001b[38;5;66;03m# 学習フェーズ\u001b[39;00m\n\u001b[1;32m      4\u001b[0m D \u001b[38;5;241m=\u001b[39m x\u001b[38;5;241m.\u001b[39mshape[\u001b[38;5;241m1\u001b[39m]\n\u001b[0;32m----> 5\u001b[0m w \u001b[38;5;241m=\u001b[39m np\u001b[38;5;241m.\u001b[39mones((\u001b[43myt\u001b[49m\u001b[38;5;241;43m.\u001b[39;49m\u001b[43mnunique\u001b[49m(),D))\n\u001b[1;32m      7\u001b[0m \u001b[38;5;28mprint\u001b[39m(w)\n\u001b[1;32m      8\u001b[0m \u001b[38;5;28mprint\u001b[39m(x_train[\u001b[38;5;241m0\u001b[39m:\u001b[38;5;241m5\u001b[39m,:])\n",
      "\u001b[0;31mAttributeError\u001b[0m: 'numpy.ndarray' object has no attribute 'nunique'"
     ]
    }
   ],
   "source": [
    "# 学習フェーズ\n",
    "\n",
    "\n",
    "D = x.shape[1]\n",
    "w = np.ones((yt.nunique(),D))\n",
    "\n",
    "print(w)\n",
    "print(x_train[0:5,:])\n",
    "print((w @ x_train)[0:5,:])\n",
    "#def u()\n",
    "    \n",
    "\n",
    "#def softmax\n",
    "\n",
    "#def pred(x,w):\n",
    "#    return softmax(x,w)\n",
    "\n"
   ]
  }
 ],
 "metadata": {
  "kernelspec": {
   "display_name": "Python 3 (ipykernel)",
   "language": "python",
   "name": "python3"
  },
  "language_info": {
   "codemirror_mode": {
    "name": "ipython",
    "version": 3
   },
   "file_extension": ".py",
   "mimetype": "text/x-python",
   "name": "python",
   "nbconvert_exporter": "python",
   "pygments_lexer": "ipython3",
   "version": "3.11.6"
  },
  "widgets": {
   "application/vnd.jupyter.widget-state+json": {
    "state": {},
    "version_major": 2,
    "version_minor": 0
   }
  }
 },
 "nbformat": 4,
 "nbformat_minor": 5
}
