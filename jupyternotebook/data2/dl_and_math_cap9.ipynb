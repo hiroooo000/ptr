{
 "cells": [
  {
   "cell_type": "markdown",
   "id": "e1f287fe-4af2-40db-bcbf-569f6734587b",
   "metadata": {},
   "source": [
    "# ディープラーニングと数学の9章　ロジスティック回帰 多値分類"
   ]
  },
  {
   "cell_type": "code",
   "execution_count": 2,
   "id": "028bd2b9-f067-458f-8077-8488ea222361",
   "metadata": {},
   "outputs": [],
   "source": [
    "import numpy as np\n",
    "import matplotlib.pyplot as plt\n",
    "\n",
    "import pandas as pd\n",
    "\n",
    "# 学習／評価データの分離\n",
    "from sklearn.model_selection import train_test_split\n",
    "# 精度計算\n",
    "from sklearn.metrics import accuracy_score\n",
    "# One Hoe Vector生成\n",
    "from sklearn.preprocessing import OneHotEncoder\n"
   ]
  },
  {
   "cell_type": "markdown",
   "id": "74a2bcf9-8872-4a82-aef3-e1f5d8143f5a",
   "metadata": {},
   "source": [
    "## データ読み込み、前処理"
   ]
  },
  {
   "cell_type": "code",
   "execution_count": 3,
   "id": "3d85aeb2-dd49-4384-a8a3-0ab80467810a",
   "metadata": {},
   "outputs": [
    {
     "data": {
      "text/html": [
       "<div>\n",
       "<style scoped>\n",
       "    .dataframe tbody tr th:only-of-type {\n",
       "        vertical-align: middle;\n",
       "    }\n",
       "\n",
       "    .dataframe tbody tr th {\n",
       "        vertical-align: top;\n",
       "    }\n",
       "\n",
       "    .dataframe thead th {\n",
       "        text-align: right;\n",
       "    }\n",
       "</style>\n",
       "<table border=\"1\" class=\"dataframe\">\n",
       "  <thead>\n",
       "    <tr style=\"text-align: right;\">\n",
       "      <th></th>\n",
       "      <th>sepal_length</th>\n",
       "      <th>sepal_width</th>\n",
       "      <th>petal_length</th>\n",
       "      <th>petal_width</th>\n",
       "      <th>iris_class</th>\n",
       "      <th>class_code</th>\n",
       "    </tr>\n",
       "  </thead>\n",
       "  <tbody>\n",
       "    <tr>\n",
       "      <th>0</th>\n",
       "      <td>5.1</td>\n",
       "      <td>3.5</td>\n",
       "      <td>1.4</td>\n",
       "      <td>0.2</td>\n",
       "      <td>Iris-setosa</td>\n",
       "      <td>0</td>\n",
       "    </tr>\n",
       "    <tr>\n",
       "      <th>1</th>\n",
       "      <td>4.9</td>\n",
       "      <td>3.0</td>\n",
       "      <td>1.4</td>\n",
       "      <td>0.2</td>\n",
       "      <td>Iris-setosa</td>\n",
       "      <td>0</td>\n",
       "    </tr>\n",
       "    <tr>\n",
       "      <th>2</th>\n",
       "      <td>4.7</td>\n",
       "      <td>3.2</td>\n",
       "      <td>1.3</td>\n",
       "      <td>0.2</td>\n",
       "      <td>Iris-setosa</td>\n",
       "      <td>0</td>\n",
       "    </tr>\n",
       "    <tr>\n",
       "      <th>3</th>\n",
       "      <td>4.6</td>\n",
       "      <td>3.1</td>\n",
       "      <td>1.5</td>\n",
       "      <td>0.2</td>\n",
       "      <td>Iris-setosa</td>\n",
       "      <td>0</td>\n",
       "    </tr>\n",
       "    <tr>\n",
       "      <th>4</th>\n",
       "      <td>5.0</td>\n",
       "      <td>3.6</td>\n",
       "      <td>1.4</td>\n",
       "      <td>0.2</td>\n",
       "      <td>Iris-setosa</td>\n",
       "      <td>0</td>\n",
       "    </tr>\n",
       "    <tr>\n",
       "      <th>...</th>\n",
       "      <td>...</td>\n",
       "      <td>...</td>\n",
       "      <td>...</td>\n",
       "      <td>...</td>\n",
       "      <td>...</td>\n",
       "      <td>...</td>\n",
       "    </tr>\n",
       "    <tr>\n",
       "      <th>145</th>\n",
       "      <td>6.7</td>\n",
       "      <td>3.0</td>\n",
       "      <td>5.2</td>\n",
       "      <td>2.3</td>\n",
       "      <td>Iris-virginica</td>\n",
       "      <td>2</td>\n",
       "    </tr>\n",
       "    <tr>\n",
       "      <th>146</th>\n",
       "      <td>6.3</td>\n",
       "      <td>2.5</td>\n",
       "      <td>5.0</td>\n",
       "      <td>1.9</td>\n",
       "      <td>Iris-virginica</td>\n",
       "      <td>2</td>\n",
       "    </tr>\n",
       "    <tr>\n",
       "      <th>147</th>\n",
       "      <td>6.5</td>\n",
       "      <td>3.0</td>\n",
       "      <td>5.2</td>\n",
       "      <td>2.0</td>\n",
       "      <td>Iris-virginica</td>\n",
       "      <td>2</td>\n",
       "    </tr>\n",
       "    <tr>\n",
       "      <th>148</th>\n",
       "      <td>6.2</td>\n",
       "      <td>3.4</td>\n",
       "      <td>5.4</td>\n",
       "      <td>2.3</td>\n",
       "      <td>Iris-virginica</td>\n",
       "      <td>2</td>\n",
       "    </tr>\n",
       "    <tr>\n",
       "      <th>149</th>\n",
       "      <td>5.9</td>\n",
       "      <td>3.0</td>\n",
       "      <td>5.1</td>\n",
       "      <td>1.8</td>\n",
       "      <td>Iris-virginica</td>\n",
       "      <td>2</td>\n",
       "    </tr>\n",
       "  </tbody>\n",
       "</table>\n",
       "<p>150 rows × 6 columns</p>\n",
       "</div>"
      ],
      "text/plain": [
       "     sepal_length  sepal_width  petal_length  petal_width      iris_class  \\\n",
       "0             5.1          3.5           1.4          0.2     Iris-setosa   \n",
       "1             4.9          3.0           1.4          0.2     Iris-setosa   \n",
       "2             4.7          3.2           1.3          0.2     Iris-setosa   \n",
       "3             4.6          3.1           1.5          0.2     Iris-setosa   \n",
       "4             5.0          3.6           1.4          0.2     Iris-setosa   \n",
       "..            ...          ...           ...          ...             ...   \n",
       "145           6.7          3.0           5.2          2.3  Iris-virginica   \n",
       "146           6.3          2.5           5.0          1.9  Iris-virginica   \n",
       "147           6.5          3.0           5.2          2.0  Iris-virginica   \n",
       "148           6.2          3.4           5.4          2.3  Iris-virginica   \n",
       "149           5.9          3.0           5.1          1.8  Iris-virginica   \n",
       "\n",
       "     class_code  \n",
       "0             0  \n",
       "1             0  \n",
       "2             0  \n",
       "3             0  \n",
       "4             0  \n",
       "..          ...  \n",
       "145           2  \n",
       "146           2  \n",
       "147           2  \n",
       "148           2  \n",
       "149           2  \n",
       "\n",
       "[150 rows x 6 columns]"
      ]
     },
     "execution_count": 3,
     "metadata": {},
     "output_type": "execute_result"
    }
   ],
   "source": [
    "iris_row_df = pd.read_csv('dataset/iris.data')\n",
    "iris_df = iris_row_df.assign(class_code = iris_row_df.iris_class.apply( lambda x: 0 if x == \"Iris-setosa\" else 1 if x == \"Iris-versicolor\" else 2 ) )\n",
    "\n",
    "iris_df"
   ]
  },
  {
   "cell_type": "code",
   "execution_count": 4,
   "id": "af28e8ef-ba76-4b42-8062-af4bad7109ed",
   "metadata": {},
   "outputs": [
    {
     "name": "stdout",
     "output_type": "stream",
     "text": [
      "Axes(0.125,0.11;0.775x0.77)\n"
     ]
    },
    {
     "data": {
      "image/png": "[encoded data removed]",
      "text/plain": [
       "<Figure size 640x480 with 1 Axes>"
      ]
     },
     "metadata": {},
     "output_type": "display_data"
    }
   ],
   "source": [
    "# 散布図に可視化\n",
    "df_class0 = iris_df.query(\"class_code == 0\")\n",
    "df_class1 = iris_df.query(\"class_code == 1\")\n",
    "df_class2 = iris_df.query(\"class_code == 2\")\n",
    "\n",
    "ax = df_class0.plot.scatter(x=\"sepal_length\", y=\"petal_length\", c='b', alpha=0.5, label='class0')\n",
    "ax = df_class1.plot.scatter(x=\"sepal_length\", y=\"petal_length\", c='r', alpha=0.5, label='class1',ax=ax)\n",
    "ax = df_class2.plot.scatter(x=\"sepal_length\", y=\"petal_length\", c='g', alpha=0.5, label='class2',ax=ax)\n",
    "\n",
    "print(ax)"
   ]
  },
  {
   "cell_type": "code",
   "execution_count": 5,
   "id": "c08bd1c1-e27d-457f-860f-c10e873bb54e",
   "metadata": {
    "scrolled": true
   },
   "outputs": [
    {
     "name": "stdout",
     "output_type": "stream",
     "text": [
      "x => \n",
      "[[1.  5.1 1.4]\n",
      " [1.  4.9 1.4]\n",
      " [1.  4.7 1.3]\n",
      " [1.  4.6 1.5]\n",
      " [1.  5.  1.4]]\n",
      "yt => \n",
      "[0 0 0 0 0]\n",
      "train_test_split stratify=yt\n",
      "yt[0] \t37\n",
      "yt[1] \t38\n",
      "yt[2] \t37\n"
     ]
    }
   ],
   "source": [
    "# データ加工\n",
    "# x行列の作成\n",
    "x = iris_df.loc[:,[\"sepal_length\",\"petal_length\"]].to_numpy()\n",
    "yt = iris_df.class_code.to_numpy()\n",
    "M = x.shape[0]\n",
    "ones = np.ones((M,1))\n",
    "x = np.hstack([ones,x])\n",
    "\n",
    "print(f'x => \\n{x[:5,:]}')\n",
    "print(f'yt => \\n{yt[:5]}')\n"
   ]
  },
  {
   "cell_type": "markdown",
   "id": "5fef6db3-f653-4433-a490-dd73b711f70e",
   "metadata": {},
   "source": [
    "#### (参考)train_test_splitのstratify引数の挙動。端的には、グループ化してデータを分離できる。\n",
    "\n",
    "```python\n",
    "x_train, x_test, y_train, y_test = train_test_split(x, yt)\n",
    "print(f'train_test_split stratify=none(default)')\n",
    "print(f'yt[0] \\t{(y_train == 0).sum()}')\n",
    "print(f'yt[1] \\t{(y_train == 1).sum()}')\n",
    "print(f'yt[2] \\t{(y_train == 2).sum()}')\n",
    "\n",
    "x_train, x_test, y_train, y_test = train_test_split(x, yt, stratify=yt)\n",
    "print(f'train_test_split stratify=yt')\n",
    "print(f'yt[0] \\t{(y_train == 0).sum()}')\n",
    "print(f'yt[1] \\t{(y_train == 1).sum()}')\n",
    "print(f'yt[2] \\t{(y_train == 2).sum()}')\n",
    "\n",
    "train_test_split stratify=none(default)\r\n",
    "yt[0] \t39\r\n",
    "yt[1] \t38\r\n",
    "yt[2] \t35\r\n",
    "train_test_split stratify=yt\r\n",
    "yt[0] \t37\r\n",
    "yt[1] \t37\r\n",
    "yt[2] \t38\r\n",
    "\n",
    "```\n",
    "\n"
   ]
  },
  {
   "cell_type": "markdown",
   "id": "64470194-8635-4200-ae8a-99c4de789435",
   "metadata": {},
   "source": [
    "### One Hoe Vectorの生成"
   ]
  },
  {
   "cell_type": "code",
   "execution_count": 6,
   "id": "ec8e989e-fd3a-4428-9d00-c040771ad7c8",
   "metadata": {},
   "outputs": [
    {
     "name": "stdout",
     "output_type": "stream",
     "text": [
      "yt =>\n",
      "[0 0 0 0 0]\n",
      "\n",
      "yt_work =>\n",
      "[[0]\n",
      " [0]\n",
      " [0]\n",
      " [0]\n",
      " [0]]\n",
      "\n",
      "yt.T =>\n",
      "[0 0 0 0 0]\n",
      "\n",
      "yt_ohv =>\n",
      "[[1. 0. 0.]\n",
      " [1. 0. 0.]\n",
      " [1. 0. 0.]\n",
      " [1. 0. 0.]\n",
      " [1. 0. 0.]\n",
      " [1. 0. 0.]\n",
      " [1. 0. 0.]\n",
      " [1. 0. 0.]\n",
      " [1. 0. 0.]\n",
      " [1. 0. 0.]\n",
      " [1. 0. 0.]\n",
      " [1. 0. 0.]\n",
      " [1. 0. 0.]\n",
      " [1. 0. 0.]\n",
      " [1. 0. 0.]\n",
      " [1. 0. 0.]\n",
      " [1. 0. 0.]\n",
      " [1. 0. 0.]\n",
      " [1. 0. 0.]\n",
      " [1. 0. 0.]\n",
      " [1. 0. 0.]\n",
      " [1. 0. 0.]\n",
      " [1. 0. 0.]\n",
      " [1. 0. 0.]\n",
      " [1. 0. 0.]\n",
      " [1. 0. 0.]\n",
      " [1. 0. 0.]\n",
      " [1. 0. 0.]\n",
      " [1. 0. 0.]\n",
      " [1. 0. 0.]\n",
      " [1. 0. 0.]\n",
      " [1. 0. 0.]\n",
      " [1. 0. 0.]\n",
      " [1. 0. 0.]\n",
      " [1. 0. 0.]\n",
      " [1. 0. 0.]\n",
      " [1. 0. 0.]\n",
      " [1. 0. 0.]\n",
      " [1. 0. 0.]\n",
      " [1. 0. 0.]\n",
      " [1. 0. 0.]\n",
      " [1. 0. 0.]\n",
      " [1. 0. 0.]\n",
      " [1. 0. 0.]\n",
      " [1. 0. 0.]\n",
      " [1. 0. 0.]\n",
      " [1. 0. 0.]\n",
      " [1. 0. 0.]\n",
      " [1. 0. 0.]\n",
      " [1. 0. 0.]\n",
      " [0. 1. 0.]\n",
      " [0. 1. 0.]\n",
      " [0. 1. 0.]\n",
      " [0. 1. 0.]\n",
      " [0. 1. 0.]\n",
      " [0. 1. 0.]\n",
      " [0. 1. 0.]\n",
      " [0. 1. 0.]\n",
      " [0. 1. 0.]\n",
      " [0. 1. 0.]\n",
      " [0. 1. 0.]\n",
      " [0. 1. 0.]\n",
      " [0. 1. 0.]\n",
      " [0. 1. 0.]\n",
      " [0. 1. 0.]\n",
      " [0. 1. 0.]\n",
      " [0. 1. 0.]\n",
      " [0. 1. 0.]\n",
      " [0. 1. 0.]\n",
      " [0. 1. 0.]\n",
      " [0. 1. 0.]\n",
      " [0. 1. 0.]\n",
      " [0. 1. 0.]\n",
      " [0. 1. 0.]\n",
      " [0. 1. 0.]\n",
      " [0. 1. 0.]\n",
      " [0. 1. 0.]\n",
      " [0. 1. 0.]\n",
      " [0. 1. 0.]\n",
      " [0. 1. 0.]\n",
      " [0. 1. 0.]\n",
      " [0. 1. 0.]\n",
      " [0. 1. 0.]\n",
      " [0. 1. 0.]\n",
      " [0. 1. 0.]\n",
      " [0. 1. 0.]\n",
      " [0. 1. 0.]\n",
      " [0. 1. 0.]\n",
      " [0. 1. 0.]\n",
      " [0. 1. 0.]\n",
      " [0. 1. 0.]\n",
      " [0. 1. 0.]\n",
      " [0. 1. 0.]\n",
      " [0. 1. 0.]\n",
      " [0. 1. 0.]\n",
      " [0. 1. 0.]\n",
      " [0. 1. 0.]\n",
      " [0. 1. 0.]\n",
      " [0. 1. 0.]\n",
      " [0. 1. 0.]\n",
      " [0. 0. 1.]\n",
      " [0. 0. 1.]\n",
      " [0. 0. 1.]\n",
      " [0. 0. 1.]\n",
      " [0. 0. 1.]\n",
      " [0. 0. 1.]\n",
      " [0. 0. 1.]\n",
      " [0. 0. 1.]\n",
      " [0. 0. 1.]\n",
      " [0. 0. 1.]\n",
      " [0. 0. 1.]\n",
      " [0. 0. 1.]\n",
      " [0. 0. 1.]\n",
      " [0. 0. 1.]\n",
      " [0. 0. 1.]\n",
      " [0. 0. 1.]\n",
      " [0. 0. 1.]\n",
      " [0. 0. 1.]\n",
      " [0. 0. 1.]\n",
      " [0. 0. 1.]\n",
      " [0. 0. 1.]\n",
      " [0. 0. 1.]\n",
      " [0. 0. 1.]\n",
      " [0. 0. 1.]\n",
      " [0. 0. 1.]\n",
      " [0. 0. 1.]\n",
      " [0. 0. 1.]\n",
      " [0. 0. 1.]\n",
      " [0. 0. 1.]\n",
      " [0. 0. 1.]\n",
      " [0. 0. 1.]\n",
      " [0. 0. 1.]\n",
      " [0. 0. 1.]\n",
      " [0. 0. 1.]\n",
      " [0. 0. 1.]\n",
      " [0. 0. 1.]\n",
      " [0. 0. 1.]\n",
      " [0. 0. 1.]\n",
      " [0. 0. 1.]\n",
      " [0. 0. 1.]\n",
      " [0. 0. 1.]\n",
      " [0. 0. 1.]\n",
      " [0. 0. 1.]\n",
      " [0. 0. 1.]\n",
      " [0. 0. 1.]\n",
      " [0. 0. 1.]\n",
      " [0. 0. 1.]\n",
      " [0. 0. 1.]\n",
      " [0. 0. 1.]\n",
      " [0. 0. 1.]]\n"
     ]
    }
   ],
   "source": [
    "# エンコーダーのインスタンス生成\n",
    "ohe = OneHotEncoder(sparse_output=False, categories='auto')\n",
    "\n",
    "# 1次元配列を1列複数行のベクトルに変換\n",
    "yt_work = np.c_[yt]\n",
    "\n",
    "yt_ohv = ohe.fit_transform(yt_work)\n",
    "\n",
    "\n",
    "print(f'yt =>\\n{yt[:5]}\\n')\n",
    "print(f'yt_work =>\\n{yt_work[:5]}\\n')\n",
    "print(f'yt.T =>\\n{yt.T[:5]}\\n')\n",
    "\n",
    "print(f'yt_ohv =>\\n{yt_ohv}')\n"
   ]
  },
  {
   "cell_type": "code",
   "execution_count": 86,
   "id": "02b3e947-8f6d-4105-9b68-3167e4bbd7e6",
   "metadata": {},
   "outputs": [
    {
     "name": "stdout",
     "output_type": "stream",
     "text": [
      "(90,)\n",
      "(90, 3)\n",
      "(60,)\n",
      "(60, 3)\n"
     ]
    }
   ],
   "source": [
    "#yt_all = np.c_[yt,yt_ohv]\n",
    "\n",
    "#x_train, x_test, yt_all_train, yt_all_test = train_test_split(x, yt_all)\n",
    "\n",
    "# 正解カラムとOneHoeVectorカラムの分離\n",
    "#yt_train = yt_all_train[:,0]\n",
    "#yt_train_ohv = yt_all_train[:,1:4]\n",
    "\n",
    "#yt_test = yt_all_test[:,0]\n",
    "#yt_test_ohv = yt_all_test[:,1:4]\n",
    "\n",
    "x_train, x_test, yt_train, yt_test, yt_train_ohv, yt_test_ohv = train_test_split(x, yt, yt_ohv, test_size=0.4)\n",
    "\n",
    "\n",
    "print(yt_train.shape)\n",
    "print(yt_train_ohv.shape)\n",
    "\n",
    "print(yt_test.shape)\n",
    "print(yt_test_ohv.shape)\n",
    "\n",
    "# TODO ここから。"
   ]
  },
  {
   "cell_type": "code",
   "execution_count": 129,
   "id": "1ca4c42f-653e-407e-bc38-b4ab6b3a478d",
   "metadata": {},
   "outputs": [],
   "source": [
    "# 学習フェーズ\n",
    "D = x.shape[1]\n",
    "W = np.ones((np.unique(yt).size,D))\n",
    "\n",
    "# 学習関連関数定義\n",
    "\n",
    "def init_W(x_train,yt_train_ohv):\n",
    "    # xの次元数（ダミー含む）\n",
    "    D = x_train.shape[1]\n",
    "    # 正解のクラス数（=OneHotVectorの横軸数）\n",
    "    N = yt_train_ohv.shape[1]\n",
    "    # ゼロ埋めの行列を作成\n",
    "    W = np.ones((D, N))\n",
    "    return W\n",
    "\n",
    "def softmax(u):\n",
    "    u = u.T\n",
    "    u_max = u.max(axis=0)\n",
    "    u = u - u_max\n",
    "    w = np.exp(u)\n",
    "    return (w / w.sum(axis=0)).T\n",
    "\n",
    "def pred(x, W):\n",
    "    return softmax(x @ W)\n",
    "\n",
    "def cross_entropy(yt, yp):\n",
    "    return -  np.mean(np.sum(yt * np.log(yp),axis=1))\n",
    "\n",
    "def classify(yp):\n",
    "    return np.argmax(yp, axis=1)\n",
    "\n",
    "def evaluate(x, yt, yt_ohv, W):\n",
    "    # 試験データで予測を実施\n",
    "    yp = pred(x, W)\n",
    "    # 確率値行列から最も値の大きい要素index（0,1,2）の配列に変換。これによりypと直接比較可能となる。\n",
    "    yp_classified = classify(yp)\n",
    "\n",
    "    # 損失関数（交差エントロピー）計算\n",
    "    loss = cross_entropy(yt_test_ohv, yp)\n",
    "    # 精度計算\n",
    "    score = accuracy_score(yt, yp_classified)\n",
    "\n",
    "    return loss, score\n",
    "\n",
    "def plot_loss_accuracy(history):\n",
    "    plt.plot(history[:,0],history[:,1], linewidth=1)\n",
    "    plt.xlabel(\"iter\")\n",
    "    plt.ylabel(\"loss\")\n",
    "    plt.title(\"iter vs loss\")\n",
    "    plt.show()\n",
    "    plt.plot(history[:,0],history[:,2] , linewidth=1)\n",
    "    plt.xlabel(\"iter\")\n",
    "    plt.ylabel(\"accuracy\")\n",
    "    plt.title(\"iter vs accuracy\")\n",
    "    plt.show()\n",
    "    \n",
    "def train(x, yt_ohv, W, x_test, yt_test, yt_test_ohv, history, alpha=00.1, iter=10000):\n",
    "    before_W = W\n",
    "    before_loss = 10\n",
    "    for k in range(iter):\n",
    "        # 行数の取得\n",
    "        M = x.shape[0]\n",
    "        # 予測\n",
    "        yp = pred(x, W)\n",
    "        # 誤差計算\n",
    "        yd = yp - yt_ohv\n",
    "        # 重みベクトルの再計算\n",
    "        W = W - alpha * ( x.T @ yd ) / M\n",
    "        loss, score = evaluate(x_test, yt_test, yt_test_ohv, W)\n",
    "        if k % (iter/100) == 0:\n",
    "            history = np.vstack( (history, np.array([k, loss, score])))\n",
    "            print(f'epoch = {k}\\tloss = {loss}\\tscore = {score}')\n",
    "        if debug == True:\n",
    "            print(f'=== epoch = {k} =========================================')\n",
    "            print(f'x[0:5,:] =\\n{x[0:5,:]}')\n",
    "            print(f'(x @ W)[0:5,:] = \\n{(x @ W)[0:5,:]}')\n",
    "            print(f'yp[0:5,:] = \\n{yp[0:5,:]}')\n",
    "            print(f'yt_ohv[0:5,:] = \\n{yt_ohv[0:5,:]}')\n",
    "            print(f'yd[0:5,:] = \\n{yd[0:5,:]}')\n",
    "            print(f'W = \\n{W}')\n",
    "            print()\n",
    "        if loss > before_loss:\n",
    "            print(f'収束　k={k},loss={loss}')\n",
    "            W = before_W\n",
    "            break\n",
    "        before_loss = loss\n",
    "        before_W = W\n",
    "    return W, history\n",
    "            \n"
   ]
  },
  {
   "cell_type": "code",
   "execution_count": 116,
   "id": "4f8c6770-6fea-4757-91e9-bbf86c253d7d",
   "metadata": {
    "scrolled": true
   },
   "outputs": [
    {
     "ename": "ValueError",
     "evalue": "matmul: Input operand 1 has a mismatch in its core dimension 0, with gufunc signature (n?,k),(k,m?)->(n?,m?) (size 3 is different from 5)",
     "output_type": "error",
     "traceback": [
      "\u001b[0;31m---------------------------------------------------------------------------\u001b[0m",
      "\u001b[0;31mValueError\u001b[0m                                Traceback (most recent call last)",
      "Cell \u001b[0;32mIn[116], line 8\u001b[0m\n\u001b[1;32m      6\u001b[0m debug\u001b[38;5;241m=\u001b[39m\u001b[38;5;28;01mFalse\u001b[39;00m\n\u001b[1;32m      7\u001b[0m history \u001b[38;5;241m=\u001b[39m np\u001b[38;5;241m.\u001b[39mzeros((\u001b[38;5;241m0\u001b[39m,\u001b[38;5;241m3\u001b[39m))\n\u001b[0;32m----> 8\u001b[0m ret_w, history \u001b[38;5;241m=\u001b[39m \u001b[43mtrain\u001b[49m\u001b[43m(\u001b[49m\u001b[43mx_train\u001b[49m\u001b[43m,\u001b[49m\u001b[43m \u001b[49m\u001b[43myt_train_ohv\u001b[49m\u001b[43m,\u001b[49m\u001b[43m \u001b[49m\u001b[43mW\u001b[49m\u001b[43m,\u001b[49m\u001b[43m \u001b[49m\u001b[43mx_test\u001b[49m\u001b[43m,\u001b[49m\u001b[43m \u001b[49m\u001b[43myt_test\u001b[49m\u001b[43m,\u001b[49m\u001b[43m \u001b[49m\u001b[43myt_test_ohv\u001b[49m\u001b[43m,\u001b[49m\u001b[43m \u001b[49m\u001b[43mhistory\u001b[49m\u001b[43m,\u001b[49m\u001b[43m \u001b[49m\u001b[43malpha\u001b[49m\u001b[38;5;241;43m=\u001b[39;49m\u001b[43malpha\u001b[49m\u001b[43m,\u001b[49m\u001b[43m \u001b[49m\u001b[38;5;28;43miter\u001b[39;49m\u001b[38;5;241;43m=\u001b[39;49m\u001b[38;5;28;43miter\u001b[39;49m\u001b[43m)\u001b[49m\n\u001b[1;32m      9\u001b[0m \u001b[38;5;28mprint\u001b[39m(ret_w)\n",
      "Cell \u001b[0;32mIn[115], line 65\u001b[0m, in \u001b[0;36mtrain\u001b[0;34m(x, yt_ohv, W, x_test, yt_test, yt_test_ohv, history, alpha, iter)\u001b[0m\n\u001b[1;32m     63\u001b[0m M \u001b[38;5;241m=\u001b[39m x\u001b[38;5;241m.\u001b[39mshape[\u001b[38;5;241m0\u001b[39m]\n\u001b[1;32m     64\u001b[0m \u001b[38;5;66;03m# 予測\u001b[39;00m\n\u001b[0;32m---> 65\u001b[0m yp \u001b[38;5;241m=\u001b[39m \u001b[43mpred\u001b[49m\u001b[43m(\u001b[49m\u001b[43mx\u001b[49m\u001b[43m,\u001b[49m\u001b[43m \u001b[49m\u001b[43mW\u001b[49m\u001b[43m)\u001b[49m\n\u001b[1;32m     66\u001b[0m \u001b[38;5;66;03m# 誤差計算\u001b[39;00m\n\u001b[1;32m     67\u001b[0m yd \u001b[38;5;241m=\u001b[39m yp \u001b[38;5;241m-\u001b[39m yt_ohv\n",
      "Cell \u001b[0;32mIn[115], line 25\u001b[0m, in \u001b[0;36mpred\u001b[0;34m(x, W)\u001b[0m\n\u001b[1;32m     24\u001b[0m \u001b[38;5;28;01mdef\u001b[39;00m \u001b[38;5;21mpred\u001b[39m(x, W):\n\u001b[0;32m---> 25\u001b[0m     \u001b[38;5;28;01mreturn\u001b[39;00m softmax(\u001b[43mx\u001b[49m\u001b[43m \u001b[49m\u001b[38;5;241;43m@\u001b[39;49m\u001b[43m \u001b[49m\u001b[43mW\u001b[49m)\n",
      "\u001b[0;31mValueError\u001b[0m: matmul: Input operand 1 has a mismatch in its core dimension 0, with gufunc signature (n?,k),(k,m?)->(n?,m?) (size 3 is different from 5)"
     ]
    }
   ],
   "source": [
    "# 学習実施\n",
    "alpha = 0.01\n",
    "iter = 1000000\n",
    "W = init_W(x_train, yt_train_ohv)\n",
    "\n",
    "debug=False\n",
    "history = np.zeros((0,3))\n",
    "ret_w, history = train(x_train, yt_train_ohv, W, x_test, yt_test, yt_test_ohv, history, alpha=alpha, iter=iter)\n",
    "print(ret_w)\n"
   ]
  },
  {
   "cell_type": "code",
   "execution_count": 110,
   "id": "523bc76d-1f73-4f01-a189-b78b3f44c837",
   "metadata": {
    "scrolled": true
   },
   "outputs": [
    {
     "data": {
      "image/png": "[encoded data removed]",
      "text/plain": [
       "<Figure size 640x480 with 1 Axes>"
      ]
     },
     "metadata": {},
     "output_type": "display_data"
    },
    {
     "data": {
      "image/png": "[encoded data removed]",
      "text/plain": [
       "<Figure size 640x480 with 1 Axes>"
      ]
     },
     "metadata": {},
     "output_type": "display_data"
    }
   ],
   "source": [
    "# 学習曲線／精度曲線\n",
    "plot_loss_accuracy(history)"
   ]
  },
  {
   "cell_type": "code",
   "execution_count": 109,
   "id": "bc7dd16e-f926-4fc0-99a4-31e63c1e24dc",
   "metadata": {},
   "outputs": [
    {
     "name": "stdout",
     "output_type": "stream",
     "text": [
      "yt_test[0] : 2\n",
      "yp(test[0]): [0.    0.007 0.993]\n"
     ]
    }
   ],
   "source": [
    "# 推論\n",
    "answer = pred(x_test[0,:],ret_w)\n",
    "np.set_printoptions(precision=3,suppress=True)\n",
    "print(f'yt_test[0] : {yt_test[0]}')\n",
    "print(f'yp(test[0]): {answer}')\n"
   ]
  },
  {
   "cell_type": "markdown",
   "id": "729ea528-069e-4554-a922-b7724d997c5e",
   "metadata": {},
   "source": [
    "# 次元を増やして学習"
   ]
  },
  {
   "cell_type": "code",
   "execution_count": 130,
   "id": "4981d6a0-175e-43bc-9306-448f34561f3c",
   "metadata": {},
   "outputs": [],
   "source": [
    "# 入力データxを4次元に増やす\n",
    "x = iris_df.loc[:,[\"sepal_length\",\"sepal_width\",\"petal_length\",\"petal_width\"]].to_numpy()\n",
    "yt = iris_df.class_code.to_numpy()\n",
    "M = x.shape[0]\n",
    "ones = np.ones((M,1))\n",
    "x = np.hstack([ones,x])\n",
    "\n",
    "# One Hot Vector生成\n",
    "# エンコーダーのインスタンス生成\n",
    "ohe = OneHotEncoder(sparse_output=False, categories='auto')\n",
    "# 1次元配列を1列複数行のベクトルに変換\n",
    "yt_work = np.c_[yt]\n",
    "yt_ohv = ohe.fit_transform(yt_work)\n",
    "\n",
    "# 学習データと試験データの分離\n",
    "x_train, x_test, yt_train, yt_test, yt_train_ohv, yt_test_ohv = train_test_split(x, yt, yt_ohv, test_size=0.4)\n",
    "\n",
    "# Wの生成\n",
    "W = init_W(x_train, yt_train_ohv)\n"
   ]
  },
  {
   "cell_type": "code",
   "execution_count": 136,
   "id": "abf1ca2e-5772-433b-b152-955cddede3e8",
   "metadata": {},
   "outputs": [
    {
     "name": "stdout",
     "output_type": "stream",
     "text": [
      "epoch = 0\tloss = 1.0907144730635325\tscore = 0.2833333333333333\n",
      "epoch = 1000\tloss = 0.3984220417680645\tscore = 0.8666666666666667\n",
      "epoch = 2000\tloss = 0.30943794894665916\tscore = 0.9166666666666666\n",
      "epoch = 3000\tloss = 0.2627767578221414\tscore = 0.9333333333333333\n",
      "epoch = 4000\tloss = 0.23412607647827136\tscore = 0.95\n",
      "epoch = 5000\tloss = 0.2148748201458034\tscore = 0.95\n",
      "epoch = 6000\tloss = 0.20112848040001183\tscore = 0.95\n",
      "epoch = 7000\tloss = 0.19087729563754094\tscore = 0.95\n",
      "epoch = 8000\tloss = 0.18298268157229572\tscore = 0.95\n",
      "epoch = 9000\tloss = 0.1767523665108842\tscore = 0.95\n",
      "epoch = 10000\tloss = 0.1717414456421502\tscore = 0.95\n",
      "epoch = 11000\tloss = 0.16765094066227312\tscore = 0.95\n",
      "epoch = 12000\tloss = 0.1642724334323475\tscore = 0.95\n",
      "epoch = 13000\tloss = 0.16145611582647443\tscore = 0.95\n",
      "epoch = 14000\tloss = 0.159091475993271\tscore = 0.95\n",
      "epoch = 15000\tloss = 0.15709515536694715\tscore = 0.95\n",
      "epoch = 16000\tloss = 0.15540305256571602\tscore = 0.95\n",
      "epoch = 17000\tloss = 0.15396503678362175\tscore = 0.95\n",
      "epoch = 18000\tloss = 0.1527413167213407\tscore = 0.95\n",
      "epoch = 19000\tloss = 0.15169988975814042\tscore = 0.95\n",
      "epoch = 20000\tloss = 0.15081471371882715\tscore = 0.95\n",
      "epoch = 21000\tloss = 0.15006437282319465\tscore = 0.95\n",
      "epoch = 22000\tloss = 0.14943108838710786\tscore = 0.95\n",
      "epoch = 23000\tloss = 0.14889997437759314\tscore = 0.95\n",
      "epoch = 24000\tloss = 0.14845846972014132\tscore = 0.95\n",
      "epoch = 25000\tloss = 0.14809590010074986\tscore = 0.95\n",
      "epoch = 26000\tloss = 0.14780313593428243\tscore = 0.95\n",
      "epoch = 27000\tloss = 0.14757232264292758\tscore = 0.95\n",
      "epoch = 28000\tloss = 0.14739666593412235\tscore = 0.95\n",
      "epoch = 29000\tloss = 0.14727025935781182\tscore = 0.95\n",
      "epoch = 30000\tloss = 0.14718794468646293\tscore = 0.95\n",
      "epoch = 31000\tloss = 0.1471451980109988\tscore = 0.95\n",
      "収束　k=31711,loss=0.14713666425833064\n",
      "[[ 1.591  2.297 -0.888]\n",
      " [ 2.264  1.613 -0.877]\n",
      " [ 4.043  1.686 -2.73 ]\n",
      " [-2.945  0.588  5.357]\n",
      " [-0.957 -0.584  4.541]]\n"
     ]
    }
   ],
   "source": [
    "history = np.zeros((0,3))\n",
    "alpha=0.01\n",
    "iter=100000\n",
    "\n",
    "ret_w, history = train(x_train, yt_train_ohv, W, x_test, yt_test, yt_test_ohv, history, alpha=alpha, iter=iter)\n",
    "\n",
    "print(ret_w)"
   ]
  },
  {
   "cell_type": "code",
   "execution_count": 137,
   "id": "c2abe956-90e4-4053-8246-5b7d6dbb1f0d",
   "metadata": {},
   "outputs": [
    {
     "name": "stdout",
     "output_type": "stream",
     "text": [
      "yt_test[0] : 2\n",
      "yp(test[0]): [0.    0.006 0.994]\n"
     ]
    }
   ],
   "source": [
    "# 推論\n",
    "answer = pred(x_test[0,:],ret_w)\n",
    "np.set_printoptions(precision=3,suppress=True)\n",
    "print(f'yt_test[0] : {yt_test[0]}')\n",
    "print(f'yp(test[0]): {answer}')"
   ]
  },
  {
   "cell_type": "code",
   "execution_count": 138,
   "id": "ee7c5d41-072c-4a17-a080-84af28bd5227",
   "metadata": {},
   "outputs": [
    {
     "data": {
      "image/png": "[encoded data removed]",
      "text/plain": [
       "<Figure size 640x480 with 1 Axes>"
      ]
     },
     "metadata": {},
     "output_type": "display_data"
    },
    {
     "data": {
      "image/png": "[encoded data removed]",
      "text/plain": [
       "<Figure size 640x480 with 1 Axes>"
      ]
     },
     "metadata": {},
     "output_type": "display_data"
    }
   ],
   "source": [
    "# 学習曲線／精度曲線\n",
    "plot_loss_accuracy(history)"
   ]
  },
  {
   "cell_type": "code",
   "execution_count": null,
   "id": "def763f2-5396-474b-b21f-9cac8c30f7e7",
   "metadata": {},
   "outputs": [],
   "source": []
  }
 ],
 "metadata": {
  "kernelspec": {
   "display_name": "Python 3 (ipykernel)",
   "language": "python",
   "name": "python3"
  },
  "language_info": {
   "codemirror_mode": {
    "name": "ipython",
    "version": 3
   },
   "file_extension": ".py",
   "mimetype": "text/x-python",
   "name": "python",
   "nbconvert_exporter": "python",
   "pygments_lexer": "ipython3",
   "version": "3.11.6"
  },
  "widgets": {
   "application/vnd.jupyter.widget-state+json": {
    "state": {},
    "version_major": 2,
    "version_minor": 0
   }
  }
 },
 "nbformat": 4,
 "nbformat_minor": 5
}
