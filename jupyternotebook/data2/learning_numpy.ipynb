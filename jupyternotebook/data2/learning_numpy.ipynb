{
 "cells": [
  {
   "cell_type": "markdown",
   "id": "cc95d552-0049-4dea-9e23-706ce9c252e7",
   "metadata": {},
   "source": [
    "# numpy tips"
   ]
  },
  {
   "cell_type": "code",
   "execution_count": 2,
   "id": "94d2f201-6fa0-40c3-a346-5548e0e4dfc4",
   "metadata": {},
   "outputs": [],
   "source": [
    "import numpy as np"
   ]
  },
  {
   "cell_type": "markdown",
   "id": "5ced9e31-9ec3-4c42-acfd-36bd9bc2b848",
   "metadata": {},
   "source": [
    "# 配列を作る"
   ]
  },
  {
   "cell_type": "code",
   "execution_count": 3,
   "id": "fce5410c-cea6-43df-9e57-63cbdd31c95f",
   "metadata": {},
   "outputs": [
    {
     "name": "stdout",
     "output_type": "stream",
     "text": [
      "要素を指定して配列を作る\n",
      "np.array([1,2,3,4,5])\t=>\t[1 2 3 4 5]\n",
      "\n",
      "順列で配列をつくる\n",
      "np.range(5)\t=>\t[0 1 2 3 4]\n",
      "\n",
      "ゼロ埋めで配列をつくる\n",
      "np.zeros((5))\t=>\t[0. 0. 0. 0. 0.]\n",
      "np.zeros((5,5))\t=>\n",
      "[[0. 0. 0. 0. 0.]\n",
      " [0. 0. 0. 0. 0.]\n",
      " [0. 0. 0. 0. 0.]\n",
      " [0. 0. 0. 0. 0.]\n",
      " [0. 0. 0. 0. 0.]]\n",
      "\n",
      "1埋めで配列をつくる\n",
      "np.ones((5))\t=>\t[1. 1. 1. 1. 1.]\n",
      "np.ones((5,5))\t=>\n",
      "[[1. 1. 1. 1. 1.]\n",
      " [1. 1. 1. 1. 1.]\n",
      " [1. 1. 1. 1. 1.]\n",
      " [1. 1. 1. 1. 1.]\n",
      " [1. 1. 1. 1. 1.]]\n",
      "ランダムな配列をつくる\n",
      "np.random.default_rng().random(3)\t=>\t[0.81744325 0.648652   0.79031534]\n",
      "np.random.default_rng().integers(100)\t=>\t39\n",
      "np.random.default_rng().integers(100,size=[10,2])\t=>\n",
      "[[75 57]\n",
      " [42 98]\n",
      " [14 43]\n",
      " [35 80]\n",
      " [32 24]\n",
      " [12 96]\n",
      " [52 62]\n",
      " [78  1]\n",
      " [78 32]\n",
      " [27 47]]\n",
      "np.sort(a)\t=>\n",
      "[[57 75]\n",
      " [42 98]\n",
      " [14 43]\n",
      " [35 80]\n",
      " [24 32]\n",
      " [12 96]\n",
      " [52 62]\n",
      " [ 1 78]\n",
      " [32 78]\n",
      " [27 47]]\n",
      "np.sort(a,axis=0)\t=>\n",
      "[[ 1 32]\n",
      " [12 43]\n",
      " [14 47]\n",
      " [24 62]\n",
      " [27 75]\n",
      " [32 78]\n",
      " [35 78]\n",
      " [42 80]\n",
      " [52 96]\n",
      " [57 98]]\n",
      "np.sort(a,axis=1)\t=>\n",
      "[[ 1 32]\n",
      " [12 43]\n",
      " [14 47]\n",
      " [24 62]\n",
      " [27 75]\n",
      " [32 78]\n",
      " [35 78]\n",
      " [42 80]\n",
      " [52 96]\n",
      " [57 98]]\n"
     ]
    }
   ],
   "source": [
    "print('要素を指定して配列を作る')\n",
    "a = np.array([1,2,3,4,5])\n",
    "print(f'np.array([1,2,3,4,5])\\t=>\\t{a}')\n",
    "print()\n",
    "\n",
    "print('順列で配列をつくる')\n",
    "a = np.arange(5)\n",
    "print(f'np.range(5)\\t=>\\t{a}')\n",
    "print()\n",
    "\n",
    "print('ゼロ埋めで配列をつくる')\n",
    "a = np.zeros((5))\n",
    "print(f'np.zeros((5))\\t=>\\t{a}')\n",
    "a = np.zeros((5,5))\n",
    "print(f'np.zeros((5,5))\\t=>\\n{a}')\n",
    "print()\n",
    "\n",
    "print('1埋めで配列をつくる')\n",
    "a = np.ones((5))\n",
    "print(f'np.ones((5))\\t=>\\t{a}')\n",
    "a = np.ones((5,5))\n",
    "print(f'np.ones((5,5))\\t=>\\n{a}')\n",
    "\n",
    "print('ランダムな配列をつくる')\n",
    "\n",
    "# ランダムな配列を作る\n",
    "### まず、generatorの生成\n",
    "gen= np.random.default_rng()\n",
    "a = gen.random(3)\n",
    "print(f'np.random.default_rng().random(3)\\t=>\\t{a}')\n",
    "\n",
    "a = gen.integers(100)\n",
    "print(f'np.random.default_rng().integers(100)\\t=>\\t{a}')\n",
    "\n",
    "a = gen.integers(100,size=[10,2])\n",
    "print(f'np.random.default_rng().integers(100,size=[10,2])\\t=>\\n{a}')\n",
    "\n",
    "\n",
    "# sort　普通にsort関数/メソッドを使うと、すべての要素が指定された向きでソートされる\n",
    "a = np.sort(a)\n",
    "print(f'np.sort(a)\\t=>\\n{a}')\n",
    "a = np.sort(a,axis=0)\n",
    "print(f'np.sort(a,axis=0)\\t=>\\n{a}')\n",
    "a = np.sort(a,axis=1)\n",
    "print(f'np.sort(a,axis=1)\\t=>\\n{a}')\n",
    "\n"
   ]
  },
  {
   "cell_type": "markdown",
   "id": "1c6999fc-a72a-4099-ab29-ef76fe2481eb",
   "metadata": {},
   "source": [
    "## ソート\n",
    "\n",
    "### ソートはちょっと厄介。numpy.sortを使うと、いわゆるSQLのようにある列を基準にして行をソートする、というような動きはせず、指定された向きですべての要素をソートする"
   ]
  },
  {
   "cell_type": "code",
   "execution_count": 5,
   "id": "e1b1ef91-605b-4b13-9e43-3882f6040b82",
   "metadata": {},
   "outputs": [
    {
     "name": "stdout",
     "output_type": "stream",
     "text": [
      "np.random.default_rng().integers(100,size=[10,2])\t=>\n",
      "[[35 85]\n",
      " [94 42]\n",
      " [45 80]\n",
      " [37 78]\n",
      " [31 86]]\n",
      "np.sort(a)\t=>\n",
      "[[35 85]\n",
      " [42 94]\n",
      " [45 80]\n",
      " [37 78]\n",
      " [31 86]]\n",
      "np.sort(a,axis=0)\t=>\n",
      "[[31 78]\n",
      " [35 80]\n",
      " [37 85]\n",
      " [42 86]\n",
      " [45 94]]\n",
      "np.sort(a,axis=1)\t=>\n",
      "[[35 85]\n",
      " [42 94]\n",
      " [45 80]\n",
      " [37 78]\n",
      " [31 86]]\n"
     ]
    }
   ],
   "source": [
    "a = gen.integers(100,size=[5,2])\n",
    "print(f'np.random.default_rng().integers(100,size=[10,2])\\t=>\\n{a}')\n",
    "\n",
    "\n",
    "# sort　普通にsort関数/メソッドを使うと、すべての要素が指定された向きでソートされる\n",
    "a = np.sort(a)\n",
    "print(f'np.sort(a)\\t=>\\n{a}')\n",
    "a1 = np.sort(a,axis=0)\n",
    "print(f'np.sort(a,axis=0)\\t=>\\n{a1}')\n",
    "a2 = np.sort(a,axis=1)\n",
    "print(f'np.sort(a,axis=1)\\t=>\\n{a2}')"
   ]
  },
  {
   "cell_type": "markdown",
   "id": "56f2fbf4-62d2-47c1-957d-947ffce6c060",
   "metadata": {},
   "source": [
    "### いわゆる、テーブルデータで期待するソートは以下のように実施する\n",
    "\n",
    "* これって、配列が巨大だった場合、巨大な配列の並び替えたコピーを作るってことで、データが巨大な場合は注意が必要。\n",
    "* ソート順の配列を取得する際のソートのアルゴリズムは選択できるらしいけど、そのインデックスをもとに巨大な配列を作り直すということになるので"
   ]
  },
  {
   "cell_type": "code",
   "execution_count": 6,
   "id": "3cfc72a7-cfdf-4c61-999f-b1b9aaa97ab5",
   "metadata": {},
   "outputs": [
    {
     "name": "stdout",
     "output_type": "stream",
     "text": [
      "a =>\n",
      "[[35 85]\n",
      " [42 94]\n",
      " [45 80]\n",
      " [37 78]\n",
      " [31 86]]\n",
      "\n",
      "np.argsort(a,axis=0) =\n",
      "[[4 3]\n",
      " [0 2]\n",
      " [3 0]\n",
      " [1 4]\n",
      " [2 1]]\n",
      "\n",
      "sorted_index[:,0] =\n",
      "[4 0 3 1 2]\n",
      "\n",
      "a[sorted_index[:,0]]\t=>\n",
      "[[31 86]\n",
      " [35 85]\n",
      " [37 78]\n",
      " [42 94]\n",
      " [45 80]]\n",
      "\n"
     ]
    }
   ],
   "source": [
    "print(f'a =>\\n{a}\\n')\n",
    "sorted_index = np.argsort(a,axis=0)\n",
    "print(f'np.argsort(a,axis=0) =\\n{sorted_index}\\n')\n",
    "print(f'sorted_index[:,0] =\\n{sorted_index[:,0]}\\n')\n",
    "a3 = a[sorted_index[:,0]]\n",
    "print(f'a[sorted_index[:,0]]\\t=>\\n{a3}\\n')"
   ]
  },
  {
   "cell_type": "markdown",
   "id": "8c1c1374-7bf9-4a1f-bb0d-f433f7955569",
   "metadata": {},
   "source": [
    "## numpayの配列の演算\n",
    "\n",
    "### ndarrayの四則演算は、同じ大きさの配列の場合、同じインデックスの要素ごとに四則演算をしてくれる\n",
    "\n",
    "詳しくはここを参照。https://note.nkmk.me/python-numpy-matrix/"
   ]
  },
  {
   "cell_type": "code",
   "execution_count": 8,
   "id": "c349ecea-9f0c-4de6-bb20-aff4e168f4cb",
   "metadata": {},
   "outputs": [
    {
     "name": "stdout",
     "output_type": "stream",
     "text": [
      "a + b = [ 4  8 20]\n",
      "a - b = [ 2  4 12]\n",
      "a * b = [ 3 12 64]\n",
      "a / b = [3. 3. 4.]\n",
      "a + b = [[ 4  8 20]\n",
      " [ 8 16 40]]\n",
      "a - b = [[ 2  4 12]\n",
      " [ 4  8 24]]\n",
      "a * b = [[  3  12  64]\n",
      " [ 12  48 256]]\n",
      "a / b = [[3. 3. 4.]\n",
      " [3. 3. 4.]]\n",
      "a @ b.T = [[ 79 158]\n",
      " [158 316]]\n",
      "a.T @ b = [[ 15  30  60]\n",
      " [ 30  60 120]\n",
      " [ 80 160 320]]\n"
     ]
    }
   ],
   "source": [
    "# numpyのarrayの四則演算\n",
    "\n",
    "# 1列の場合\n",
    "a = np.array((3,6,16))\n",
    "b = np.array((1,2,4))\n",
    "print(f'a + b = {a + b}')\n",
    "print(f'a - b = {a - b}')\n",
    "print(f'a * b = {a * b}')\n",
    "print(f'a / b = {a / b}')\n",
    "\n",
    "# 2列の場合\n",
    "a = np.array([[3,6,16],[6,12,32]])\n",
    "b = np.array([[1,2,4],[2,4,8]])\n",
    "\n",
    "print(f'a + b = {a + b}')\n",
    "print(f'a - b = {a - b}')\n",
    "print(f'a * b = {a * b}')\n",
    "print(f'a / b = {a / b}')\n",
    "\n",
    "# @\n",
    "print(f'a @ b.T = {a @ b.T}')\n",
    "print(f'a.T @ b = {a.T @ b}')    "
   ]
  },
  {
   "cell_type": "markdown",
   "id": "f747af69-bf2a-4a68-9680-17704fdd6e8f",
   "metadata": {},
   "source": [
    "## numpy ndarrayを条件でフィルタリングする"
   ]
  },
  {
   "cell_type": "markdown",
   "id": "adc907fd-6086-4344-9509-c45187630f46",
   "metadata": {},
   "source": [
    "### 単純な条件判断\n",
    "\n",
    "評価オペランドで、その評価結果の配列が返却される"
   ]
  },
  {
   "cell_type": "code",
   "execution_count": 11,
   "id": "f8456ecf-1a63-4ce1-b56d-e1293a0853e4",
   "metadata": {},
   "outputs": [
    {
     "name": "stdout",
     "output_type": "stream",
     "text": [
      "a\t[60 54 38 82 82 13 37 65 62 29]\n",
      "a>50\t[ True  True False  True  True False False  True  True False]\n",
      "a\t[4 1 0 0 4 0 0 4 2 1]\n",
      "a==0\t[False False  True  True False  True  True False False False]\n"
     ]
    }
   ],
   "source": [
    "a = gen.integers(100,size=[10])\n",
    "\n",
    "print(f'a\\t{a}')\n",
    "print(f'a>50\\t{a>50}')\n",
    "\n",
    "a = gen.integers(5,size=[10])\n",
    "print(f'a\\t{a}')\n",
    "print(f'a==0\\t{a==0}')"
   ]
  },
  {
   "cell_type": "markdown",
   "id": "0b618071-caf9-405d-a75b-3c80b8fe7f2d",
   "metadata": {},
   "source": [
    "### 条件に合致したものを取り出す式"
   ]
  },
  {
   "cell_type": "code",
   "execution_count": 13,
   "id": "de271000-e17c-4087-88aa-c22798454de5",
   "metadata": {},
   "outputs": [
    {
     "name": "stdout",
     "output_type": "stream",
     "text": [
      "1次元の場合\n",
      "a\t[0 2 3 0 4 3 0 3 4 1]\n",
      "a<3\t[ True  True False  True False False  True False False  True]\n",
      "a[a<3]\t[0 2 0 0 1]\n",
      "2次元の場合\n",
      "a\n",
      "[[2 3]\n",
      " [3 3]\n",
      " [0 2]\n",
      " [1 4]\n",
      " [1 0]\n",
      " [1 2]\n",
      " [0 4]\n",
      " [4 0]\n",
      " [2 0]\n",
      " [0 0]]\n",
      "a<3\n",
      "[[ True False]\n",
      " [False False]\n",
      " [ True  True]\n",
      " [ True False]\n",
      " [ True  True]\n",
      " [ True  True]\n",
      " [ True False]\n",
      " [False  True]\n",
      " [ True  True]\n",
      " [ True  True]]\n",
      "1列目が3より小さいのものを抽出\n",
      "(a<3)[:,0]\n",
      "[ True False  True  True  True  True  True False  True  True]\n",
      "a[(a<3)[:,0]]\n",
      "[[2 3]\n",
      " [0 2]\n",
      " [1 4]\n",
      " [1 0]\n",
      " [1 2]\n",
      " [0 4]\n",
      " [2 0]\n",
      " [0 0]]\n"
     ]
    }
   ],
   "source": [
    "print('1次元の場合')\n",
    "a = gen.integers(5,size=[10])\n",
    "print(f'a\\t{a}')\n",
    "print(f'a<3\\t{a<3}')\n",
    "print(f'a[a<3]\\t{a[a<3]}')\n",
    "\n",
    "print('2次元の場合')\n",
    "a = gen.integers(5,size=[10,2])\n",
    "print(f'a\\n{a}')\n",
    "print(f'a<3\\n{a<3}')\n",
    "print('1列目が3より小さいのものを抽出')\n",
    "print(f'(a<3)[:,0]\\n{(a<3)[:,0]}')\n",
    "print(f'a[(a<3)[:,0]]\\n{a[(a<3)[:,0]]}')\n"
   ]
  },
  {
   "cell_type": "code",
   "execution_count": 15,
   "id": "3208aa95-946b-4506-ba85-b763bf3f5266",
   "metadata": {},
   "outputs": [
    {
     "name": "stdout",
     "output_type": "stream",
     "text": [
      "ypが0に対応するytを抽出する\n",
      "yt\t[0 1 2 3 4 5 6 7 8 9]\n",
      "yp\t[0 1 1 0 1 0 0 0 1 0]\n",
      "yp==0\t[ True False False  True False  True  True  True False  True]\n",
      "yt[yp==0]\t[0 3 5 6 7 9]\n",
      "\n",
      "ytの値が4より大きいものに対応するypを抽出する\n",
      "yt\t[0 1 2 3 4 5 6 7 8 9]\n",
      "yp\t[0 1 1 0 1 0 0 0 1 0]\n",
      "yt>4\t[False False False False False  True  True  True  True  True]\n",
      "yp[yt>4]\t[0 0 0 1 0]\n"
     ]
    }
   ],
   "source": [
    "### 応用\n",
    "\n",
    "yt = np.array([0, 1, 2, 3, 4, 5, 6, 7, 8, 9])\n",
    "yp = np.array([0, 1, 1, 0, 1, 0, 0, 0, 1, 0])\n",
    "\n",
    "print(\"ypが0に対応するytを抽出する\")\n",
    "print(f'yt\\t{yt}')\n",
    "print(f'yp\\t{yp}')\n",
    "print(f'yp==0\\t{yp==0}')\n",
    "print(f'yt[yp==0]\\t{yt[yp==0]}')\n",
    "print()\n",
    "\n",
    "print('ytの値が4より大きいものに対応するypを抽出する')\n",
    "print(f'yt\\t{yt}')\n",
    "print(f'yp\\t{yp}')\n",
    "print(f'yt>4\\t{yt>4}')\n",
    "print(f'yp[yt>4]\\t{yp[yt>4]}')"
   ]
  },
  {
   "cell_type": "markdown",
   "id": "c3a06104-5291-43f2-aca8-4f2f36ef7d79",
   "metadata": {},
   "source": [
    "# dictinct関連"
   ]
  },
  {
   "cell_type": "code",
   "execution_count": 23,
   "id": "f1019b8d-f958-41a2-8462-9bcd8c2cb746",
   "metadata": {},
   "outputs": [
    {
     "name": "stdout",
     "output_type": "stream",
     "text": [
      "distinct(*):重複を排除した値を取得\n",
      "np.unique(yp) => [0 1 2]\n",
      "\n",
      "distinct(count(*)):重複を排除した値の行数を取得=>種類数を取得\n",
      "np.unique(yp).size => 3\n",
      "\n",
      "重複した項目の出現回数を取得する     => 要素のndarray、対応する出現回数のndarrayのタプル\n",
      "np.unique(yp, return_counts=True) => (array([0, 1, 2]), array([8, 7, 5]))\n",
      "\n"
     ]
    }
   ],
   "source": [
    "yt = np.array([0, 1, 2, 3, 4, 5, 6, 7, 8, 9,11,12,13,14,15,16,17,18,19,20])\n",
    "yp = np.array([0, 1, 2, 0, 1, 2, 0, 0, 1, 0, 1, 2, 1, 2, 1, 0, 1, 0, 2, 0])\n",
    "\n",
    "# 重複を排除した値を取得\n",
    "print(f'distinct(*):重複を排除した値を取得')\n",
    "print(f'np.unique(yp) => {np.unique(yp)}\\n')\n",
    "\n",
    "print(f'distinct(count(*)):重複を排除した値の行数を取得=>種類数を取得')\n",
    "print(f'np.unique(yp).size => {np.unique(yp).size}\\n')\n",
    "\n",
    "print(f'重複した項目の出現回数を取得する     => 要素のndarray、対応する出現回数のndarrayのタプル')\n",
    "print(f'np.unique(yp, return_counts=True) => {np.unique(yp, return_counts=True)}\\n')\n"
   ]
  }
 ],
 "metadata": {
  "kernelspec": {
   "display_name": "Python 3 (ipykernel)",
   "language": "python",
   "name": "python3"
  },
  "language_info": {
   "codemirror_mode": {
    "name": "ipython",
    "version": 3
   },
   "file_extension": ".py",
   "mimetype": "text/x-python",
   "name": "python",
   "nbconvert_exporter": "python",
   "pygments_lexer": "ipython3",
   "version": "3.11.6"
  },
  "widgets": {
   "application/vnd.jupyter.widget-state+json": {
    "state": {},
    "version_major": 2,
    "version_minor": 0
   }
  }
 },
 "nbformat": 4,
 "nbformat_minor": 5
}
