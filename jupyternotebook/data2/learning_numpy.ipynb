{
 "cells": [
  {
   "cell_type": "markdown",
   "id": "cc95d552-0049-4dea-9e23-706ce9c252e7",
   "metadata": {},
   "source": [
    "# numpy tips"
   ]
  },
  {
   "cell_type": "code",
   "execution_count": 2,
   "id": "94d2f201-6fa0-40c3-a346-5548e0e4dfc4",
   "metadata": {},
   "outputs": [],
   "source": [
    "import numpy as np"
   ]
  },
  {
   "cell_type": "markdown",
   "id": "5ced9e31-9ec3-4c42-acfd-36bd9bc2b848",
   "metadata": {},
   "source": [
    "# 配列を作る"
   ]
  },
  {
   "cell_type": "code",
   "execution_count": 3,
   "id": "fce5410c-cea6-43df-9e57-63cbdd31c95f",
   "metadata": {},
   "outputs": [
    {
     "name": "stdout",
     "output_type": "stream",
     "text": [
      "要素を指定して配列を作る\n",
      "np.array([1,2,3,4,5])\t=>\t[1 2 3 4 5]\n",
      "\n",
      "順列で配列をつくる\n",
      "np.range(5)\t=>\t[0 1 2 3 4]\n",
      "\n",
      "ゼロ埋めで配列をつくる\n",
      "np.zeros((5))\t=>\t[0. 0. 0. 0. 0.]\n",
      "np.zeros((5,5))\t=>\n",
      "[[0. 0. 0. 0. 0.]\n",
      " [0. 0. 0. 0. 0.]\n",
      " [0. 0. 0. 0. 0.]\n",
      " [0. 0. 0. 0. 0.]\n",
      " [0. 0. 0. 0. 0.]]\n",
      "\n",
      "1埋めで配列をつくる\n",
      "np.ones((5))\t=>\t[1. 1. 1. 1. 1.]\n",
      "np.ones((5,5))\t=>\n",
      "[[1. 1. 1. 1. 1.]\n",
      " [1. 1. 1. 1. 1.]\n",
      " [1. 1. 1. 1. 1.]\n",
      " [1. 1. 1. 1. 1.]\n",
      " [1. 1. 1. 1. 1.]]\n",
      "ランダムな配列をつくる\n",
      "np.random.default_rng().random(3)\t=>\t[0.81744325 0.648652   0.79031534]\n",
      "np.random.default_rng().integers(100)\t=>\t39\n",
      "np.random.default_rng().integers(100,size=[10,2])\t=>\n",
      "[[75 57]\n",
      " [42 98]\n",
      " [14 43]\n",
      " [35 80]\n",
      " [32 24]\n",
      " [12 96]\n",
      " [52 62]\n",
      " [78  1]\n",
      " [78 32]\n",
      " [27 47]]\n",
      "np.sort(a)\t=>\n",
      "[[57 75]\n",
      " [42 98]\n",
      " [14 43]\n",
      " [35 80]\n",
      " [24 32]\n",
      " [12 96]\n",
      " [52 62]\n",
      " [ 1 78]\n",
      " [32 78]\n",
      " [27 47]]\n",
      "np.sort(a,axis=0)\t=>\n",
      "[[ 1 32]\n",
      " [12 43]\n",
      " [14 47]\n",
      " [24 62]\n",
      " [27 75]\n",
      " [32 78]\n",
      " [35 78]\n",
      " [42 80]\n",
      " [52 96]\n",
      " [57 98]]\n",
      "np.sort(a,axis=1)\t=>\n",
      "[[ 1 32]\n",
      " [12 43]\n",
      " [14 47]\n",
      " [24 62]\n",
      " [27 75]\n",
      " [32 78]\n",
      " [35 78]\n",
      " [42 80]\n",
      " [52 96]\n",
      " [57 98]]\n"
     ]
    }
   ],
   "source": [
    "print('要素を指定して配列を作る')\n",
    "a = np.array([1,2,3,4,5])\n",
    "print(f'np.array([1,2,3,4,5])\\t=>\\t{a}')\n",
    "print()\n",
    "\n",
    "print('順列で配列をつくる')\n",
    "a = np.arange(5)\n",
    "print(f'np.range(5)\\t=>\\t{a}')\n",
    "print()\n",
    "\n",
    "print('ゼロ埋めで配列をつくる')\n",
    "a = np.zeros((5))\n",
    "print(f'np.zeros((5))\\t=>\\t{a}')\n",
    "a = np.zeros((5,5))\n",
    "print(f'np.zeros((5,5))\\t=>\\n{a}')\n",
    "print()\n",
    "\n",
    "print('1埋めで配列をつくる')\n",
    "a = np.ones((5))\n",
    "print(f'np.ones((5))\\t=>\\t{a}')\n",
    "a = np.ones((5,5))\n",
    "print(f'np.ones((5,5))\\t=>\\n{a}')\n",
    "\n",
    "print('ランダムな配列をつくる')\n",
    "\n",
    "# ランダムな配列を作る\n",
    "### まず、generatorの生成\n",
    "gen= np.random.default_rng()\n",
    "a = gen.random(3)\n",
    "print(f'np.random.default_rng().random(3)\\t=>\\t{a}')\n",
    "\n",
    "a = gen.integers(100)\n",
    "print(f'np.random.default_rng().integers(100)\\t=>\\t{a}')\n",
    "\n",
    "a = gen.integers(100,size=[10,2])\n",
    "print(f'np.random.default_rng().integers(100,size=[10,2])\\t=>\\n{a}')\n",
    "\n",
    "\n",
    "# sort　普通にsort関数/メソッドを使うと、すべての要素が指定された向きでソートされる\n",
    "a = np.sort(a)\n",
    "print(f'np.sort(a)\\t=>\\n{a}')\n",
    "a = np.sort(a,axis=0)\n",
    "print(f'np.sort(a,axis=0)\\t=>\\n{a}')\n",
    "a = np.sort(a,axis=1)\n",
    "print(f'np.sort(a,axis=1)\\t=>\\n{a}')\n",
    "\n"
   ]
  },
  {
   "cell_type": "markdown",
   "id": "1c6999fc-a72a-4099-ab29-ef76fe2481eb",
   "metadata": {},
   "source": [
    "## ソート\n",
    "\n",
    "### ソートはちょっと厄介。numpy.sortを使うと、いわゆるSQLのようにある列を基準にして行をソートする、というような動きはせず、指定された向きですべての要素をソートする"
   ]
  },
  {
   "cell_type": "code",
   "execution_count": 5,
   "id": "e1b1ef91-605b-4b13-9e43-3882f6040b82",
   "metadata": {},
   "outputs": [
    {
     "name": "stdout",
     "output_type": "stream",
     "text": [
      "np.random.default_rng().integers(100,size=[10,2])\t=>\n",
      "[[35 85]\n",
      " [94 42]\n",
      " [45 80]\n",
      " [37 78]\n",
      " [31 86]]\n",
      "np.sort(a)\t=>\n",
      "[[35 85]\n",
      " [42 94]\n",
      " [45 80]\n",
      " [37 78]\n",
      " [31 86]]\n",
      "np.sort(a,axis=0)\t=>\n",
      "[[31 78]\n",
      " [35 80]\n",
      " [37 85]\n",
      " [42 86]\n",
      " [45 94]]\n",
      "np.sort(a,axis=1)\t=>\n",
      "[[35 85]\n",
      " [42 94]\n",
      " [45 80]\n",
      " [37 78]\n",
      " [31 86]]\n"
     ]
    }
   ],
   "source": [
    "a = gen.integers(100,size=[5,2])\n",
    "print(f'np.random.default_rng().integers(100,size=[10,2])\\t=>\\n{a}')\n",
    "\n",
    "\n",
    "# sort　普通にsort関数/メソッドを使うと、すべての要素が指定された向きでソートされる\n",
    "a = np.sort(a)\n",
    "print(f'np.sort(a)\\t=>\\n{a}')\n",
    "a1 = np.sort(a,axis=0)\n",
    "print(f'np.sort(a,axis=0)\\t=>\\n{a1}')\n",
    "a2 = np.sort(a,axis=1)\n",
    "print(f'np.sort(a,axis=1)\\t=>\\n{a2}')"
   ]
  },
  {
   "cell_type": "markdown",
   "id": "56f2fbf4-62d2-47c1-957d-947ffce6c060",
   "metadata": {},
   "source": [
    "### いわゆる、テーブルデータで期待するソートは以下のように実施する\n",
    "\n",
    "* これって、配列が巨大だった場合、巨大な配列の並び替えたコピーを作るってことで、データが巨大な場合は注意が必要。\n",
    "* ソート順の配列を取得する際のソートのアルゴリズムは選択できるらしいけど、そのインデックスをもとに巨大な配列を作り直すということになるので"
   ]
  },
  {
   "cell_type": "code",
   "execution_count": 6,
   "id": "3cfc72a7-cfdf-4c61-999f-b1b9aaa97ab5",
   "metadata": {},
   "outputs": [
    {
     "name": "stdout",
     "output_type": "stream",
     "text": [
      "a =>\n",
      "[[35 85]\n",
      " [42 94]\n",
      " [45 80]\n",
      " [37 78]\n",
      " [31 86]]\n",
      "\n",
      "np.argsort(a,axis=0) =\n",
      "[[4 3]\n",
      " [0 2]\n",
      " [3 0]\n",
      " [1 4]\n",
      " [2 1]]\n",
      "\n",
      "sorted_index[:,0] =\n",
      "[4 0 3 1 2]\n",
      "\n",
      "a[sorted_index[:,0]]\t=>\n",
      "[[31 86]\n",
      " [35 85]\n",
      " [37 78]\n",
      " [42 94]\n",
      " [45 80]]\n",
      "\n"
     ]
    }
   ],
   "source": [
    "print(f'a =>\\n{a}\\n')\n",
    "sorted_index = np.argsort(a,axis=0)\n",
    "print(f'np.argsort(a,axis=0) =\\n{sorted_index}\\n')\n",
    "print(f'sorted_index[:,0] =\\n{sorted_index[:,0]}\\n')\n",
    "a3 = a[sorted_index[:,0]]\n",
    "print(f'a[sorted_index[:,0]]\\t=>\\n{a3}\\n')"
   ]
  },
  {
   "cell_type": "markdown",
   "id": "8c1c1374-7bf9-4a1f-bb0d-f433f7955569",
   "metadata": {},
   "source": [
    "## numpayの配列の演算\n",
    "\n",
    "### ndarrayの四則演算は、同じ大きさの配列の場合、同じインデックスの要素ごとに四則演算をしてくれる\n",
    "\n",
    "詳しくはここを参照。https://note.nkmk.me/python-numpy-matrix/"
   ]
  },
  {
   "cell_type": "code",
   "execution_count": 8,
   "id": "c349ecea-9f0c-4de6-bb20-aff4e168f4cb",
   "metadata": {},
   "outputs": [
    {
     "name": "stdout",
     "output_type": "stream",
     "text": [
      "a + b = [ 4  8 20]\n",
      "a - b = [ 2  4 12]\n",
      "a * b = [ 3 12 64]\n",
      "a / b = [3. 3. 4.]\n",
      "a + b = [[ 4  8 20]\n",
      " [ 8 16 40]]\n",
      "a - b = [[ 2  4 12]\n",
      " [ 4  8 24]]\n",
      "a * b = [[  3  12  64]\n",
      " [ 12  48 256]]\n",
      "a / b = [[3. 3. 4.]\n",
      " [3. 3. 4.]]\n",
      "a @ b.T = [[ 79 158]\n",
      " [158 316]]\n",
      "a.T @ b = [[ 15  30  60]\n",
      " [ 30  60 120]\n",
      " [ 80 160 320]]\n"
     ]
    }
   ],
   "source": [
    "# numpyのarrayの四則演算\n",
    "\n",
    "# 1列の場合\n",
    "a = np.array((3,6,16))\n",
    "b = np.array((1,2,4))\n",
    "print(f'a + b = {a + b}')\n",
    "print(f'a - b = {a - b}')\n",
    "print(f'a * b = {a * b}')\n",
    "print(f'a / b = {a / b}')\n",
    "\n",
    "# 2列の場合\n",
    "a = np.array([[3,6,16],[6,12,32]])\n",
    "b = np.array([[1,2,4],[2,4,8]])\n",
    "\n",
    "print(f'a + b = {a + b}')\n",
    "print(f'a - b = {a - b}')\n",
    "print(f'a * b = {a * b}')\n",
    "print(f'a / b = {a / b}')\n",
    "\n",
    "# @\n",
    "print(f'a @ b.T = {a @ b.T}')\n",
    "print(f'a.T @ b = {a.T @ b}')    "
   ]
  },
  {
   "cell_type": "markdown",
   "id": "f747af69-bf2a-4a68-9680-17704fdd6e8f",
   "metadata": {},
   "source": [
    "## numpy ndarrayを条件でフィルタリングする"
   ]
  },
  {
   "cell_type": "markdown",
   "id": "adc907fd-6086-4344-9509-c45187630f46",
   "metadata": {},
   "source": [
    "### 単純な条件判断\n",
    "\n",
    "評価オペランドで、その評価結果の配列が返却される"
   ]
  },
  {
   "cell_type": "code",
   "execution_count": 11,
   "id": "f8456ecf-1a63-4ce1-b56d-e1293a0853e4",
   "metadata": {},
   "outputs": [
    {
     "name": "stdout",
     "output_type": "stream",
     "text": [
      "a\t[60 54 38 82 82 13 37 65 62 29]\n",
      "a>50\t[ True  True False  True  True False False  True  True False]\n",
      "a\t[4 1 0 0 4 0 0 4 2 1]\n",
      "a==0\t[False False  True  True False  True  True False False False]\n"
     ]
    }
   ],
   "source": [
    "a = gen.integers(100,size=[10])\n",
    "\n",
    "print(f'a\\t{a}')\n",
    "print(f'a>50\\t{a>50}')\n",
    "\n",
    "a = gen.integers(5,size=[10])\n",
    "print(f'a\\t{a}')\n",
    "print(f'a==0\\t{a==0}')"
   ]
  },
  {
   "cell_type": "markdown",
   "id": "0b618071-caf9-405d-a75b-3c80b8fe7f2d",
   "metadata": {},
   "source": [
    "### 条件に合致したものを取り出す式"
   ]
  },
  {
   "cell_type": "code",
   "execution_count": 13,
   "id": "de271000-e17c-4087-88aa-c22798454de5",
   "metadata": {},
   "outputs": [
    {
     "name": "stdout",
     "output_type": "stream",
     "text": [
      "1次元の場合\n",
      "a\t[0 2 3 0 4 3 0 3 4 1]\n",
      "a<3\t[ True  True False  True False False  True False False  True]\n",
      "a[a<3]\t[0 2 0 0 1]\n",
      "2次元の場合\n",
      "a\n",
      "[[2 3]\n",
      " [3 3]\n",
      " [0 2]\n",
      " [1 4]\n",
      " [1 0]\n",
      " [1 2]\n",
      " [0 4]\n",
      " [4 0]\n",
      " [2 0]\n",
      " [0 0]]\n",
      "a<3\n",
      "[[ True False]\n",
      " [False False]\n",
      " [ True  True]\n",
      " [ True False]\n",
      " [ True  True]\n",
      " [ True  True]\n",
      " [ True False]\n",
      " [False  True]\n",
      " [ True  True]\n",
      " [ True  True]]\n",
      "1列目が3より小さいのものを抽出\n",
      "(a<3)[:,0]\n",
      "[ True False  True  True  True  True  True False  True  True]\n",
      "a[(a<3)[:,0]]\n",
      "[[2 3]\n",
      " [0 2]\n",
      " [1 4]\n",
      " [1 0]\n",
      " [1 2]\n",
      " [0 4]\n",
      " [2 0]\n",
      " [0 0]]\n"
     ]
    }
   ],
   "source": [
    "print('1次元の場合')\n",
    "a = gen.integers(5,size=[10])\n",
    "print(f'a\\t{a}')\n",
    "print(f'a<3\\t{a<3}')\n",
    "print(f'a[a<3]\\t{a[a<3]}')\n",
    "\n",
    "print('2次元の場合')\n",
    "a = gen.integers(5,size=[10,2])\n",
    "print(f'a\\n{a}')\n",
    "print(f'a<3\\n{a<3}')\n",
    "print('1列目が3より小さいのものを抽出')\n",
    "print(f'(a<3)[:,0]\\n{(a<3)[:,0]}')\n",
    "print(f'a[(a<3)[:,0]]\\n{a[(a<3)[:,0]]}')\n"
   ]
  },
  {
   "cell_type": "code",
   "execution_count": 15,
   "id": "3208aa95-946b-4506-ba85-b763bf3f5266",
   "metadata": {},
   "outputs": [
    {
     "name": "stdout",
     "output_type": "stream",
     "text": [
      "ypが0に対応するytを抽出する\n",
      "yt\t[0 1 2 3 4 5 6 7 8 9]\n",
      "yp\t[0 1 1 0 1 0 0 0 1 0]\n",
      "yp==0\t[ True False False  True False  True  True  True False  True]\n",
      "yt[yp==0]\t[0 3 5 6 7 9]\n",
      "\n",
      "ytの値が4より大きいものに対応するypを抽出する\n",
      "yt\t[0 1 2 3 4 5 6 7 8 9]\n",
      "yp\t[0 1 1 0 1 0 0 0 1 0]\n",
      "yt>4\t[False False False False False  True  True  True  True  True]\n",
      "yp[yt>4]\t[0 0 0 1 0]\n"
     ]
    }
   ],
   "source": [
    "### 応用\n",
    "\n",
    "yt = np.array([0, 1, 2, 3, 4, 5, 6, 7, 8, 9])\n",
    "yp = np.array([0, 1, 1, 0, 1, 0, 0, 0, 1, 0])\n",
    "\n",
    "print(\"ypが0に対応するytを抽出する\")\n",
    "print(f'yt\\t{yt}')\n",
    "print(f'yp\\t{yp}')\n",
    "print(f'yp==0\\t{yp==0}')\n",
    "print(f'yt[yp==0]\\t{yt[yp==0]}')\n",
    "print()\n",
    "\n",
    "print('ytの値が4より大きいものに対応するypを抽出する')\n",
    "print(f'yt\\t{yt}')\n",
    "print(f'yp\\t{yp}')\n",
    "print(f'yt>4\\t{yt>4}')\n",
    "print(f'yp[yt>4]\\t{yp[yt>4]}')"
   ]
  },
  {
   "cell_type": "markdown",
   "id": "c3a06104-5291-43f2-aca8-4f2f36ef7d79",
   "metadata": {},
   "source": [
    "# dictinct関連"
   ]
  },
  {
   "cell_type": "code",
   "execution_count": 4,
   "id": "f1019b8d-f958-41a2-8462-9bcd8c2cb746",
   "metadata": {},
   "outputs": [
    {
     "name": "stdout",
     "output_type": "stream",
     "text": [
      "distinct(*):重複を排除した値を取得\n",
      "np.unique(yp) => [0 1 2]\n",
      "\n",
      "distinct(count(*)):重複を排除した値の行数を取得=>種類数を取得\n",
      "np.unique(yp).size => 3\n",
      "\n",
      "重複した項目の出現回数を取得する     => 要素のndarray、対応する出現回数のndarrayのタプル\n",
      "np.unique(yp, return_counts=True) => (array([0, 1, 2]), array([8, 7, 5]))\n",
      "\n"
     ]
    }
   ],
   "source": [
    "yp = np.array([0, 1, 2, 0, 1, 2, 0, 0, 1, 0, 1, 2, 1, 2, 1, 0, 1, 0, 2, 0])\n",
    "\n",
    "# 重複を排除した値を取得\n",
    "print(f'distinct(*):重複を排除した値を取得')\n",
    "print(f'np.unique(yp) => {np.unique(yp)}\\n')\n",
    "\n",
    "print(f'distinct(count(*)):重複を排除した値の行数を取得=>種類数を取得')\n",
    "print(f'np.unique(yp).size => {np.unique(yp).size}\\n')\n",
    "\n",
    "print(f'重複した項目の出現回数を取得する     => 要素のndarray、対応する出現回数のndarrayのタプル')\n",
    "print(f'np.unique(yp, return_counts=True) => {np.unique(yp, return_counts=True)}\\n')\n"
   ]
  },
  {
   "cell_type": "markdown",
   "id": "c485ee2c-cfde-4865-a2bc-8d7b3d1abd9b",
   "metadata": {},
   "source": [
    "# 最大値/最小値、最大値の要素インデックス/最小値の要素インデックスの取得\n",
    "\n",
    "* 最大値/最小値の取得 np.max/min\n",
    "* 最大値の要素インデックス/最小値の要素インデックスの取得　np.argmax/argmin"
   ]
  },
  {
   "cell_type": "code",
   "execution_count": 24,
   "id": "290292ad-6190-412c-b11c-450fbc96b12d",
   "metadata": {},
   "outputs": [
    {
     "name": "stdout",
     "output_type": "stream",
     "text": [
      "a => \n",
      "[[16 27 26]\n",
      " [14 12 29]\n",
      " [19 16 15]\n",
      " [15 20 10]\n",
      " [11 19 18]\n",
      " [ 4 23 23]\n",
      " [22 25 17]\n",
      " [29 18 24]\n",
      " [ 6  7 29]\n",
      " [ 8  9  6]]\n",
      "\n",
      "np.maxの結果\n",
      "  np.max(a) => 29\n",
      "  np.max(a,axis=0) => [29 27 29]\n",
      "  np.max(a,axis=1) => [27 29 19 20 19 23 25 29 29  9]\n",
      "np.minの結果\n",
      "  np.min(a) => 4\n",
      "  np.min(a,axis=0) => [4 7 6]\n",
      "  np.min(a,axis=1) => [16 12 15 10 11  4 17 18  6  6]\n",
      "\n",
      "np.argmaxの結果\n",
      "  np.argmax(a) => 5\n",
      "  np.argmax(a,axis=0) => [7 0 1]\n",
      "  np.argmax(a,axis=1) => [1 2 0 1 1 1 1 0 2 1]\n",
      "np.argminの結果\n",
      "  np.argmin(a) => 5\n",
      "  np.argmin(a,axis=0) => [5 8 9]\n",
      "  np.argmin(a,axis=1) => [0 1 2 2 0 0 2 1 0 2]\n"
     ]
    }
   ],
   "source": [
    "a = np.random.default_rng().integers(30,size=[10,3])\n",
    "#a = np.(30).reshape((10,3))\n",
    "print(f'a => \\n{a}\\n')\n",
    "\n",
    "# max/minの場合\n",
    "print('np.maxの結果')\n",
    "print(f'  np.max(a) => {np.max(a)}')\n",
    "print(f'  np.max(a,axis=0) => {np.max(a,axis=0)}')\n",
    "print(f'  np.max(a,axis=1) => {np.max(a,axis=1)}')\n",
    "print('np.minの結果')\n",
    "print(f'  np.min(a) => {np.min(a)}')\n",
    "print(f'  np.min(a,axis=0) => {np.min(a,axis=0)}')\n",
    "print(f'  np.min(a,axis=1) => {np.min(a,axis=1)}')\n",
    "print()\n",
    "\n",
    "# axisを設定しない場合、単純にmax値が返却\n",
    "print('np.argmaxの結果')\n",
    "print(f'  np.argmax(a) => {np.argmax(a)}')\n",
    "print(f'  np.argmax(a,axis=0) => {np.argmax(a,axis=0)}')\n",
    "print(f'  np.argmax(a,axis=1) => {np.argmax(a,axis=1)}')\n",
    "print('np.argminの結果')\n",
    "print(f'  np.argmin(a) => {np.argmax(a)}')\n",
    "print(f'  np.argmin(a,axis=0) => {np.argmin(a,axis=0)}')\n",
    "print(f'  np.argmin(a,axis=1) => {np.argmin(a,axis=1)}')\n",
    "\n"
   ]
  },
  {
   "cell_type": "markdown",
   "id": "48000c40-ef06-437f-bbb3-ba0fea9ff80e",
   "metadata": {},
   "source": [
    "# 配列の結合"
   ]
  },
  {
   "cell_type": "code",
   "execution_count": 22,
   "id": "cde44330-6eb0-4044-b091-4696bc7c6cb3",
   "metadata": {},
   "outputs": [
    {
     "name": "stdout",
     "output_type": "stream",
     "text": [
      "[0 1 2 3 4 5 6 7 8 9]\n",
      "[10 11 12 13 14 15 16 17 18 19]\n"
     ]
    }
   ],
   "source": [
    "a = np.arange(10)\n",
    "b = np.arange(10,20)\n",
    "\n",
    "# テスト対象データ\n",
    "print(a)\n",
    "print(b)\n"
   ]
  },
  {
   "cell_type": "markdown",
   "id": "e86ca4c2-af57-4b63-967e-38d914660415",
   "metadata": {},
   "source": [
    "## 横方向（カラム方向）に結合"
   ]
  },
  {
   "cell_type": "markdown",
   "id": "55a75bd6-6e1c-4c48-9008-03626ff86af1",
   "metadata": {},
   "source": [
    "### １次元配列の場合は、１列の行列に変換し、横に結合"
   ]
  },
  {
   "cell_type": "code",
   "execution_count": 49,
   "id": "8d9d88aa-e4a9-45c1-ae7e-8943f823df98",
   "metadata": {},
   "outputs": [
    {
     "name": "stdout",
     "output_type": "stream",
     "text": [
      "引数に一つの配列を渡すと、１列の行列を返却\n",
      "np.c_[a] => \n",
      "[[0]\n",
      " [1]\n",
      " [2]\n",
      " [3]\n",
      " [4]\n",
      " [5]\n",
      " [6]\n",
      " [7]\n",
      " [8]\n",
      " [9]]\n",
      "\n",
      "引数に２つの配列を渡すと、それぞれ１列の行列に変換し、横に結合\n",
      "np.c_[a,b] =>\n",
      "[[ 0 10]\n",
      " [ 1 11]\n",
      " [ 2 12]\n",
      " [ 3 13]\n",
      " [ 4 14]\n",
      " [ 5 15]\n",
      " [ 6 16]\n",
      " [ 7 17]\n",
      " [ 8 18]\n",
      " [ 9 19]]\n"
     ]
    }
   ],
   "source": [
    "print('引数に一つの配列を渡すと、１列の行列を返却')\n",
    "print(f'np.c_[a] => \\n{np.c_[a]}\\n')\n",
    "\n",
    "print('引数に２つの配列を渡すと、それぞれ１列の行列に変換し、横に結合')\n",
    "print(f'np.c_[a,b] =>\\n{np.c_[a,b]}')"
   ]
  },
  {
   "cell_type": "markdown",
   "id": "2db4317e-868c-40ff-924a-ebd0577ed56f",
   "metadata": {},
   "source": [
    "### 元が行列の場合、単純に横に結合"
   ]
  },
  {
   "cell_type": "code",
   "execution_count": 45,
   "id": "f2e54bb2-14df-4778-8cc6-aff2c78901ca",
   "metadata": {},
   "outputs": [
    {
     "name": "stdout",
     "output_type": "stream",
     "text": [
      "a.reshape([5,2]) =>\n",
      "[[0 1]\n",
      " [2 3]\n",
      " [4 5]\n",
      " [6 7]\n",
      " [8 9]]\n",
      "b.reshape([5,2]) =>\n",
      "[[10 11]\n",
      " [12 13]\n",
      " [14 15]\n",
      " [16 17]\n",
      " [18 19]]\n",
      "\n",
      "np.c_[ar,br] =>\n",
      "[[ 0  1 10 11]\n",
      " [ 2  3 12 13]\n",
      " [ 4  5 14 15]\n",
      " [ 6  7 16 17]\n",
      " [ 8  9 18 19]]\n",
      "\n",
      "列数は一致していなくてOK\n",
      "np.c_[arbr,ar] => \n",
      "[[ 0  1 10 11  0  1]\n",
      " [ 2  3 12 13  2  3]\n",
      " [ 4  5 14 15  4  5]\n",
      " [ 6  7 16 17  6  7]\n",
      " [ 8  9 18 19  8  9]]\n",
      "結合軸（行数）が一致していないとエラー\n",
      "np.c_[a,ar]\n"
     ]
    },
    {
     "ename": "ValueError",
     "evalue": "all the input array dimensions except for the concatenation axis must match exactly, but along dimension 0, the array at index 0 has size 10 and the array at index 1 has size 5",
     "output_type": "error",
     "traceback": [
      "\u001b[0;31m---------------------------------------------------------------------------\u001b[0m",
      "\u001b[0;31mValueError\u001b[0m                                Traceback (most recent call last)",
      "Cell \u001b[0;32mIn[45], line 18\u001b[0m\n\u001b[1;32m     16\u001b[0m \u001b[38;5;28mprint\u001b[39m(\u001b[38;5;124m'\u001b[39m\u001b[38;5;124m結合軸（行数）が一致していないとエラー\u001b[39m\u001b[38;5;124m'\u001b[39m)\n\u001b[1;32m     17\u001b[0m \u001b[38;5;28mprint\u001b[39m(\u001b[38;5;124m'\u001b[39m\u001b[38;5;124mnp.c_[a,ar]\u001b[39m\u001b[38;5;124m'\u001b[39m)\n\u001b[0;32m---> 18\u001b[0m \u001b[43mnp\u001b[49m\u001b[38;5;241;43m.\u001b[39;49m\u001b[43mc_\u001b[49m\u001b[43m[\u001b[49m\u001b[43ma\u001b[49m\u001b[43m,\u001b[49m\u001b[43mar\u001b[49m\u001b[43m]\u001b[49m\n",
      "File \u001b[0;32m/opt/conda/lib/python3.11/site-packages/numpy/lib/index_tricks.py:419\u001b[0m, in \u001b[0;36mAxisConcatenator.__getitem__\u001b[0;34m(self, key)\u001b[0m\n\u001b[1;32m    416\u001b[0m     \u001b[38;5;28;01mfor\u001b[39;00m k \u001b[38;5;129;01min\u001b[39;00m scalars:\n\u001b[1;32m    417\u001b[0m         objs[k] \u001b[38;5;241m=\u001b[39m objs[k]\u001b[38;5;241m.\u001b[39mastype(final_dtype)\n\u001b[0;32m--> 419\u001b[0m res \u001b[38;5;241m=\u001b[39m \u001b[38;5;28;43mself\u001b[39;49m\u001b[38;5;241;43m.\u001b[39;49m\u001b[43mconcatenate\u001b[49m\u001b[43m(\u001b[49m\u001b[38;5;28;43mtuple\u001b[39;49m\u001b[43m(\u001b[49m\u001b[43mobjs\u001b[49m\u001b[43m)\u001b[49m\u001b[43m,\u001b[49m\u001b[43m \u001b[49m\u001b[43maxis\u001b[49m\u001b[38;5;241;43m=\u001b[39;49m\u001b[43maxis\u001b[49m\u001b[43m)\u001b[49m\n\u001b[1;32m    421\u001b[0m \u001b[38;5;28;01mif\u001b[39;00m matrix:\n\u001b[1;32m    422\u001b[0m     oldndim \u001b[38;5;241m=\u001b[39m res\u001b[38;5;241m.\u001b[39mndim\n",
      "File \u001b[0;32m<__array_function__ internals>:200\u001b[0m, in \u001b[0;36mconcatenate\u001b[0;34m(*args, **kwargs)\u001b[0m\n",
      "\u001b[0;31mValueError\u001b[0m: all the input array dimensions except for the concatenation axis must match exactly, but along dimension 0, the array at index 0 has size 10 and the array at index 1 has size 5"
     ]
    }
   ],
   "source": [
    "ar = a.reshape([5,2])\n",
    "br = b.reshape([5,2])\n",
    "\n",
    "print(f'a.reshape([5,2]) =>\\n{ar}')\n",
    "print(f'b.reshape([5,2]) =>\\n{br}\\n')\n",
    "\n",
    "arbr = np.c_[ar,br]\n",
    "print(f'np.c_[ar,br] =>\\n{arbr}\\n')\n",
    "\n",
    "print('列数は一致していなくてOK')\n",
    "\n",
    "arbrar = np.c_[arbr,ar]\n",
    "\n",
    "print(f'np.c_[arbr,ar] => \\n{arbrar}')\n",
    "\n",
    "print('結合軸（行数）が一致していないとエラー')\n",
    "print('np.c_[a,ar]')\n",
    "np.c_[a,ar]\n"
   ]
  },
  {
   "cell_type": "markdown",
   "id": "729c70f2-8644-4ada-9659-6b4ce23ee433",
   "metadata": {},
   "source": [
    "### c_関数を使った配列の縦ベクトル化"
   ]
  },
  {
   "cell_type": "code",
   "execution_count": 57,
   "id": "a3dc95c4-eb06-45d6-be98-9c6911665cef",
   "metadata": {},
   "outputs": [
    {
     "name": "stdout",
     "output_type": "stream",
     "text": [
      "a =>\n",
      "[0 1 2 3 4 5 6 7 8 9]\n",
      "\n",
      "a.reshape([10,1]) =>\n",
      "[[0]\n",
      " [1]\n",
      " [2]\n",
      " [3]\n",
      " [4]\n",
      " [5]\n",
      " [6]\n",
      " [7]\n",
      " [8]\n",
      " [9]]\n",
      "\n",
      "np.c_[a] =>[[0]\n",
      " [1]\n",
      " [2]\n",
      " [3]\n",
      " [4]\n",
      " [5]\n",
      " [6]\n",
      " [7]\n",
      " [8]\n",
      " [9]]\n",
      "\n",
      "a.reshape([10,1]) == np.c_[a] =>[[ True]\n",
      " [ True]\n",
      " [ True]\n",
      " [ True]\n",
      " [ True]\n",
      " [ True]\n",
      " [ True]\n",
      " [ True]\n",
      " [ True]\n",
      " [ True]]\n"
     ]
    }
   ],
   "source": [
    "print(f'a =>\\n{a}\\n')\n",
    "print(f'a.reshape([10,1]) =>\\n{a.reshape([10,1])}\\n')\n",
    "print(f'np.c_[a] =>{np.c_[a]}\\n')\n",
    "\n",
    "print(f'a.reshape([10,1]) == np.c_[a] =>{a.reshape([10,1]) == np.c_[a]}')"
   ]
  },
  {
   "cell_type": "markdown",
   "id": "42c2b06c-cc5f-4d4e-80c6-4fd0df12e68e",
   "metadata": {},
   "source": [
    "## 縦方向（行方向）に結合\n",
    "\n",
    "１次元配列の場合、そのまま後ろに結合される"
   ]
  },
  {
   "cell_type": "code",
   "execution_count": 62,
   "id": "8c1b2930-073c-426a-8261-c66c185e44a8",
   "metadata": {},
   "outputs": [
    {
     "name": "stdout",
     "output_type": "stream",
     "text": [
      "a => [0 1 2 3 4 5 6 7 8 9]\n",
      "b => [10 11 12 13 14 15 16 17 18 19]\n",
      "\n",
      "np.r_[a,b] =>\n",
      "[ 0  1  2  3  4  5  6  7  8  9 10 11 12 13 14 15 16 17 18 19]\n",
      "\n",
      "\n",
      "ar => [[0 1]\n",
      " [2 3]\n",
      " [4 5]\n",
      " [6 7]\n",
      " [8 9]]\n",
      "br => [[10 11]\n",
      " [12 13]\n",
      " [14 15]\n",
      " [16 17]\n",
      " [18 19]]\n",
      "\n",
      "np.r_[ar,br] =>\n",
      "[[ 0  1]\n",
      " [ 2  3]\n",
      " [ 4  5]\n",
      " [ 6  7]\n",
      " [ 8  9]\n",
      " [10 11]\n",
      " [12 13]\n",
      " [14 15]\n",
      " [16 17]\n",
      " [18 19]]\n"
     ]
    }
   ],
   "source": [
    "print(f'a => {a}')\n",
    "print(f'b => {b}\\n')\n",
    "print(f'np.r_[a,b] =>\\n{np.r_[a,b]}\\n')\n",
    "print()\n",
    "\n",
    "\n",
    "print(f'ar => {ar}')\n",
    "print(f'br => {br}\\n')\n",
    "print(f'np.r_[ar,br] =>\\n{np.r_[ar,br]}')\n",
    "\n"
   ]
  },
  {
   "cell_type": "markdown",
   "id": "1db53c75-fede-4673-b2e5-5d7e83cabe04",
   "metadata": {},
   "source": [
    "# numpy.save／load"
   ]
  },
  {
   "cell_type": "code",
   "execution_count": 25,
   "id": "760c9841-2891-42ee-a3e6-951f90a1db2f",
   "metadata": {},
   "outputs": [
    {
     "name": "stdout",
     "output_type": "stream",
     "text": [
      "x11:[[[0 1]\n",
      "  [2 3]]\n",
      "\n",
      " [[4 5]\n",
      "  [6 7]]]\n",
      "x21:[[[ 8  9]\n",
      "  [10 11]]\n",
      "\n",
      " [[12 13]\n",
      "  [14 15]]]\n",
      "rr:[[[ 0  1]\n",
      "  [ 2  3]]\n",
      "\n",
      " [[ 4  5]\n",
      "  [ 6  7]]\n",
      "\n",
      " [[ 8  9]\n",
      "  [10 11]]\n",
      "\n",
      " [[12 13]\n",
      "  [14 15]]]\n"
     ]
    }
   ],
   "source": [
    "x1 = np.arange(8)\n",
    "x2 = np.arange(8,16)\n",
    "x11 = x1.reshape((2,2,2))\n",
    "x21 = x2.reshape((2,2,2))\n",
    "\n",
    "rr = np.r_[x11,x21]\n",
    "\n",
    "print(f'x11:{x11}')\n",
    "print(f'x21:{x21}')\n",
    "print(f'rr:{rr}')\n"
   ]
  },
  {
   "cell_type": "markdown",
   "id": "1d89e639-7f87-4a0e-b1e7-507a3458fb68",
   "metadata": {},
   "source": [
    "### numpy.saveは、ndarrayじゃなくても、array like objectであればシリアライズできるみたい"
   ]
  },
  {
   "cell_type": "code",
   "execution_count": 28,
   "id": "84c0da8f-6da0-4a0d-83fd-fb75ae471648",
   "metadata": {},
   "outputs": [],
   "source": [
    "results = []\n",
    "results.append(x11)\n",
    "results.append(x21)\n",
    "\n",
    "results\n",
    "\n",
    "np.save('tmp/np_save',results)"
   ]
  },
  {
   "cell_type": "code",
   "execution_count": 29,
   "id": "79cf4c6d-717d-445b-b8ef-bcd9eaeaf755",
   "metadata": {},
   "outputs": [
    {
     "data": {
      "text/plain": [
       "[array([[[0, 1],\n",
       "         [2, 3]],\n",
       " \n",
       "        [[4, 5],\n",
       "         [6, 7]]]),\n",
       " array([[[ 8,  9],\n",
       "         [10, 11]],\n",
       " \n",
       "        [[12, 13],\n",
       "         [14, 15]]])]"
      ]
     },
     "execution_count": 29,
     "metadata": {},
     "output_type": "execute_result"
    }
   ],
   "source": [
    "results"
   ]
  },
  {
   "cell_type": "markdown",
   "id": "c7a43e2d-8abb-4255-804b-e6fc8acc3754",
   "metadata": {},
   "source": [
    "### loadすると、もともとPythonのlistだったものが、ndarrayに変換されて保存されていることがわかる。"
   ]
  },
  {
   "cell_type": "code",
   "execution_count": 31,
   "id": "b3977a67-a1fe-407e-aea1-f2acf6b1e02f",
   "metadata": {},
   "outputs": [],
   "source": [
    "loaded = np.load('tmp/np_save.npy')"
   ]
  },
  {
   "cell_type": "code",
   "execution_count": 36,
   "id": "4e4cabe4-89f6-4815-bd8f-6ecdc4118536",
   "metadata": {},
   "outputs": [
    {
     "data": {
      "text/plain": [
       "array([[[[ 0,  1],\n",
       "         [ 2,  3]],\n",
       "\n",
       "        [[ 4,  5],\n",
       "         [ 6,  7]]],\n",
       "\n",
       "\n",
       "       [[[ 8,  9],\n",
       "         [10, 11]],\n",
       "\n",
       "        [[12, 13],\n",
       "         [14, 15]]]])"
      ]
     },
     "execution_count": 36,
     "metadata": {},
     "output_type": "execute_result"
    }
   ],
   "source": [
    "loaded"
   ]
  },
  {
   "cell_type": "code",
   "execution_count": 37,
   "id": "640e7163-91dd-4260-af3e-eec933046d93",
   "metadata": {},
   "outputs": [],
   "source": [
    "loaded = np.load('images/PXL_20240121_053909046.TS.mp4.pred.mp4.npy')"
   ]
  },
  {
   "cell_type": "code",
   "execution_count": 39,
   "id": "2805e835-9e56-43dd-8a73-287df4a10060",
   "metadata": {},
   "outputs": [
    {
     "data": {
      "text/plain": [
       "(194, 1, 1, 17, 3)"
      ]
     },
     "execution_count": 39,
     "metadata": {},
     "output_type": "execute_result"
    }
   ],
   "source": [
    "loaded.shape"
   ]
  },
  {
   "cell_type": "code",
   "execution_count": 40,
   "id": "09aa425f-129e-4aae-9831-a1024d2f0f3d",
   "metadata": {},
   "outputs": [],
   "source": [
    "del loaded"
   ]
  },
  {
   "cell_type": "code",
   "execution_count": 42,
   "id": "09de5232-5e03-4c7b-8f20-10d4c9e9b658",
   "metadata": {},
   "outputs": [
    {
     "data": {
      "text/plain": [
       "2223"
      ]
     },
     "execution_count": 42,
     "metadata": {},
     "output_type": "execute_result"
    }
   ],
   "source": [
    "import gc\n",
    "\n",
    "gc.collect()"
   ]
  }
 ],
 "metadata": {
  "kernelspec": {
   "display_name": "Python 3 (ipykernel)",
   "language": "python",
   "name": "python3"
  },
  "language_info": {
   "codemirror_mode": {
    "name": "ipython",
    "version": 3
   },
   "file_extension": ".py",
   "mimetype": "text/x-python",
   "name": "python",
   "nbconvert_exporter": "python",
   "pygments_lexer": "ipython3",
   "version": "3.11.6"
  },
  "widgets": {
   "application/vnd.jupyter.widget-state+json": {
    "state": {},
    "version_major": 2,
    "version_minor": 0
   }
  }
 },
 "nbformat": 4,
 "nbformat_minor": 5
}
