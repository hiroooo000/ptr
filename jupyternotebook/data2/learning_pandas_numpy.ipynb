{
 "cells": [
  {
   "cell_type": "markdown",
   "id": "88cb1b19-b472-40bc-a6a2-b48d63217f25",
   "metadata": {},
   "source": [
    "# Pandas Dataframeの扱い方\n",
    "\n",
    "まず読む。回り道したけど、やっぱここから全部通すべきかなー\n",
    "\n",
    "https://pandas.pydata.org/pandas-docs/stable/getting_started/overview.html\n",
    "\n",
    "### dataframeのデータはmutableだが、構造はimmutableだ\n",
    "\n",
    "これを見よ。\n",
    "知りたかったのはこれだよね。\n",
    "\n",
    " ‐ https://pandas.pydata.org/pandas-docs/stable/getting_started/overview.html#mutability-and-copying-of-data"
   ]
  },
  {
   "cell_type": "code",
   "execution_count": 1,
   "id": "fc5613b4-e423-4f29-b5bc-7678e09bb834",
   "metadata": {},
   "outputs": [],
   "source": [
    "import pandas as pd\n",
    "import numpy as np\n"
   ]
  },
  {
   "cell_type": "markdown",
   "id": "9f42fafa-61e3-493c-8fc2-7a2318c4f977",
   "metadata": {},
   "source": [
    "## dataframe作成"
   ]
  },
  {
   "cell_type": "code",
   "execution_count": 12,
   "id": "068bfbe3-0328-48c3-91ce-924686e6ba68",
   "metadata": {},
   "outputs": [
    {
     "name": "stdout",
     "output_type": "stream",
     "text": [
      "2.1.1\n"
     ]
    },
    {
     "data": {
      "text/html": [
       "<div>\n",
       "<style scoped>\n",
       "    .dataframe tbody tr th:only-of-type {\n",
       "        vertical-align: middle;\n",
       "    }\n",
       "\n",
       "    .dataframe tbody tr th {\n",
       "        vertical-align: top;\n",
       "    }\n",
       "\n",
       "    .dataframe thead th {\n",
       "        text-align: right;\n",
       "    }\n",
       "</style>\n",
       "<table border=\"1\" class=\"dataframe\">\n",
       "  <thead>\n",
       "    <tr style=\"text-align: right;\">\n",
       "      <th></th>\n",
       "      <th>age</th>\n",
       "      <th>state</th>\n",
       "      <th>point</th>\n",
       "    </tr>\n",
       "  </thead>\n",
       "  <tbody>\n",
       "    <tr>\n",
       "      <th>0</th>\n",
       "      <td>24</td>\n",
       "      <td>NY</td>\n",
       "      <td>64</td>\n",
       "    </tr>\n",
       "    <tr>\n",
       "      <th>1</th>\n",
       "      <td>42</td>\n",
       "      <td>CA</td>\n",
       "      <td>92</td>\n",
       "    </tr>\n",
       "  </tbody>\n",
       "</table>\n",
       "</div>"
      ],
      "text/plain": [
       "   age state  point\n",
       "0   24    NY     64\n",
       "1   42    CA     92"
      ]
     },
     "execution_count": 12,
     "metadata": {},
     "output_type": "execute_result"
    }
   ],
   "source": [
    "print(pd.__version__)\n",
    "# 2.1.4\n",
    "\n",
    "df = pd.DataFrame({'age': [24, 42], 'state': ['NY', 'CA'], 'point': [64, 92]},\n",
    "                  )\n",
    "\n",
    "# 以下のようにindexを指定してdataframeを作成することも可能。だが、他人が見たときに直観に反するため、明確に使う理由がある場合を除き、使わないほうがよさそう。\n",
    "# そもそも大量データでソートキーとしてindexを使いたいとすると、pythonの前にdbを置くべきか\n",
    "#df = pd.DataFrame({'age': [24, 42], 'state': ['NY', 'CA'], 'point': [64, 92]},\n",
    "#                  index=['Alice', 'Bob'])\n",
    "\n",
    "df"
   ]
  },
  {
   "cell_type": "markdown",
   "id": "f5e53398-1923-4fde-9bcb-ddb35e78699e",
   "metadata": {},
   "source": [
    "### forループ\n",
    "dataframeをそのままforループに回すとカラムが返ってくる\n"
   ]
  },
  {
   "cell_type": "code",
   "execution_count": 13,
   "id": "8a339f43-2351-4898-9bd0-219ebd80783f",
   "metadata": {},
   "outputs": [
    {
     "name": "stdout",
     "output_type": "stream",
     "text": [
      "age\n",
      "state\n",
      "point\n"
     ]
    }
   ],
   "source": [
    "for column_name in df:\n",
    "    print(column_name)\n"
   ]
  },
  {
   "cell_type": "markdown",
   "id": "2130dcbc-e864-402f-87f7-6bc63073e6a4",
   "metadata": {},
   "source": [
    "### 1列ずつ取り出す: items()\n",
    "カラム毎にカラム名とデータのリストが引き渡される\n",
    "\n",
    "‐ https://pandas.pydata.org/pandas-docs/stable/reference/api/pandas.DataFrame.items.html\n",
    "\n",
    "いつ使うんでしょうか？"
   ]
  },
  {
   "cell_type": "code",
   "execution_count": 18,
   "id": "c3df2826-f4a5-46f9-8b3e-28fe6d14da38",
   "metadata": {},
   "outputs": [
    {
     "name": "stdout",
     "output_type": "stream",
     "text": [
      "age\n",
      "<class 'pandas.core.series.Series'>\n",
      "0    24\n",
      "1    42\n",
      "Name: age, dtype: int64\n",
      "======\n",
      "state\n",
      "<class 'pandas.core.series.Series'>\n",
      "0    NY\n",
      "1    CA\n",
      "Name: state, dtype: object\n",
      "======\n",
      "point\n",
      "<class 'pandas.core.series.Series'>\n",
      "0    64\n",
      "1    92\n",
      "Name: point, dtype: int64\n",
      "======\n"
     ]
    }
   ],
   "source": [
    "for column_name, item in df.items():\n",
    "    print(column_name)\n",
    "    print(type(item))\n",
    "    print(item)\n",
    "    print('======')"
   ]
  },
  {
   "cell_type": "markdown",
   "id": "d954e473-2de3-4b5f-a41f-f1823d67da6f",
   "metadata": {},
   "source": [
    "# 1行ずつ取り出す: iterrows(), itertuples()\n",
    "DataFrameから1行ずつ取り出すメソッドにはiterrows()とitertuples()がある。itertuples()のほうが高速。\n",
    "\r\n",
    "特定の列の値のみが必要なのであれば、次に説明するように列を指定して個別にforループで回すほうがさらに速い。処理速度についての実験結果は最後にす "
   ]
  },
  {
   "cell_type": "markdown",
   "id": "52934ec3-5c5a-4696-9c6b-55e8e6f8185d",
   "metadata": {},
   "source": [
    "## iterrows()メソッド\n",
    "行番号と行データを別々に渡してくれるので便利"
   ]
  },
  {
   "cell_type": "code",
   "execution_count": 21,
   "id": "50479e32-c18a-4594-b177-18514fdb2367",
   "metadata": {},
   "outputs": [
    {
     "name": "stdout",
     "output_type": "stream",
     "text": [
      "index:0\n",
      "<class 'pandas.core.series.Series'>\n",
      "24 NY 64\n",
      "======\n",
      "index:1\n",
      "<class 'pandas.core.series.Series'>\n",
      "42 CA 92\n",
      "======\n"
     ]
    }
   ],
   "source": [
    "for index, row in df.iterrows():\n",
    "    print(\"index:%d\" % index)\n",
    "    print(type(row))\n",
    "    print(row['age'], row['state'], row['point'])\n",
    "    print('======')\n"
   ]
  },
  {
   "cell_type": "markdown",
   "id": "5a70a7d4-cbce-49a8-ba1c-7c485fa3fc06",
   "metadata": {},
   "source": [
    "## itertuples()メソッド\n",
    "itertuples()メソッドを使うと、行名とその行のデータ（namedtuple）のタプル(index, namedtuple)を1行ずつ取得できる。\n",
    "\n",
    "pandas.DataFrame.itertuples — pandas 2.1.4 documentation\n",
    "デフォルトではPandasという名前のnamedtuple（名前付きタプル）を返す。最初の要素が行名となる。namedtupleなので、[]のほか.でも各要素の値にアクセスできる。"
   ]
  },
  {
   "cell_type": "code",
   "execution_count": 22,
   "id": "5580713d-d4e7-4dec-9560-177c29cda1ba",
   "metadata": {},
   "outputs": [
    {
     "name": "stdout",
     "output_type": "stream",
     "text": [
      "<class 'pandas.core.frame.Pandas'>\n",
      "Pandas(Index=0, age=24, state='NY', point=64)\n",
      "0 24 NY 64\n",
      "0 24 NY 64\n",
      "======\n",
      "<class 'pandas.core.frame.Pandas'>\n",
      "Pandas(Index=1, age=42, state='CA', point=92)\n",
      "1 42 CA 92\n",
      "1 42 CA 92\n",
      "======\n"
     ]
    }
   ],
   "source": [
    "for row in df.itertuples():\n",
    "    print(type(row))\n",
    "    print(row)\n",
    "    print(row[0], row[1], row[2], row[3])\n",
    "    print(row.Index, row.age, row.state, row.point)\n",
    "    print('======')\n"
   ]
  },
  {
   "cell_type": "markdown",
   "id": "a2801c04-4bd0-49da-9a35-b0eb22f81c57",
   "metadata": {},
   "source": [
    "row[0]=row.indexがポイント。先頭のデータが配列の先頭ではないところは注意。\n",
    "\n",
    "また、引数`index`を`False`にすると`index`は要素に含まれない。また、引数`name`で`namedtuple`の名前を指定できる。\r\n",
    "\r\n"
   ]
  },
  {
   "cell_type": "code",
   "execution_count": 24,
   "id": "76f1aa02-166c-40d6-8ad9-9b19bec4f363",
   "metadata": {},
   "outputs": [
    {
     "name": "stdout",
     "output_type": "stream",
     "text": [
      "<class 'pandas.core.frame.Person'>\n",
      "Person(age=24, state='NY', point=64)\n",
      "24 NY 64\n",
      "24 NY 64\n",
      "======\n",
      "<class 'pandas.core.frame.Person'>\n",
      "Person(age=42, state='CA', point=92)\n",
      "42 CA 92\n",
      "42 CA 92\n",
      "======\n"
     ]
    }
   ],
   "source": [
    "for row in df.itertuples(index=False, name='Person'):\n",
    "    print(type(row))\n",
    "    print(row)\n",
    "    print(row[0], row[1], row[2])\n",
    "    print(row.age, row.state, row.point)\n",
    "    print('======')\n"
   ]
  },
  {
   "cell_type": "markdown",
   "id": "2930e171-f08f-4d69-b683-524e4554d46c",
   "metadata": {},
   "source": [
    "データからIndexが消えている。行番号が必要ない場合はこれを使ってもよいかもしれない。\n",
    "\n",
    "また、大量データを対象とする場合は、データ量削減のためにindexを削除してループする、とか言いそうだが、大量データの場合はそもそも対象カラムだけ抜き出して処理すべき。\n",
    "だとすると、indexが邪魔な時に指定する以外、使いどころがない気がしている。\n",
    "\n",
    "また、引数`name`を`None`にするとノーマルのタプルを返す。`index=False`よりもこっちを使うべきなきがする。"
   ]
  },
  {
   "cell_type": "code",
   "execution_count": 26,
   "id": "087f320f-6350-40a3-8dfa-492b2b3de5d2",
   "metadata": {},
   "outputs": [
    {
     "name": "stdout",
     "output_type": "stream",
     "text": [
      "<class 'tuple'>\n",
      "(0, 24, 'NY', 64)\n",
      "0 24 NY 64\n",
      "======\n",
      "<class 'tuple'>\n",
      "(1, 42, 'CA', 92)\n",
      "1 42 CA 92\n",
      "======\n"
     ]
    }
   ],
   "source": [
    "for row in df.itertuples(name=None):\n",
    "    print(type(row))\n",
    "    print(row)\n",
    "    print(row[0], row[1], row[2], row[3])\n",
    "    print('======')\n",
    "\n",
    "\n"
   ]
  },
  {
   "cell_type": "markdown",
   "id": "f5bc002a-3d2b-4e3a-b503-5c43e324dd7f",
   "metadata": {},
   "source": [
    "これだと、行番号もデータもとれるタプルが取れる。ここで、index=Falseを指定すると、普通のforループみたいになる"
   ]
  },
  {
   "cell_type": "code",
   "execution_count": 29,
   "id": "dd0ecbcb-c5c4-4c0a-8bd7-37cbad6454cf",
   "metadata": {},
   "outputs": [
    {
     "name": "stdout",
     "output_type": "stream",
     "text": [
      "<class 'tuple'>\n",
      "(24, 'NY', 64)\n",
      "24 NY 64\n",
      "======\n",
      "<class 'tuple'>\n",
      "(42, 'CA', 92)\n",
      "42 CA 92\n",
      "======\n"
     ]
    }
   ],
   "source": [
    "for row in df.itertuples(name=None,index=False):\n",
    "    print(type(row))\n",
    "    print(row)\n",
    "    print(row[0], row[1], row[2])\n",
    "    print('======')\n"
   ]
  },
  {
   "cell_type": "markdown",
   "id": "a580f8e0-fd65-46e8-8296-8e96097f6e3d",
   "metadata": {},
   "source": [
    "ちなみに、普通のforループと、forループで要素番号を取得する方法はこちら"
   ]
  },
  {
   "cell_type": "code",
   "execution_count": 52,
   "id": "e5dffddd-2337-417e-9d7d-9c1895f06fb7",
   "metadata": {},
   "outputs": [
    {
     "name": "stdout",
     "output_type": "stream",
     "text": [
      "0, Spring\n",
      "1, Summer\n",
      "2, Fall\n",
      "3, Winter\n"
     ]
    }
   ],
   "source": [
    "seasons = ['Spring', 'Summer', 'Fall', 'Winter']\n",
    "\n",
    "for index, item in enumerate(seasons):\n",
    "    print(f\"{index}, {item}\")\n"
   ]
  },
  {
   "cell_type": "markdown",
   "id": "b068d24e-feaf-4454-8794-20f2f279c22e",
   "metadata": {},
   "source": [
    "# Dataframeにカラムを追加する\n",
    "\n",
    "### dataframeの初期化"
   ]
  },
  {
   "cell_type": "code",
   "execution_count": 67,
   "id": "c4101d33-b9b1-4aad-bb92-b5187db8b37a",
   "metadata": {},
   "outputs": [
    {
     "data": {
      "text/html": [
       "<div>\n",
       "<style scoped>\n",
       "    .dataframe tbody tr th:only-of-type {\n",
       "        vertical-align: middle;\n",
       "    }\n",
       "\n",
       "    .dataframe tbody tr th {\n",
       "        vertical-align: top;\n",
       "    }\n",
       "\n",
       "    .dataframe thead th {\n",
       "        text-align: right;\n",
       "    }\n",
       "</style>\n",
       "<table border=\"1\" class=\"dataframe\">\n",
       "  <thead>\n",
       "    <tr style=\"text-align: right;\">\n",
       "      <th></th>\n",
       "      <th>age</th>\n",
       "      <th>state</th>\n",
       "      <th>point</th>\n",
       "    </tr>\n",
       "  </thead>\n",
       "  <tbody>\n",
       "    <tr>\n",
       "      <th>0</th>\n",
       "      <td>24</td>\n",
       "      <td>NY</td>\n",
       "      <td>64</td>\n",
       "    </tr>\n",
       "    <tr>\n",
       "      <th>1</th>\n",
       "      <td>42</td>\n",
       "      <td>CA</td>\n",
       "      <td>92</td>\n",
       "    </tr>\n",
       "  </tbody>\n",
       "</table>\n",
       "</div>"
      ],
      "text/plain": [
       "   age state  point\n",
       "0   24    NY     64\n",
       "1   42    CA     92"
      ]
     },
     "execution_count": 67,
     "metadata": {},
     "output_type": "execute_result"
    }
   ],
   "source": [
    "df = pd.DataFrame({'age': [24, 42], 'state': ['NY', 'CA'], 'point': [64, 92]},\n",
    "                  )\n",
    "df"
   ]
  },
  {
   "cell_type": "markdown",
   "id": "6308c748-37d5-4844-acfb-ee39b593b675",
   "metadata": {},
   "source": [
    "### 元のdataframeを更新してしまってよい場合"
   ]
  },
  {
   "cell_type": "code",
   "execution_count": 70,
   "id": "dbe3a450-12ce-4cfc-bcb6-d2210b2e0ce8",
   "metadata": {},
   "outputs": [
    {
     "name": "stdout",
     "output_type": "stream",
     "text": [
      "元のdf\n",
      "   age state  point  rank\n",
      "0   24    NY     64     1\n",
      "1   42    CA     92     1\n",
      "元のdfが更新されている\n"
     ]
    }
   ],
   "source": [
    "df = pd.DataFrame({'age': [24, 42], 'state': ['NY', 'CA'], 'point': [64, 92]},)\n",
    "print(\"df\")\n",
    "print(df)\n",
    "\n",
    "df[\"rank\"] = 1\n",
    "\n",
    "print(\"df（カラムが追加されている）\")\n",
    "print(df)\n"
   ]
  },
  {
   "cell_type": "markdown",
   "id": "76e971f2-8c17-4028-9cec-4bbdbbb99aae",
   "metadata": {},
   "source": [
    "### 元のdataframeを更新したくない場合は、assignメソッドを使う"
   ]
  },
  {
   "cell_type": "code",
   "execution_count": 72,
   "id": "77dd5d1b-59ab-45d4-904c-7a2f598ba2d4",
   "metadata": {},
   "outputs": [
    {
     "name": "stdout",
     "output_type": "stream",
     "text": [
      "元のdf\n",
      "   age state  point\n",
      "0   24    NY     64\n",
      "1   42    CA     92\n",
      "assignメソッド呼出し後も、元のdataframeは変化はない\n",
      "   age state  point\n",
      "0   24    NY     64\n",
      "1   42    CA     92\n",
      "assignメソッドで新しいオブジェクトが返却されている\n",
      "   age state  point  rank\n",
      "0   24    NY     64     1\n",
      "1   42    CA     92     1\n"
     ]
    }
   ],
   "source": [
    "df = pd.DataFrame({'age': [24, 42], 'state': ['NY', 'CA'], 'point': [64, 92]},)\n",
    "print(\"元のdf\")\n",
    "print(df)\n",
    "\n",
    "df2 = df.assign(rank = 1)\n",
    "print(\"assignメソッド呼出し後も、元のdataframeは変化はない\")\n",
    "print(df)\n",
    "print(\"assignメソッドで新しいオブジェクトが返却されている\")\n",
    "print(df2)"
   ]
  },
  {
   "cell_type": "markdown",
   "id": "1e4a88d8-bbb2-4383-bfc7-1001a4ba0ed6",
   "metadata": {},
   "source": [
    "### カラム追加の際に、三項演算子で既存カラムの値をもとに新しい値を作り、カラムを追加する"
   ]
  },
  {
   "cell_type": "code",
   "execution_count": 78,
   "id": "411bfcfc-133c-417e-99e3-d3dcdce0fbd1",
   "metadata": {},
   "outputs": [
    {
     "name": "stdout",
     "output_type": "stream",
     "text": [
      "元のdf\n",
      "   age state  point\n",
      "0   24    NY     64\n",
      "1   42    CA     92\n",
      "2   38    TX     48\n"
     ]
    },
    {
     "ename": "ValueError",
     "evalue": "The truth value of a Series is ambiguous. Use a.empty, a.bool(), a.item(), a.any() or a.all().",
     "output_type": "error",
     "traceback": [
      "\u001b[0;31m---------------------------------------------------------------------------\u001b[0m",
      "\u001b[0;31mValueError\u001b[0m                                Traceback (most recent call last)",
      "\u001b[0;32m/tmp/ipykernel_5855/2628881635.py\u001b[0m in \u001b[0;36m?\u001b[0;34m()\u001b[0m\n\u001b[1;32m      2\u001b[0m \u001b[0mprint\u001b[0m\u001b[0;34m(\u001b[0m\u001b[0;34m\"元のdf\"\u001b[0m\u001b[0;34m)\u001b[0m\u001b[0;34m\u001b[0m\u001b[0;34m\u001b[0m\u001b[0m\n\u001b[1;32m      3\u001b[0m \u001b[0mprint\u001b[0m\u001b[0;34m(\u001b[0m\u001b[0mdf\u001b[0m\u001b[0;34m)\u001b[0m\u001b[0;34m\u001b[0m\u001b[0;34m\u001b[0m\u001b[0m\n\u001b[1;32m      4\u001b[0m \u001b[0;34m\u001b[0m\u001b[0m\n\u001b[1;32m      5\u001b[0m \u001b[0;31m# これだとエラーになる\u001b[0m\u001b[0;34m\u001b[0m\u001b[0;34m\u001b[0m\u001b[0m\n\u001b[0;32m----> 6\u001b[0;31m \u001b[0mdf2\u001b[0m \u001b[0;34m=\u001b[0m \u001b[0mdf\u001b[0m\u001b[0;34m.\u001b[0m\u001b[0massign\u001b[0m\u001b[0;34m(\u001b[0m\u001b[0mrank\u001b[0m \u001b[0;34m=\u001b[0m \u001b[0;34m\"A\"\u001b[0m \u001b[0;32mif\u001b[0m \u001b[0mdf\u001b[0m\u001b[0;34m.\u001b[0m\u001b[0mpoint\u001b[0m \u001b[0;34m>\u001b[0m \u001b[0;36m80\u001b[0m \u001b[0;32melse\u001b[0m \u001b[0;34m\"B\"\u001b[0m\u001b[0;34m)\u001b[0m\u001b[0;34m\u001b[0m\u001b[0;34m\u001b[0m\u001b[0m\n\u001b[0m\u001b[1;32m      7\u001b[0m \u001b[0;34m\u001b[0m\u001b[0m\n\u001b[1;32m      8\u001b[0m \u001b[0mprint\u001b[0m\u001b[0;34m(\u001b[0m\u001b[0mdf2\u001b[0m\u001b[0;34m)\u001b[0m\u001b[0;34m\u001b[0m\u001b[0;34m\u001b[0m\u001b[0m\n",
      "\u001b[0;32m/opt/conda/lib/python3.11/site-packages/pandas/core/generic.py\u001b[0m in \u001b[0;36m?\u001b[0;34m(self)\u001b[0m\n\u001b[1;32m   1517\u001b[0m     \u001b[0;34m@\u001b[0m\u001b[0mfinal\u001b[0m\u001b[0;34m\u001b[0m\u001b[0;34m\u001b[0m\u001b[0m\n\u001b[1;32m   1518\u001b[0m     \u001b[0;32mdef\u001b[0m \u001b[0m__nonzero__\u001b[0m\u001b[0;34m(\u001b[0m\u001b[0mself\u001b[0m\u001b[0;34m)\u001b[0m \u001b[0;34m->\u001b[0m \u001b[0mNoReturn\u001b[0m\u001b[0;34m:\u001b[0m\u001b[0;34m\u001b[0m\u001b[0;34m\u001b[0m\u001b[0m\n\u001b[0;32m-> 1519\u001b[0;31m         raise ValueError(\n\u001b[0m\u001b[1;32m   1520\u001b[0m             \u001b[0;34mf\"The truth value of a {type(self).__name__} is ambiguous. \"\u001b[0m\u001b[0;34m\u001b[0m\u001b[0;34m\u001b[0m\u001b[0m\n\u001b[1;32m   1521\u001b[0m             \u001b[0;34m\"Use a.empty, a.bool(), a.item(), a.any() or a.all().\"\u001b[0m\u001b[0;34m\u001b[0m\u001b[0;34m\u001b[0m\u001b[0m\n\u001b[1;32m   1522\u001b[0m         )\n",
      "\u001b[0;31mValueError\u001b[0m: The truth value of a Series is ambiguous. Use a.empty, a.bool(), a.item(), a.any() or a.all()."
     ]
    }
   ],
   "source": [
    "df = pd.DataFrame({'age': [24, 42, 38], 'state': ['NY', 'CA', 'TX'], 'point': [64, 92, 48]},)\n",
    "print(\"元のdf\")\n",
    "print(df)\n",
    "\n",
    "# これだとエラーになる\n",
    "df2 = df.assign(rank = \"A\" if df.point > 80 else \"B\")\n",
    "\n",
    "print(df2)\n"
   ]
  },
  {
   "cell_type": "code",
   "execution_count": 82,
   "id": "7bc5bdf4-cb0e-4130-9d4b-825063d02fe1",
   "metadata": {},
   "outputs": [
    {
     "name": "stdout",
     "output_type": "stream",
     "text": [
      "元のdf\n",
      "   age state  point\n",
      "0   24    NY     64\n",
      "1   42    CA     92\n",
      "2   38    TX     48\n",
      "   age state  point rank\n",
      "0   24    NY     64    B\n",
      "1   42    CA     92    A\n",
      "2   38    TX     48    C\n"
     ]
    }
   ],
   "source": [
    "df = pd.DataFrame({'age': [24, 42, 38], 'state': ['NY', 'CA', 'TX'], 'point': [64, 92, 48]},)\n",
    "print(\"元のdf\")\n",
    "print(df)\n",
    "\n",
    "df2 = df.assign(rank = df.point.apply(lambda x : \"A\" if x > 80 else \"B\" if x > 50 else \"C\") )\n",
    "\n",
    "print(df2)"
   ]
  },
  {
   "cell_type": "markdown",
   "id": "ba22ca07-bbd3-4f09-8d87-9adea3d0ec5d",
   "metadata": {},
   "source": [
    "# 条件指定で取り出す queryメソッド\n",
    "\n",
    "ここが参考になる\n",
    "\n",
    "- https://note.nkmk.me/python-pandas-query/\n",
    "- https://zenn.dev/yagiyuki/articles/sql2pandas-select ← 内容がちょっと古いかもしれないので注意。ただ、where句のバリエーションが多く参考となる\n",
    "\n"
   ]
  },
  {
   "cell_type": "code",
   "execution_count": 5,
   "id": "03b0e3bf-2741-41e4-8bd7-74cfb4f3543a",
   "metadata": {},
   "outputs": [
    {
     "name": "stdout",
     "output_type": "stream",
     "text": [
      "元のdf\n",
      "   age state  point\n",
      "0   24    NY     64\n",
      "1   42    CA     92\n",
      "2   38    TX     48\n",
      "\n",
      "pointが50以上の人を抽出\n",
      "   age state  point\n",
      "0   24    NY     64\n",
      "1   42    CA     92\n",
      "\n",
      "stateがNYかCAかを抽出\n",
      "   age state  point\n",
      "0   24    NY     64\n",
      "1   42    CA     92\n"
     ]
    }
   ],
   "source": [
    "df = pd.DataFrame({'age': [24, 42, 38], 'state': ['NY', 'CA', 'TX'], 'point': [64, 92, 48]},)\n",
    "print(\"元のdf\")\n",
    "print(df)\n",
    "print()\n",
    "print(\"pointが50以上の人を抽出\")\n",
    "print(df.query('point > 50'))\n",
    "print()\n",
    "print(\"stateがNYかTXかを抽出\")\n",
    "print(df.query('state in [\"NY\",\"TX\"]'))"
   ]
  },
  {
   "cell_type": "markdown",
   "id": "f111beb7-aa72-4170-8beb-f0b9a3e6e596",
   "metadata": {},
   "source": [
    "### queryメソッドでinを使う場合、sqlとは違い、pythonのリスト風に[]でリストの要素を囲む必要がある。文字列でなくても"
   ]
  },
  {
   "cell_type": "code",
   "execution_count": 6,
   "id": "1b5bb91a-17c6-430b-8d15-4aeadb984616",
   "metadata": {},
   "outputs": [
    {
     "name": "stdout",
     "output_type": "stream",
     "text": [
      "ageが42と38を抽出\n",
      "   age state  point\n",
      "1   42    CA     92\n",
      "2   38    TX     48\n"
     ]
    }
   ],
   "source": [
    "print(\"ageが42と38を抽出\")\n",
    "print(df.query('age in [42,38]'))"
   ]
  },
  {
   "cell_type": "markdown",
   "id": "515e14cd-c0b0-4fda-936c-0fbcef90b7ef",
   "metadata": {},
   "source": [
    "# SQLのSELECTのカラム指定をdataframeで\n",
    "\n",
    "### locメソッドで指定する方法\n",
    "\n",
    "```python\n",
    "df.loc[:, [\"COL1\", \"COL2\"]]\n",
    "\n",
    "```\n",
    "\n",
    "見慣れれば、というところもあるし、行列を扱うときによく見る行、列順に指定するフォーマットでもあるが、列指定したいときに行まで指定させられるのが直観的に嫌だ。\n",
    "\n",
    "### filterメソッドで指定する方法　←　上よりわかりやすい気もするが、一般的にfilterって行に対してのアクションで、混乱するので、使わないほうがよさそう。取り回しもlocメソッドのほうが良いかも。\n",
    "\n",
    " - https://note.nkmk.me/python-pandas-index-columns-select/\n",
    " ‐ https://pandas.pydata.org/docs/reference/api/pandas.DataFrame.filter.html\n",
    "\n",
    "```python\n",
    "df.filter(items=[\"COL1\", \"COL2\"])\n",
    "```\n",
    "\n",
    "ほかのサイトとかだと、このように第一引数に引数名を与えているが、カラム名のリストは第一引数なので、引数名は省略可能。よって自分が使う場合は省略しちゃうかも。\n",
    "\n",
    "```python\n",
    "df.filter([\"COL1\", \"COL2\"])\n",
    "```\n",
    "\n",
    "ただ、節題の通りfilterは行に対してのイメージがあるので、使うべきか悩む。。。\n",
    "\n",
    "\n"
   ]
  },
  {
   "cell_type": "code",
   "execution_count": 11,
   "id": "cfaac291-3d4c-4f7f-8e84-e2792d8247bb",
   "metadata": {},
   "outputs": [
    {
     "name": "stdout",
     "output_type": "stream",
     "text": [
      "locの場合\n",
      "   age state\n",
      "0   24    NY\n",
      "1   42    CA\n",
      "2   38    TX\n",
      "filterの場合\n",
      "   age state\n",
      "0   24    NY\n",
      "1   42    CA\n",
      "2   38    TX\n"
     ]
    }
   ],
   "source": [
    "print(\"locの場合\")\n",
    "print(df.loc[:,[\"age\",\"state\"]])\n",
    "\n",
    "# filterの場合\n",
    "print(\"filterの場合\")    \n",
    "print(df.filter([\"age\",\"state\"]))"
   ]
  },
  {
   "cell_type": "markdown",
   "id": "a9a9ae14-a001-4585-bf6d-a5914648f390",
   "metadata": {},
   "source": [
    "# locメソッド／filterメソッド　列名/行インデックス名でフィルタする。行の内容でフィルタするわけではない。\n",
    "\n",
    "‐ https://pandas.pydata.org/docs/reference/api/pandas.DataFrame.loc.html\n",
    "‐ https://pandas.pydata.org/docs/reference/api/pandas.DataFrame.filter.html\n",
    "\n",
    "前の例の通り列名でフィルタ出来るのに加え、行インデックスでもフィルタ出来る。\n",
    "また、コンテンツの内容でフィルタ出来るわけではない。\n",
    "\n",
    "よく例示されている、インデックスを文字で指定するパターンでない限り、行インデックスでのフィルタはこれではやらない気がする。"
   ]
  },
  {
   "cell_type": "code",
   "execution_count": 24,
   "id": "d682afad-c62a-4edd-9e64-33e83dc675f2",
   "metadata": {},
   "outputs": [
    {
     "name": "stdout",
     "output_type": "stream",
     "text": [
      "列名の場合。axis=1はデフォルト値で、横（列名）指定\n",
      "   age state\n",
      "0   24    NY\n",
      "1   42    CA\n",
      "2   38    TX\n",
      "行インデックス名の場合\n",
      "   age state  point\n",
      "1   42    CA     92\n",
      "2   38    TX     48\n",
      "行インデックス名でスライス[1:2]を使うとsyntaxエラーになる。まあ、リストにスライス入れたらエラーになるが。。。\n",
      "\n",
      "一方、locの場合は列名、行名ともにスライス指定ができる\n",
      "   age state  point\n",
      "1   42    CA     92\n",
      "2   38    TX     48\n"
     ]
    }
   ],
   "source": [
    "# filterの場合\n",
    "print(\"列名の場合。axis=1はデフォルト値で、横（列名）指定\")    \n",
    "print(df.filter(items=[\"age\",\"state\"],axis=1))\n",
    "\n",
    "# 行インデックスでのフィルタ\n",
    "print(\"行インデックス名の場合\")    \n",
    "print(df.filter(items=[1,2],axis=0))\n",
    "\n",
    "# スライスは使えない。ので、行インデックスでの指定でfilterは使わなそう\n",
    "print(\"行インデックス名でスライス[1:2]を使うとsyntaxエラーになる。まあ、リストにスライス入れたらエラーになるが。。。\")    \n",
    "#print(df.filter(items=[1:2],axis=0))\n",
    "print()\n",
    "\n",
    "# 一方、locの場合は列名、行名ともにスライス指定ができる\n",
    "print(\"一方、locの場合は列名、行名ともにスライス指定ができる\")\n",
    "print(df.loc[1:2,:])"
   ]
  },
  {
   "cell_type": "markdown",
   "id": "b669b470-506f-490d-85db-b5849605f4cc",
   "metadata": {},
   "source": [
    "### dataframeのimmubaility　locメソッドは、新しいオブジェクトを返却する"
   ]
  },
  {
   "cell_type": "code",
   "execution_count": 29,
   "id": "b42052af-48df-43c3-83ad-b326de92e353",
   "metadata": {},
   "outputs": [
    {
     "name": "stdout",
     "output_type": "stream",
     "text": [
      "元のdf\n",
      "   age state  point\n",
      "0   24    NY     64\n",
      "1   42    CA     92\n",
      "2   38    TX     48\n",
      "\n",
      "age,stateを抽出\n",
      "   age state\n",
      "0   24    NY\n",
      "1   42    CA\n",
      "2   38    TX\n",
      "\n",
      "生成したdf2に値を更新した時に、dfには影響しない\n",
      "元のdf\n",
      "   age state  point\n",
      "0   24    NY     64\n",
      "1   42    CA     92\n",
      "2   38    TX     48\n",
      "更新したdf2\n",
      "   age state\n",
      "0   40    NY\n",
      "1   40    CA\n",
      "2   40    TX\n",
      "つまり、locメソッドでは、新しいdataframeが返却される\n"
     ]
    }
   ],
   "source": [
    "df = pd.DataFrame({'age': [24, 42, 38], 'state': ['NY', 'CA', 'TX'], 'point': [64, 92, 48]},)\n",
    "print(\"元のdf\")\n",
    "print(df)\n",
    "print()\n",
    "print(\"age,stateを抽出\")\n",
    "#df2 = df.query('point > 50')\n",
    "df2 = df.loc[:,[\"age\",\"state\"]]\n",
    "\n",
    "print(df2)\n",
    "print()\n",
    "\n",
    "print(\"生成したdf2に値を更新した時に、dfには影響しない\")\n",
    "df2.age = 40\n",
    "\n",
    "print(\"元のdf\")\n",
    "print(df)\n",
    "print(\"更新したdf2\")\n",
    "print(df2)\n",
    "\n",
    "print(\"つまり、locメソッドでは、新しいdataframeが返却される\")"
   ]
  },
  {
   "cell_type": "markdown",
   "id": "8bff7e4c-7e0d-4035-9a16-1ffa9b7cea86",
   "metadata": {},
   "source": [
    "# Dataframeの結合（Union／Join）\n",
    "\n",
    "### Unionはconcat関数\n",
    "\n",
    "concatはDataframeクラスのメソッドではなく、pandaパッケージに定義されているGeneral Functionsである。\n",
    "\n",
    "* https://pandas.pydata.org/pandas-docs/stable/reference/api/pandas.concat.html#pandas.concat\n",
    "\n",
    "\n",
    "Pandas2からappendメソッドが削除された件\n",
    "* https://bering.hatenadiary.com/entry/2023/05/15/064223\n",
    "\n",
    "2023年に記事を記載したくせに、おそらくpandas1系を使っているPandas解説サイト。信頼性うす。読むのをやめよう。\n",
    "* https://ai-inter1.com/pandas-dataframe_union/\n"
   ]
  },
  {
   "cell_type": "code",
   "execution_count": 13,
   "id": "1e7357f1-8437-48ff-a76f-f92e90a6db10",
   "metadata": {},
   "outputs": [
    {
     "name": "stdout",
     "output_type": "stream",
     "text": [
      "df1\n",
      "  Product ID    Product Name  Price (JPY)\n",
      "0       P001   iPhone 8 64GB        85000\n",
      "1       P002  iPhone X 256GB       130000\n",
      "2       P003  iPhone SE 32GB        37000\n",
      "\n",
      "df2\n",
      "  Product ID         Product Name  Price (JPY)\n",
      "0       P004        iPhone 7 32GB        10000\n",
      "1       P005  iPhone 8 Plus 256GB        62000\n",
      "\n",
      "df3 ingore_index=False(default)\n",
      "  Product ID         Product Name  Price (JPY)\n",
      "0       P001        iPhone 8 64GB        85000\n",
      "1       P002       iPhone X 256GB       130000\n",
      "2       P003       iPhone SE 32GB        37000\n",
      "0       P004        iPhone 7 32GB        10000\n",
      "1       P005  iPhone 8 Plus 256GB        62000\n",
      "\n",
      "df3 ingore_index=True\n",
      "  Product ID         Product Name  Price (JPY)\n",
      "0       P001        iPhone 8 64GB        85000\n",
      "1       P002       iPhone X 256GB       130000\n",
      "2       P003       iPhone SE 32GB        37000\n",
      "3       P004        iPhone 7 32GB        10000\n",
      "4       P005  iPhone 8 Plus 256GB        62000\n",
      "\n"
     ]
    }
   ],
   "source": [
    "list1=[[\"P001\",\"iPhone 8 64GB\",85000],\n",
    "       [\"P002\",\"iPhone X 256GB\",130000],\n",
    "       [\"P003\",\"iPhone SE 32GB\",37000]]\n",
    "columns1 =[\"Product ID\",\"Product Name\",\"Price (JPY)\"]\n",
    "df1=pd.DataFrame(data=list1,columns=columns1)\n",
    "print(\"df1\")\n",
    "print(df1)\n",
    "print()\n",
    "list2=[[\"P004\", \"iPhone 7 32GB\", 10000],\n",
    "       [\"P005\", \"iPhone 8 Plus 256GB\", 62000]]\n",
    "df2 = pd.DataFrame(data=list2, columns=columns1)\n",
    "print(\"df2\")\n",
    "print(df2)\n",
    "print()\n",
    "df3 = pd.concat([df1,df2],)\n",
    "print(\"df3 ingore_index=False(default)\")\n",
    "print(df3)\n",
    "print()\n",
    "df3 = pd.concat([df1,df2],ignore_index=True)\n",
    "print(\"df3 ingore_index=True\")\n",
    "print(df3)\n",
    "print()"
   ]
  },
  {
   "cell_type": "markdown",
   "id": "64afe27e-3616-448e-90b4-d448b68f058d",
   "metadata": {},
   "source": [
    "### Joinはmerge関数/メソッドを使う\n",
    "\n",
    "mergeはpandasパッケージにも、Dataframeクラスにも定義されている。\n",
    "\n",
    "\n",
    "* Pandasパッケージ https://pandas.pydata.org/pandas-docs/stable/reference/api/pandas.merge.html\n",
    "```\n",
    "pandas.merge(left, right, how='inner', on=None, left_on=None, right_on=None, left_index=False, right_index=False, sort=False, suffixes=('_x', '_y'), copy=None, indicator=False, validate=None)\n",
    "```\n",
    "\n",
    "* Dataframeクラス　https://pandas.pydata.org/pandas-docs/stable/reference/api/pandas.DataFrame.merge.html\n",
    "```\n",
    "DataFrame.merge(right, how='inner', on=None, left_on=None, right_on=None, left_index=False, right_index=False, sort=False, suffixes=('_x', '_y'), copy=None, indicator=False, validate=None)\n",
    "```\n",
    "\n",
    "違いは以下のみで、確認してないけどきっと同じ実装なんでしょう。\n",
    "\n",
    "* Pandasパッケージのmerge関数：左表、右表を順に引数に取る\n",
    "* Dataframeクラスのmergeメソッド：自身が左表となり、右表を引数に取る\n"
   ]
  },
  {
   "cell_type": "code",
   "execution_count": 29,
   "id": "4cdb1a1c-2948-434f-9959-ec10c2d4986f",
   "metadata": {},
   "outputs": [
    {
     "name": "stdout",
     "output_type": "stream",
     "text": [
      "df1\n",
      "  Sales_No Sales_Date Customer_ID\n",
      "0     A001  2018/6/22         C03\n",
      "1     A002  2018/6/23         C04\n",
      "2     A003  2018/6/24         C03\n",
      "3     A004  2018/6/25         C06\n",
      "4     A005  2018/6/26         C01\n",
      "\n",
      "df2 ※Customer_ID=C03の行が無い\n",
      "  Customer_ID Customer_Name\n",
      "0         C01         佐々木商店\n",
      "1         C02          海山商事\n",
      "2         C04          山川電機\n",
      "3         C05          奥山商店\n",
      "4         C06         (株)佐山\n",
      "\n",
      "df3 = df1 inner join df2 on Customer_ID\n",
      "  Sales_No Sales_Date Customer_ID Customer_Name\n",
      "0     A002  2018/6/23         C04          山川電機\n",
      "1     A004  2018/6/25         C06         (株)佐山\n",
      "2     A005  2018/6/26         C01         佐々木商店\n",
      "\n",
      "df4 = df1 left outer join df2 on Customer_ID\n",
      "  Sales_No Sales_Date Customer_ID Customer_Name\n",
      "0     A001  2018/6/22         C03           NaN\n",
      "1     A002  2018/6/23         C04          山川電機\n",
      "2     A003  2018/6/24         C03           NaN\n",
      "3     A004  2018/6/25         C06         (株)佐山\n",
      "4     A005  2018/6/26         C01         佐々木商店\n",
      "\n"
     ]
    }
   ],
   "source": [
    "cols=[\"Sales_No\",\"Sales_Date\",\"Customer_ID\"]\n",
    "data=[[\"A001\",\"2018/6/22\",\"C03\"],\n",
    "      [\"A002\",\"2018/6/23\",\"C04\"],\n",
    "      [\"A003\",\"2018/6/24\",\"C03\"],\n",
    "      [\"A004\",\"2018/6/25\",\"C06\"],\n",
    "      [\"A005\",\"2018/6/26\",\"C01\"]\n",
    "     ]\n",
    "\n",
    "df1=pd.DataFrame(data=data, columns=cols)\n",
    "print(\"df1\")\n",
    "print(df1)\n",
    "print()\n",
    "\n",
    "cols2=[\"Customer_ID\",\"Customer_Name\"]\n",
    "data2=[[\"C01\",\"佐々木商店\"],\n",
    "       [\"C02\",\"海山商事\"],\n",
    "       [\"C04\",\"山川電機\"],\n",
    "       [\"C05\",\"奥山商店\"],\n",
    "       [\"C06\",\"(株)佐山\"]\n",
    "      ]\n",
    "\n",
    "df2=pd.DataFrame(data=data2, columns=cols2)\n",
    "print(\"df2 ※Customer_ID=C03の行が無い\")\n",
    "print(df2)\n",
    "print()\n",
    "\n",
    "df3 = df1.merge(df2, on=\"Customer_ID\")\n",
    "print(\"df3 = df1 inner join df2 on Customer_ID\")\n",
    "print(df3)\n",
    "print()\n",
    "\n",
    "df4 = df1.merge(df2, how=\"left\", on=\"Customer_ID\")\n",
    "print(\"df4 = df1 left outer join df2 on Customer_ID\")\n",
    "print(df4)\n",
    "print()\n"
   ]
  },
  {
   "cell_type": "markdown",
   "id": "5b1b1fc2-df92-431e-a27d-60654189032d",
   "metadata": {},
   "source": [
    "#### 左表と右表でカラム名が異なる場合は、left_on/right_onパラメータを指定することで結合可能。"
   ]
  },
  {
   "cell_type": "code",
   "execution_count": 30,
   "id": "aff05044-a36a-4a00-b1b7-a98b2cf940fd",
   "metadata": {},
   "outputs": [
    {
     "name": "stdout",
     "output_type": "stream",
     "text": [
      "df1\n",
      "  Sales_No Sales_Date  CID\n",
      "0     A001  2018/6/22  C03\n",
      "1     A002  2018/6/23  C04\n",
      "2     A003  2018/6/24  C03\n",
      "3     A004  2018/6/25  C06\n",
      "4     A005  2018/6/26  C01\n",
      "\n",
      "df3\n",
      "  Sales_No Sales_Date  CID Customer_ID Customer_Name\n",
      "0     A001  2018/6/22  C03         NaN           NaN\n",
      "1     A002  2018/6/23  C04         C04          山川電機\n",
      "2     A003  2018/6/24  C03         NaN           NaN\n",
      "3     A004  2018/6/25  C06         C06         (株)佐山\n",
      "4     A005  2018/6/26  C01         C01         佐々木商店\n"
     ]
    }
   ],
   "source": [
    "cols=[\"Sales_No\",\"Sales_Date\",\"CID\"]\n",
    "data=[[\"A001\",\"2018/6/22\",\"C03\"],\n",
    "      [\"A002\",\"2018/6/23\",\"C04\"],\n",
    "      [\"A003\",\"2018/6/24\",\"C03\"],\n",
    "      [\"A004\",\"2018/6/25\",\"C06\"],\n",
    "      [\"A005\",\"2018/6/26\",\"C01\"]\n",
    "     ]\n",
    "\n",
    "df1=pd.DataFrame(data=data, columns=cols)\n",
    "print(\"df1\")\n",
    "print(df1)\n",
    "print()\n",
    "\n",
    "cols2=[\"Customer_ID\",\"Customer_Name\"]\n",
    "data2=[[\"C01\",\"佐々木商店\"],\n",
    "       [\"C02\",\"海山商事\"],\n",
    "       [\"C04\",\"山川電機\"],\n",
    "       [\"C05\",\"奥山商店\"],\n",
    "       [\"C06\",\"(株)佐山\"]\n",
    "      ]\n",
    "\n",
    "df3 = df1.merge(df2, how=\"left\", left_on=\"CID\", right_on=\"Customer_ID\")\n",
    "print(\"df3\")\n",
    "print(df3)"
   ]
  },
  {
   "cell_type": "markdown",
   "id": "ce9b16b3-7b80-420f-8a21-022be4751d85",
   "metadata": {},
   "source": [
    "# numpyへの変換"
   ]
  },
  {
   "cell_type": "code",
   "execution_count": null,
   "id": "b49e9ee0-2a09-46d6-9684-e1316ce925f3",
   "metadata": {},
   "outputs": [],
   "source": []
  },
  {
   "cell_type": "markdown",
   "id": "2810dd7f-492e-4481-9477-7962ca8182e6",
   "metadata": {},
   "source": [
    "# グラフの描画　pandas.plotはmatplotlibのショートカット\n",
    "\n",
    "ここを見よ\n",
    "\n",
    "‐ https://note.nkmk.me/python-pandas-plot/\n"
   ]
  },
  {
   "cell_type": "markdown",
   "id": "e8c40a7b-66fe-4a41-a6e7-e9fe458e66ee",
   "metadata": {},
   "source": [
    "### 2系列の散布図のサンプル\n",
    "系列毎にオブジェクトを作って重ねる、という形で実装するしかないっぽい。"
   ]
  },
  {
   "cell_type": "code",
   "execution_count": 3,
   "id": "e5017186-69c5-4366-b870-609fe923eba2",
   "metadata": {},
   "outputs": [
    {
     "data": {
      "image/png": "[encoded data removed]",
      "text/plain": [
       "<Figure size 640x480 with 1 Axes>"
      ]
     },
     "metadata": {},
     "output_type": "display_data"
    }
   ],
   "source": [
    "iris_row_df = pd.read_csv('dataset/iris.data')\n",
    "iris_df = iris_row_df.assign(class_code = iris_row_df.iris_class.apply( lambda x: 0 if x == \"Iris-setosa\" else 1 if x == \"Iris-versicolor\" else 2 ) )\n",
    "\n",
    "df_cap8 = iris_df.query('class_code in [0,1]').loc[:,[\"sepal_length\",\"sepal_width\",\"class_code\"]]\n",
    "\n",
    "df_cap8_true = df_cap8.query('class_code == 0')\n",
    "df_cap8_false = df_cap8.query('class_code == 1')\n",
    "\n",
    "ax = df_cap8_true.plot.scatter(x=\"sepal_length\", y=\"sepal_width\", alpha=0.5, label='TURE')\n",
    "ax = df_cap8_false.plot.scatter(x=\"sepal_length\", y=\"sepal_width\", c='r', alpha=0.5, label='FALSE',ax=ax)"
   ]
  },
  {
   "cell_type": "code",
   "execution_count": 35,
   "id": "42a4ac13-10e6-4748-9d27-b53da7f322f7",
   "metadata": {},
   "outputs": [
    {
     "data": {
      "text/plain": [
       "array([[1.],\n",
       "       [1.],\n",
       "       [1.],\n",
       "       [1.],\n",
       "       [1.],\n",
       "       [1.]])"
      ]
     },
     "execution_count": 35,
     "metadata": {},
     "output_type": "execute_result"
    }
   ],
   "source": [
    "np.ones((6,1))"
   ]
  }
 ],
 "metadata": {
  "kernelspec": {
   "display_name": "Python 3 (ipykernel)",
   "language": "python",
   "name": "python3"
  },
  "language_info": {
   "codemirror_mode": {
    "name": "ipython",
    "version": 3
   },
   "file_extension": ".py",
   "mimetype": "text/x-python",
   "name": "python",
   "nbconvert_exporter": "python",
   "pygments_lexer": "ipython3",
   "version": "3.11.6"
  }
 },
 "nbformat": 4,
 "nbformat_minor": 5
}
