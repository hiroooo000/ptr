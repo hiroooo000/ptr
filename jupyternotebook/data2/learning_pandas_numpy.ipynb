{
 "cells": [
  {
   "cell_type": "markdown",
   "id": "88cb1b19-b472-40bc-a6a2-b48d63217f25",
   "metadata": {},
   "source": [
    "# Pandas Dataframeの扱い方"
   ]
  },
  {
   "cell_type": "code",
   "execution_count": 1,
   "id": "fc5613b4-e423-4f29-b5bc-7678e09bb834",
   "metadata": {},
   "outputs": [],
   "source": [
    "import pandas as pd\n",
    "import numpy as np\n"
   ]
  },
  {
   "cell_type": "markdown",
   "id": "9f42fafa-61e3-493c-8fc2-7a2318c4f977",
   "metadata": {},
   "source": [
    "## dataframe作成"
   ]
  },
  {
   "cell_type": "code",
   "execution_count": 12,
   "id": "068bfbe3-0328-48c3-91ce-924686e6ba68",
   "metadata": {},
   "outputs": [
    {
     "name": "stdout",
     "output_type": "stream",
     "text": [
      "2.1.1\n"
     ]
    },
    {
     "data": {
      "text/html": [
       "<div>\n",
       "<style scoped>\n",
       "    .dataframe tbody tr th:only-of-type {\n",
       "        vertical-align: middle;\n",
       "    }\n",
       "\n",
       "    .dataframe tbody tr th {\n",
       "        vertical-align: top;\n",
       "    }\n",
       "\n",
       "    .dataframe thead th {\n",
       "        text-align: right;\n",
       "    }\n",
       "</style>\n",
       "<table border=\"1\" class=\"dataframe\">\n",
       "  <thead>\n",
       "    <tr style=\"text-align: right;\">\n",
       "      <th></th>\n",
       "      <th>age</th>\n",
       "      <th>state</th>\n",
       "      <th>point</th>\n",
       "    </tr>\n",
       "  </thead>\n",
       "  <tbody>\n",
       "    <tr>\n",
       "      <th>0</th>\n",
       "      <td>24</td>\n",
       "      <td>NY</td>\n",
       "      <td>64</td>\n",
       "    </tr>\n",
       "    <tr>\n",
       "      <th>1</th>\n",
       "      <td>42</td>\n",
       "      <td>CA</td>\n",
       "      <td>92</td>\n",
       "    </tr>\n",
       "  </tbody>\n",
       "</table>\n",
       "</div>"
      ],
      "text/plain": [
       "   age state  point\n",
       "0   24    NY     64\n",
       "1   42    CA     92"
      ]
     },
     "execution_count": 12,
     "metadata": {},
     "output_type": "execute_result"
    }
   ],
   "source": [
    "print(pd.__version__)\n",
    "# 2.1.4\n",
    "\n",
    "df = pd.DataFrame({'age': [24, 42], 'state': ['NY', 'CA'], 'point': [64, 92]},\n",
    "                  )\n",
    "\n",
    "# 以下のようにindexを指定してdataframeを作成することも可能。だが、他人が見たときに直観に反するため、明確に使う理由がある場合を除き、使わないほうがよさそう。\n",
    "# そもそも大量データでソートキーとしてindexを使いたいとすると、pythonの前にdbを置くべきか\n",
    "#df = pd.DataFrame({'age': [24, 42], 'state': ['NY', 'CA'], 'point': [64, 92]},\n",
    "#                  index=['Alice', 'Bob'])\n",
    "\n",
    "df"
   ]
  },
  {
   "cell_type": "markdown",
   "id": "f5e53398-1923-4fde-9bcb-ddb35e78699e",
   "metadata": {},
   "source": [
    "### forループ\n",
    "dataframeをそのままforループに回すとカラムが返ってくる\n"
   ]
  },
  {
   "cell_type": "code",
   "execution_count": 13,
   "id": "8a339f43-2351-4898-9bd0-219ebd80783f",
   "metadata": {},
   "outputs": [
    {
     "name": "stdout",
     "output_type": "stream",
     "text": [
      "age\n",
      "state\n",
      "point\n"
     ]
    }
   ],
   "source": [
    "for column_name in df:\n",
    "    print(column_name)\n"
   ]
  },
  {
   "cell_type": "markdown",
   "id": "2130dcbc-e864-402f-87f7-6bc63073e6a4",
   "metadata": {},
   "source": [
    "### 1列ずつ取り出す: items()\n",
    "カラム毎にカラム名とデータのリストが引き渡される\n",
    "\n",
    "‐ https://pandas.pydata.org/pandas-docs/stable/reference/api/pandas.DataFrame.items.html\n",
    "\n",
    "いつ使うんでしょうか？"
   ]
  },
  {
   "cell_type": "code",
   "execution_count": 18,
   "id": "c3df2826-f4a5-46f9-8b3e-28fe6d14da38",
   "metadata": {},
   "outputs": [
    {
     "name": "stdout",
     "output_type": "stream",
     "text": [
      "age\n",
      "<class 'pandas.core.series.Series'>\n",
      "0    24\n",
      "1    42\n",
      "Name: age, dtype: int64\n",
      "======\n",
      "state\n",
      "<class 'pandas.core.series.Series'>\n",
      "0    NY\n",
      "1    CA\n",
      "Name: state, dtype: object\n",
      "======\n",
      "point\n",
      "<class 'pandas.core.series.Series'>\n",
      "0    64\n",
      "1    92\n",
      "Name: point, dtype: int64\n",
      "======\n"
     ]
    }
   ],
   "source": [
    "for column_name, item in df.items():\n",
    "    print(column_name)\n",
    "    print(type(item))\n",
    "    print(item)\n",
    "    print('======')"
   ]
  },
  {
   "cell_type": "markdown",
   "id": "d954e473-2de3-4b5f-a41f-f1823d67da6f",
   "metadata": {},
   "source": [
    "# 1行ずつ取り出す: iterrows(), itertuples()\n",
    "DataFrameから1行ずつ取り出すメソッドにはiterrows()とitertuples()がある。itertuples()のほうが高速。\n",
    "\r\n",
    "特定の列の値のみが必要なのであれば、次に説明するように列を指定して個別にforループで回すほうがさらに速い。処理速度についての実験結果は最後にす "
   ]
  },
  {
   "cell_type": "markdown",
   "id": "52934ec3-5c5a-4696-9c6b-55e8e6f8185d",
   "metadata": {},
   "source": [
    "## iterrows()メソッド\n",
    "行番号と行データを別々に渡してくれるので便利"
   ]
  },
  {
   "cell_type": "code",
   "execution_count": 21,
   "id": "50479e32-c18a-4594-b177-18514fdb2367",
   "metadata": {},
   "outputs": [
    {
     "name": "stdout",
     "output_type": "stream",
     "text": [
      "index:0\n",
      "<class 'pandas.core.series.Series'>\n",
      "24 NY 64\n",
      "======\n",
      "index:1\n",
      "<class 'pandas.core.series.Series'>\n",
      "42 CA 92\n",
      "======\n"
     ]
    }
   ],
   "source": [
    "for index, row in df.iterrows():\n",
    "    print(\"index:%d\" % index)\n",
    "    print(type(row))\n",
    "    print(row['age'], row['state'], row['point'])\n",
    "    print('======')\n"
   ]
  },
  {
   "cell_type": "markdown",
   "id": "5a70a7d4-cbce-49a8-ba1c-7c485fa3fc06",
   "metadata": {},
   "source": [
    "## itertuples()メソッド\n",
    "itertuples()メソッドを使うと、行名とその行のデータ（namedtuple）のタプル(index, namedtuple)を1行ずつ取得できる。\n",
    "\n",
    "pandas.DataFrame.itertuples — pandas 2.1.4 documentation\n",
    "デフォルトではPandasという名前のnamedtuple（名前付きタプル）を返す。最初の要素が行名となる。namedtupleなので、[]のほか.でも各要素の値にアクセスできる。"
   ]
  },
  {
   "cell_type": "code",
   "execution_count": 22,
   "id": "5580713d-d4e7-4dec-9560-177c29cda1ba",
   "metadata": {},
   "outputs": [
    {
     "name": "stdout",
     "output_type": "stream",
     "text": [
      "<class 'pandas.core.frame.Pandas'>\n",
      "Pandas(Index=0, age=24, state='NY', point=64)\n",
      "0 24 NY 64\n",
      "0 24 NY 64\n",
      "======\n",
      "<class 'pandas.core.frame.Pandas'>\n",
      "Pandas(Index=1, age=42, state='CA', point=92)\n",
      "1 42 CA 92\n",
      "1 42 CA 92\n",
      "======\n"
     ]
    }
   ],
   "source": [
    "for row in df.itertuples():\n",
    "    print(type(row))\n",
    "    print(row)\n",
    "    print(row[0], row[1], row[2], row[3])\n",
    "    print(row.Index, row.age, row.state, row.point)\n",
    "    print('======')\n"
   ]
  },
  {
   "cell_type": "markdown",
   "id": "a2801c04-4bd0-49da-9a35-b0eb22f81c57",
   "metadata": {},
   "source": [
    "row[0]=row.indexがポイント。先頭のデータが配列の先頭ではないところは注意。\n",
    "\n",
    "また、引数`index`を`False`にすると`index`は要素に含まれない。また、引数`name`で`namedtuple`の名前を指定できる。\r\n",
    "\r\n"
   ]
  },
  {
   "cell_type": "code",
   "execution_count": 24,
   "id": "76f1aa02-166c-40d6-8ad9-9b19bec4f363",
   "metadata": {},
   "outputs": [
    {
     "name": "stdout",
     "output_type": "stream",
     "text": [
      "<class 'pandas.core.frame.Person'>\n",
      "Person(age=24, state='NY', point=64)\n",
      "24 NY 64\n",
      "24 NY 64\n",
      "======\n",
      "<class 'pandas.core.frame.Person'>\n",
      "Person(age=42, state='CA', point=92)\n",
      "42 CA 92\n",
      "42 CA 92\n",
      "======\n"
     ]
    }
   ],
   "source": [
    "for row in df.itertuples(index=False, name='Person'):\n",
    "    print(type(row))\n",
    "    print(row)\n",
    "    print(row[0], row[1], row[2])\n",
    "    print(row.age, row.state, row.point)\n",
    "    print('======')\n"
   ]
  },
  {
   "cell_type": "markdown",
   "id": "2930e171-f08f-4d69-b683-524e4554d46c",
   "metadata": {},
   "source": [
    "データからIndexが消えている。行番号が必要ない場合はこれを使ってもよいかもしれない。\n",
    "\n",
    "また、大量データを対象とする場合は、データ量削減のためにindexを削除してループする、とか言いそうだが、大量データの場合はそもそも対象カラムだけ抜き出して処理すべき。\n",
    "だとすると、indexが邪魔な時に指定する以外、使いどころがない気がしている。\n",
    "\n",
    "また、引数`name`を`None`にするとノーマルのタプルを返す。`index=False`よりもこっちを使うべきなきがする。"
   ]
  },
  {
   "cell_type": "code",
   "execution_count": 26,
   "id": "087f320f-6350-40a3-8dfa-492b2b3de5d2",
   "metadata": {},
   "outputs": [
    {
     "name": "stdout",
     "output_type": "stream",
     "text": [
      "<class 'tuple'>\n",
      "(0, 24, 'NY', 64)\n",
      "0 24 NY 64\n",
      "======\n",
      "<class 'tuple'>\n",
      "(1, 42, 'CA', 92)\n",
      "1 42 CA 92\n",
      "======\n"
     ]
    }
   ],
   "source": [
    "for row in df.itertuples(name=None):\n",
    "    print(type(row))\n",
    "    print(row)\n",
    "    print(row[0], row[1], row[2], row[3])\n",
    "    print('======')\n",
    "\n",
    "\n"
   ]
  },
  {
   "cell_type": "markdown",
   "id": "f5bc002a-3d2b-4e3a-b503-5c43e324dd7f",
   "metadata": {},
   "source": [
    "これだと、行番号もデータもとれるタプルが取れる。ここで、index=Falseを指定すると、普通のforループみたいになる"
   ]
  },
  {
   "cell_type": "code",
   "execution_count": 29,
   "id": "dd0ecbcb-c5c4-4c0a-8bd7-37cbad6454cf",
   "metadata": {},
   "outputs": [
    {
     "name": "stdout",
     "output_type": "stream",
     "text": [
      "<class 'tuple'>\n",
      "(24, 'NY', 64)\n",
      "24 NY 64\n",
      "======\n",
      "<class 'tuple'>\n",
      "(42, 'CA', 92)\n",
      "42 CA 92\n",
      "======\n"
     ]
    }
   ],
   "source": [
    "for row in df.itertuples(name=None,index=False):\n",
    "    print(type(row))\n",
    "    print(row)\n",
    "    print(row[0], row[1], row[2])\n",
    "    print('======')\n"
   ]
  },
  {
   "cell_type": "markdown",
   "id": "a580f8e0-fd65-46e8-8296-8e96097f6e3d",
   "metadata": {},
   "source": [
    "ちなみに、普通のforループと、forループで要素番号を取得する方法はこちら"
   ]
  },
  {
   "cell_type": "code",
   "execution_count": 52,
   "id": "e5dffddd-2337-417e-9d7d-9c1895f06fb7",
   "metadata": {},
   "outputs": [
    {
     "name": "stdout",
     "output_type": "stream",
     "text": [
      "0, Spring\n",
      "1, Summer\n",
      "2, Fall\n",
      "3, Winter\n"
     ]
    }
   ],
   "source": [
    "seasons = ['Spring', 'Summer', 'Fall', 'Winter']\n",
    "\n",
    "for index, item in enumerate(seasons):\n",
    "    print(f\"{index}, {item}\")\n"
   ]
  },
  {
   "cell_type": "markdown",
   "id": "b068d24e-feaf-4454-8794-20f2f279c22e",
   "metadata": {},
   "source": [
    "# Dataframeにカラムを追加する\n",
    "\n",
    "### dataframeの初期化"
   ]
  },
  {
   "cell_type": "code",
   "execution_count": 67,
   "id": "c4101d33-b9b1-4aad-bb92-b5187db8b37a",
   "metadata": {},
   "outputs": [
    {
     "data": {
      "text/html": [
       "<div>\n",
       "<style scoped>\n",
       "    .dataframe tbody tr th:only-of-type {\n",
       "        vertical-align: middle;\n",
       "    }\n",
       "\n",
       "    .dataframe tbody tr th {\n",
       "        vertical-align: top;\n",
       "    }\n",
       "\n",
       "    .dataframe thead th {\n",
       "        text-align: right;\n",
       "    }\n",
       "</style>\n",
       "<table border=\"1\" class=\"dataframe\">\n",
       "  <thead>\n",
       "    <tr style=\"text-align: right;\">\n",
       "      <th></th>\n",
       "      <th>age</th>\n",
       "      <th>state</th>\n",
       "      <th>point</th>\n",
       "    </tr>\n",
       "  </thead>\n",
       "  <tbody>\n",
       "    <tr>\n",
       "      <th>0</th>\n",
       "      <td>24</td>\n",
       "      <td>NY</td>\n",
       "      <td>64</td>\n",
       "    </tr>\n",
       "    <tr>\n",
       "      <th>1</th>\n",
       "      <td>42</td>\n",
       "      <td>CA</td>\n",
       "      <td>92</td>\n",
       "    </tr>\n",
       "  </tbody>\n",
       "</table>\n",
       "</div>"
      ],
      "text/plain": [
       "   age state  point\n",
       "0   24    NY     64\n",
       "1   42    CA     92"
      ]
     },
     "execution_count": 67,
     "metadata": {},
     "output_type": "execute_result"
    }
   ],
   "source": [
    "df = pd.DataFrame({'age': [24, 42], 'state': ['NY', 'CA'], 'point': [64, 92]},\n",
    "                  )\n",
    "df"
   ]
  },
  {
   "cell_type": "markdown",
   "id": "6308c748-37d5-4844-acfb-ee39b593b675",
   "metadata": {},
   "source": [
    "### 元のdataframeを更新してしまってよい場合"
   ]
  },
  {
   "cell_type": "code",
   "execution_count": 70,
   "id": "dbe3a450-12ce-4cfc-bcb6-d2210b2e0ce8",
   "metadata": {},
   "outputs": [
    {
     "name": "stdout",
     "output_type": "stream",
     "text": [
      "元のdf\n",
      "   age state  point  rank\n",
      "0   24    NY     64     1\n",
      "1   42    CA     92     1\n",
      "元のdfが更新されている\n"
     ]
    }
   ],
   "source": [
    "df = pd.DataFrame({'age': [24, 42], 'state': ['NY', 'CA'], 'point': [64, 92]},)\n",
    "print(\"df\")\n",
    "print(df)\n",
    "\n",
    "df[\"rank\"] = 1\n",
    "\n",
    "print(\"df（カラムが追加されている）\")\n",
    "print(df)\n"
   ]
  },
  {
   "cell_type": "markdown",
   "id": "76e971f2-8c17-4028-9cec-4bbdbbb99aae",
   "metadata": {},
   "source": [
    "### 元のdataframeを更新したくない場合は、assignメソッドを使う"
   ]
  },
  {
   "cell_type": "code",
   "execution_count": 72,
   "id": "77dd5d1b-59ab-45d4-904c-7a2f598ba2d4",
   "metadata": {},
   "outputs": [
    {
     "name": "stdout",
     "output_type": "stream",
     "text": [
      "元のdf\n",
      "   age state  point\n",
      "0   24    NY     64\n",
      "1   42    CA     92\n",
      "assignメソッド呼出し後も、元のdataframeは変化はない\n",
      "   age state  point\n",
      "0   24    NY     64\n",
      "1   42    CA     92\n",
      "assignメソッドで新しいオブジェクトが返却されている\n",
      "   age state  point  rank\n",
      "0   24    NY     64     1\n",
      "1   42    CA     92     1\n"
     ]
    }
   ],
   "source": [
    "df = pd.DataFrame({'age': [24, 42], 'state': ['NY', 'CA'], 'point': [64, 92]},)\n",
    "print(\"元のdf\")\n",
    "print(df)\n",
    "\n",
    "df2 = df.assign(rank = 1)\n",
    "print(\"assignメソッド呼出し後も、元のdataframeは変化はない\")\n",
    "print(df)\n",
    "print(\"assignメソッドで新しいオブジェクトが返却されている\")\n",
    "print(df2)"
   ]
  },
  {
   "cell_type": "markdown",
   "id": "1e4a88d8-bbb2-4383-bfc7-1001a4ba0ed6",
   "metadata": {},
   "source": [
    "### カラム追加の際に、三項演算子で既存カラムの値をもとに新しい値を作り、カラムを追加する"
   ]
  },
  {
   "cell_type": "code",
   "execution_count": 78,
   "id": "411bfcfc-133c-417e-99e3-d3dcdce0fbd1",
   "metadata": {},
   "outputs": [
    {
     "name": "stdout",
     "output_type": "stream",
     "text": [
      "元のdf\n",
      "   age state  point\n",
      "0   24    NY     64\n",
      "1   42    CA     92\n",
      "2   38    TX     48\n"
     ]
    },
    {
     "ename": "ValueError",
     "evalue": "The truth value of a Series is ambiguous. Use a.empty, a.bool(), a.item(), a.any() or a.all().",
     "output_type": "error",
     "traceback": [
      "\u001b[0;31m---------------------------------------------------------------------------\u001b[0m",
      "\u001b[0;31mValueError\u001b[0m                                Traceback (most recent call last)",
      "\u001b[0;32m/tmp/ipykernel_5855/2628881635.py\u001b[0m in \u001b[0;36m?\u001b[0;34m()\u001b[0m\n\u001b[1;32m      2\u001b[0m \u001b[0mprint\u001b[0m\u001b[0;34m(\u001b[0m\u001b[0;34m\"元のdf\"\u001b[0m\u001b[0;34m)\u001b[0m\u001b[0;34m\u001b[0m\u001b[0;34m\u001b[0m\u001b[0m\n\u001b[1;32m      3\u001b[0m \u001b[0mprint\u001b[0m\u001b[0;34m(\u001b[0m\u001b[0mdf\u001b[0m\u001b[0;34m)\u001b[0m\u001b[0;34m\u001b[0m\u001b[0;34m\u001b[0m\u001b[0m\n\u001b[1;32m      4\u001b[0m \u001b[0;34m\u001b[0m\u001b[0m\n\u001b[1;32m      5\u001b[0m \u001b[0;31m# これだとエラーになる\u001b[0m\u001b[0;34m\u001b[0m\u001b[0;34m\u001b[0m\u001b[0m\n\u001b[0;32m----> 6\u001b[0;31m \u001b[0mdf2\u001b[0m \u001b[0;34m=\u001b[0m \u001b[0mdf\u001b[0m\u001b[0;34m.\u001b[0m\u001b[0massign\u001b[0m\u001b[0;34m(\u001b[0m\u001b[0mrank\u001b[0m \u001b[0;34m=\u001b[0m \u001b[0;34m\"A\"\u001b[0m \u001b[0;32mif\u001b[0m \u001b[0mdf\u001b[0m\u001b[0;34m.\u001b[0m\u001b[0mpoint\u001b[0m \u001b[0;34m>\u001b[0m \u001b[0;36m80\u001b[0m \u001b[0;32melse\u001b[0m \u001b[0;34m\"B\"\u001b[0m\u001b[0;34m)\u001b[0m\u001b[0;34m\u001b[0m\u001b[0;34m\u001b[0m\u001b[0m\n\u001b[0m\u001b[1;32m      7\u001b[0m \u001b[0;34m\u001b[0m\u001b[0m\n\u001b[1;32m      8\u001b[0m \u001b[0mprint\u001b[0m\u001b[0;34m(\u001b[0m\u001b[0mdf2\u001b[0m\u001b[0;34m)\u001b[0m\u001b[0;34m\u001b[0m\u001b[0;34m\u001b[0m\u001b[0m\n",
      "\u001b[0;32m/opt/conda/lib/python3.11/site-packages/pandas/core/generic.py\u001b[0m in \u001b[0;36m?\u001b[0;34m(self)\u001b[0m\n\u001b[1;32m   1517\u001b[0m     \u001b[0;34m@\u001b[0m\u001b[0mfinal\u001b[0m\u001b[0;34m\u001b[0m\u001b[0;34m\u001b[0m\u001b[0m\n\u001b[1;32m   1518\u001b[0m     \u001b[0;32mdef\u001b[0m \u001b[0m__nonzero__\u001b[0m\u001b[0;34m(\u001b[0m\u001b[0mself\u001b[0m\u001b[0;34m)\u001b[0m \u001b[0;34m->\u001b[0m \u001b[0mNoReturn\u001b[0m\u001b[0;34m:\u001b[0m\u001b[0;34m\u001b[0m\u001b[0;34m\u001b[0m\u001b[0m\n\u001b[0;32m-> 1519\u001b[0;31m         raise ValueError(\n\u001b[0m\u001b[1;32m   1520\u001b[0m             \u001b[0;34mf\"The truth value of a {type(self).__name__} is ambiguous. \"\u001b[0m\u001b[0;34m\u001b[0m\u001b[0;34m\u001b[0m\u001b[0m\n\u001b[1;32m   1521\u001b[0m             \u001b[0;34m\"Use a.empty, a.bool(), a.item(), a.any() or a.all().\"\u001b[0m\u001b[0;34m\u001b[0m\u001b[0;34m\u001b[0m\u001b[0m\n\u001b[1;32m   1522\u001b[0m         )\n",
      "\u001b[0;31mValueError\u001b[0m: The truth value of a Series is ambiguous. Use a.empty, a.bool(), a.item(), a.any() or a.all()."
     ]
    }
   ],
   "source": [
    "df = pd.DataFrame({'age': [24, 42, 38], 'state': ['NY', 'CA', 'TX'], 'point': [64, 92, 48]},)\n",
    "print(\"元のdf\")\n",
    "print(df)\n",
    "\n",
    "# これだとエラーになる\n",
    "df2 = df.assign(rank = \"A\" if df.point > 80 else \"B\")\n",
    "\n",
    "print(df2)\n"
   ]
  },
  {
   "cell_type": "code",
   "execution_count": 82,
   "id": "7bc5bdf4-cb0e-4130-9d4b-825063d02fe1",
   "metadata": {},
   "outputs": [
    {
     "name": "stdout",
     "output_type": "stream",
     "text": [
      "元のdf\n",
      "   age state  point\n",
      "0   24    NY     64\n",
      "1   42    CA     92\n",
      "2   38    TX     48\n",
      "   age state  point rank\n",
      "0   24    NY     64    B\n",
      "1   42    CA     92    A\n",
      "2   38    TX     48    C\n"
     ]
    }
   ],
   "source": [
    "df = pd.DataFrame({'age': [24, 42, 38], 'state': ['NY', 'CA', 'TX'], 'point': [64, 92, 48]},)\n",
    "print(\"元のdf\")\n",
    "print(df)\n",
    "\n",
    "df2 = df.assign(rank = df.point.apply(lambda x : \"A\" if x > 80 else \"B\" if x > 50 else \"C\") )\n",
    "\n",
    "print(df2)"
   ]
  }
 ],
 "metadata": {
  "kernelspec": {
   "display_name": "Python 3 (ipykernel)",
   "language": "python",
   "name": "python3"
  },
  "language_info": {
   "codemirror_mode": {
    "name": "ipython",
    "version": 3
   },
   "file_extension": ".py",
   "mimetype": "text/x-python",
   "name": "python",
   "nbconvert_exporter": "python",
   "pygments_lexer": "ipython3",
   "version": "3.11.6"
  }
 },
 "nbformat": 4,
 "nbformat_minor": 5
}
