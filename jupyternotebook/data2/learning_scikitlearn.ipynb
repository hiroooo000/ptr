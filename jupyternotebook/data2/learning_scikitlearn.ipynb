{
 "cells": [
  {
   "cell_type": "markdown",
   "id": "affaf88c-093d-442e-b4a5-db8ac642b0ed",
   "metadata": {},
   "source": [
    "# scikitlearn tips"
   ]
  },
  {
   "cell_type": "code",
   "execution_count": 5,
   "id": "15b1a562-7e34-4080-a02e-0f7fd0dbae92",
   "metadata": {},
   "outputs": [],
   "source": [
    "import numpy as np\n",
    "import pandas as pd"
   ]
  },
  {
   "cell_type": "code",
   "execution_count": 8,
   "id": "09c9010f-96e0-48a9-b299-213083444406",
   "metadata": {},
   "outputs": [
    {
     "name": "stdout",
     "output_type": "stream",
     "text": [
      "a=\n",
      "[[  9 125]\n",
      " [ 64 265]\n",
      " [105 210]\n",
      " [215 484]\n",
      " [231  55]\n",
      " [297 470]\n",
      " [366 454]\n",
      " [426 490]\n",
      " [430 441]\n",
      " [447 404]]\n"
     ]
    },
    {
     "data": {
      "text/html": [
       "<div>\n",
       "<style scoped>\n",
       "    .dataframe tbody tr th:only-of-type {\n",
       "        vertical-align: middle;\n",
       "    }\n",
       "\n",
       "    .dataframe tbody tr th {\n",
       "        vertical-align: top;\n",
       "    }\n",
       "\n",
       "    .dataframe thead th {\n",
       "        text-align: right;\n",
       "    }\n",
       "</style>\n",
       "<table border=\"1\" class=\"dataframe\">\n",
       "  <thead>\n",
       "    <tr style=\"text-align: right;\">\n",
       "      <th></th>\n",
       "      <th>x</th>\n",
       "      <th>y</th>\n",
       "      <th>x_train</th>\n",
       "      <th>x_test</th>\n",
       "      <th>y_train</th>\n",
       "      <th>y_test</th>\n",
       "    </tr>\n",
       "  </thead>\n",
       "  <tbody>\n",
       "    <tr>\n",
       "      <th>0</th>\n",
       "      <td>9</td>\n",
       "      <td>125</td>\n",
       "      <td>NaN</td>\n",
       "      <td>9.0</td>\n",
       "      <td>NaN</td>\n",
       "      <td>125.0</td>\n",
       "    </tr>\n",
       "    <tr>\n",
       "      <th>1</th>\n",
       "      <td>64</td>\n",
       "      <td>265</td>\n",
       "      <td>64.0</td>\n",
       "      <td>NaN</td>\n",
       "      <td>265.0</td>\n",
       "      <td>NaN</td>\n",
       "    </tr>\n",
       "    <tr>\n",
       "      <th>2</th>\n",
       "      <td>105</td>\n",
       "      <td>210</td>\n",
       "      <td>NaN</td>\n",
       "      <td>105.0</td>\n",
       "      <td>NaN</td>\n",
       "      <td>210.0</td>\n",
       "    </tr>\n",
       "    <tr>\n",
       "      <th>3</th>\n",
       "      <td>215</td>\n",
       "      <td>484</td>\n",
       "      <td>215.0</td>\n",
       "      <td>NaN</td>\n",
       "      <td>484.0</td>\n",
       "      <td>NaN</td>\n",
       "    </tr>\n",
       "    <tr>\n",
       "      <th>4</th>\n",
       "      <td>231</td>\n",
       "      <td>55</td>\n",
       "      <td>231.0</td>\n",
       "      <td>NaN</td>\n",
       "      <td>55.0</td>\n",
       "      <td>NaN</td>\n",
       "    </tr>\n",
       "    <tr>\n",
       "      <th>5</th>\n",
       "      <td>297</td>\n",
       "      <td>470</td>\n",
       "      <td>297.0</td>\n",
       "      <td>NaN</td>\n",
       "      <td>470.0</td>\n",
       "      <td>NaN</td>\n",
       "    </tr>\n",
       "    <tr>\n",
       "      <th>6</th>\n",
       "      <td>366</td>\n",
       "      <td>454</td>\n",
       "      <td>366.0</td>\n",
       "      <td>NaN</td>\n",
       "      <td>454.0</td>\n",
       "      <td>NaN</td>\n",
       "    </tr>\n",
       "    <tr>\n",
       "      <th>7</th>\n",
       "      <td>426</td>\n",
       "      <td>490</td>\n",
       "      <td>426.0</td>\n",
       "      <td>NaN</td>\n",
       "      <td>490.0</td>\n",
       "      <td>NaN</td>\n",
       "    </tr>\n",
       "    <tr>\n",
       "      <th>8</th>\n",
       "      <td>430</td>\n",
       "      <td>441</td>\n",
       "      <td>NaN</td>\n",
       "      <td>430.0</td>\n",
       "      <td>NaN</td>\n",
       "      <td>441.0</td>\n",
       "    </tr>\n",
       "    <tr>\n",
       "      <th>9</th>\n",
       "      <td>447</td>\n",
       "      <td>404</td>\n",
       "      <td>447.0</td>\n",
       "      <td>NaN</td>\n",
       "      <td>404.0</td>\n",
       "      <td>NaN</td>\n",
       "    </tr>\n",
       "  </tbody>\n",
       "</table>\n",
       "</div>"
      ],
      "text/plain": [
       "     x    y  x_train  x_test  y_train  y_test\n",
       "0    9  125      NaN     9.0      NaN   125.0\n",
       "1   64  265     64.0     NaN    265.0     NaN\n",
       "2  105  210      NaN   105.0      NaN   210.0\n",
       "3  215  484    215.0     NaN    484.0     NaN\n",
       "4  231   55    231.0     NaN     55.0     NaN\n",
       "5  297  470    297.0     NaN    470.0     NaN\n",
       "6  366  454    366.0     NaN    454.0     NaN\n",
       "7  426  490    426.0     NaN    490.0     NaN\n",
       "8  430  441      NaN   430.0      NaN   441.0\n",
       "9  447  404    447.0     NaN    404.0     NaN"
      ]
     },
     "execution_count": 8,
     "metadata": {},
     "output_type": "execute_result"
    }
   ],
   "source": [
    "from sklearn.model_selection import train_test_split\n",
    "\n",
    "gen= np.random.default_rng()\n",
    "a = gen.integers(500,size=[10,2])\n",
    "index = np.argsort(a, axis=0)\n",
    "a = a[index[:,0]]\n",
    "\n",
    "print(f'a=\\n{a}')\n",
    "\n",
    "x_train,x_test,y_train,y_test = train_test_split(a[:,0],a[:,1],test_size=0.3)\n",
    "\n",
    "xy_df = pd.DataFrame(a,columns=[\"x\",\"y\"])\n",
    "x_train_df = pd.DataFrame(x_train, columns=[\"x_train\"])\n",
    "x_test_df = pd.DataFrame(x_test, columns=[\"x_test\"])\n",
    "y_train_df = pd.DataFrame(y_train, columns=[\"y_train\"])\n",
    "y_test_df = pd.DataFrame(y_test, columns=[\"y_test\"])\n",
    "\n",
    "#df3 = df1.merge(df2, how=\"left\", left_on=\"CID\", right_on=\"Customer_ID\")\n",
    "out_df = xy_df\\\n",
    "        .merge(x_train_df, how=\"left\", left_on=\"x\", right_on=\"x_train\")\\\n",
    "        .merge(x_test_df, how=\"left\", left_on=\"x\", right_on=\"x_test\")\\\n",
    "        .merge(y_train_df, how=\"left\", left_on=\"y\", right_on=\"y_train\")\\\n",
    "        .merge(y_test_df, how=\"left\", left_on=\"y\", right_on=\"y_test\")\\\n",
    "\n",
    "out_df\n",
    "\n",
    "\n",
    "\n"
   ]
  },
  {
   "cell_type": "markdown",
   "id": "5fa98790-68a3-49b2-b998-65246fc37b43",
   "metadata": {},
   "source": [
    "## 正答率の計算　：　sklearn.metrics.accuracy_score\n",
    "\n",
    "ここを見よ\n",
    "https://scikit-learn.org/stable/modules/generated/sklearn.metrics.accuracy_score.html#sklearn.metrics.accuracy_score\n"
   ]
  },
  {
   "cell_type": "code",
   "execution_count": 7,
   "id": "95226b7b-d377-458d-ad97-1f199045ea23",
   "metadata": {},
   "outputs": [
    {
     "data": {
      "text/plain": [
       "0.5"
      ]
     },
     "execution_count": 7,
     "metadata": {},
     "output_type": "execute_result"
    }
   ],
   "source": [
    "from sklearn.metrics import accuracy_score\n",
    "yt = np.array([0, 1, 2, 3])\n",
    "yp = np.array([0, 2, 1, 3])\n",
    "accuracy_score(yt,yp)"
   ]
  },
  {
   "cell_type": "markdown",
   "id": "e71c3d07-d3fc-4544-987d-85577b1e566f",
   "metadata": {},
   "source": [
    "## One Hot Vectorの生成\n",
    "\n",
    "ここを見よ\n",
    "\n",
    "* https://scikit-learn.org/stable/modules/generated/sklearn.preprocessing.OneHotEncoder.html#sklearn.preprocessing.OneHotEncoder"
   ]
  },
  {
   "cell_type": "code",
   "execution_count": null,
   "id": "0d0f8c78-af5d-46a5-bae0-b6a339f8d656",
   "metadata": {},
   "outputs": [],
   "source": [
    "yt = np.array([0, 1, 2, 0, 1, 2, 0, 0, 1, 0, 1, 2, 1, 2, 1, 0, 1, 0, 2, 0])\n",
    "\n"
   ]
  }
 ],
 "metadata": {
  "kernelspec": {
   "display_name": "Python 3 (ipykernel)",
   "language": "python",
   "name": "python3"
  },
  "language_info": {
   "codemirror_mode": {
    "name": "ipython",
    "version": 3
   },
   "file_extension": ".py",
   "mimetype": "text/x-python",
   "name": "python",
   "nbconvert_exporter": "python",
   "pygments_lexer": "ipython3",
   "version": "3.11.6"
  },
  "widgets": {
   "application/vnd.jupyter.widget-state+json": {
    "state": {},
    "version_major": 2,
    "version_minor": 0
   }
  }
 },
 "nbformat": 4,
 "nbformat_minor": 5
}
